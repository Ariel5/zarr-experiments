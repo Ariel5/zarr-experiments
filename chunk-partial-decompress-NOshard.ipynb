{
 "cells": [
  {
   "cell_type": "markdown",
   "id": "32073069",
   "metadata": {},
   "source": [
    "## To run this notebook correctly, make sure the main version of zarr is installed!! Not the Sharding Pull Request"
   ]
  },
  {
   "cell_type": "code",
   "execution_count": 1,
   "id": "b3b19475",
   "metadata": {},
   "outputs": [
    {
     "data": {
      "text/plain": [
       "'2.13.0a2.dev42+dirty'"
      ]
     },
     "execution_count": 1,
     "metadata": {},
     "output_type": "execute_result"
    }
   ],
   "source": [
    "import zarr # Check version\n",
    "zarr.__version__"
   ]
  },
  {
   "cell_type": "markdown",
   "id": "09861b38",
   "metadata": {},
   "source": [
    "Zarr Sharding pull request should show '0.0.0'\n",
    "\n",
    "If it says e.g. 2.13.2, then you're running on the \"proper\" published version (without Sharding support as of 28-Sept-2022)"
   ]
  },
  {
   "cell_type": "markdown",
   "id": "b4ba2968",
   "metadata": {},
   "source": [
    "### 1. I wanna test partial_decompression by accessing a random index"
   ]
  },
  {
   "cell_type": "code",
   "execution_count": 17,
   "id": "86a6291b",
   "metadata": {},
   "outputs": [],
   "source": [
    "import numpy as np\n",
    "\n",
    "\n",
    "numpy_arr = np.empty((65536, 16384), dtype=np.int32) # ~3GB\n",
    "original_shape = numpy_arr.shape\n",
    "\n",
    "# 50k x 150k int32 is limit of M1 Pro 32GB\n",
    "#\n",
    "for i in range(numpy_arr.shape[0]):\n",
    "#     numpy_arr[i][:] = list(range(original_shape[1]*i, original_shape[1]*(i+1)))\n",
    "    numpy_arr[i][:] = np.random.randint(low=0, high=original_shape[0], size=original_shape[1])"
   ]
  },
  {
   "cell_type": "code",
   "execution_count": 18,
   "id": "3a46315f",
   "metadata": {},
   "outputs": [
    {
     "name": "stdout",
     "output_type": "stream",
     "text": [
      "Memory used:  4.0  GB\n"
     ]
    }
   ],
   "source": [
    "print(\"Memory used: \", numpy_arr.nbytes / 1024 / 1024 / 1024, \" GB\")"
   ]
  },
  {
   "cell_type": "code",
   "execution_count": 19,
   "id": "354c1603",
   "metadata": {},
   "outputs": [
    {
     "data": {
      "text/plain": [
       "array([62127,  5850, 35776, 28503, 52751, 47880,  8465, 34995,   920,\n",
       "       10579], dtype=int32)"
      ]
     },
     "execution_count": 19,
     "metadata": {},
     "output_type": "execute_result"
    }
   ],
   "source": [
    "numpy_arr[0][0:10]"
   ]
  },
  {
   "cell_type": "code",
   "execution_count": 20,
   "id": "a26dc7b5",
   "metadata": {},
   "outputs": [],
   "source": [
    "# Let's make chunks really large to test partial decompression\n",
    "\n",
    "# So Let's use a weak compressor\n",
    "from numcodecs import Blosc\n",
    "weak_compressor = Blosc(cname='lz4', clevel=1, shuffle=Blosc.NOSHUFFLE)\n",
    "\n",
    "chunk_size=(4096,4096)\n",
    "\n",
    "# Reached max chunk size\n",
    "zarr_index_list = zarr.array(numpy_arr, compressor=weak_compressor, chunks=chunk_size, partial_decompress=True, dtype='i4')\n",
    "# z = zarr.zeros((10000,10000), chunks=(1000,1000), dtype='i4')"
   ]
  },
  {
   "cell_type": "code",
   "execution_count": 21,
   "id": "6579cadf",
   "metadata": {},
   "outputs": [
    {
     "data": {
      "text/html": [
       "<table class=\"zarr-info\"><tbody><tr><th style=\"text-align: left\">Type</th><td style=\"text-align: left\">zarr.core.Array</td></tr><tr><th style=\"text-align: left\">Data type</th><td style=\"text-align: left\">int32</td></tr><tr><th style=\"text-align: left\">Shape</th><td style=\"text-align: left\">(65536, 16384)</td></tr><tr><th style=\"text-align: left\">Chunk shape</th><td style=\"text-align: left\">(4096, 4096)</td></tr><tr><th style=\"text-align: left\">Order</th><td style=\"text-align: left\">C</td></tr><tr><th style=\"text-align: left\">Read-only</th><td style=\"text-align: left\">False</td></tr><tr><th style=\"text-align: left\">Compressor</th><td style=\"text-align: left\">Blosc(cname='lz4', clevel=1, shuffle=NOSHUFFLE, blocksize=0)</td></tr><tr><th style=\"text-align: left\">Store type</th><td style=\"text-align: left\">zarr.storage.KVStore</td></tr><tr><th style=\"text-align: left\">No. bytes</th><td style=\"text-align: left\">4294967296 (4.0G)</td></tr><tr><th style=\"text-align: left\">No. bytes stored</th><td style=\"text-align: left\">4294968665 (4.0G)</td></tr><tr><th style=\"text-align: left\">Storage ratio</th><td style=\"text-align: left\">1.0</td></tr><tr><th style=\"text-align: left\">Chunks initialized</th><td style=\"text-align: left\">64/64</td></tr></tbody></table>"
      ],
      "text/plain": [
       "Type               : zarr.core.Array\n",
       "Data type          : int32\n",
       "Shape              : (65536, 16384)\n",
       "Chunk shape        : (4096, 4096)\n",
       "Order              : C\n",
       "Read-only          : False\n",
       "Compressor         : Blosc(cname='lz4', clevel=1, shuffle=NOSHUFFLE,\n",
       "                   : blocksize=0)\n",
       "Store type         : zarr.storage.KVStore\n",
       "No. bytes          : 4294967296 (4.0G)\n",
       "No. bytes stored   : 4294968665 (4.0G)\n",
       "Storage ratio      : 1.0\n",
       "Chunks initialized : 64/64"
      ]
     },
     "execution_count": 21,
     "metadata": {},
     "output_type": "execute_result"
    }
   ],
   "source": [
    "zarr_index_list.info"
   ]
  },
  {
   "cell_type": "markdown",
   "id": "36f7ffd2",
   "metadata": {},
   "source": [
    "<font color=\"red\">Not sure why it's ignoring partial_decompress. Maybe it just works on open()/read()</font>"
   ]
  },
  {
   "cell_type": "code",
   "execution_count": 22,
   "id": "2e64dea5",
   "metadata": {},
   "outputs": [],
   "source": [
    "del numpy_arr # Don't need this anymore - save 3GB"
   ]
  },
  {
   "cell_type": "code",
   "execution_count": 8,
   "id": "6066ae98",
   "metadata": {},
   "outputs": [],
   "source": [
    "# # example-zarr is actually a folder\n",
    "# # z1 = zarr.open('./example-zarr', mode='w', shape=original_shape, chunks=(10000,10000), dtype='f8', partial_decompress=True)\n",
    "# zarr.save('./example-zarr', zarr_index_list)\n",
    "# # open() doesn't actually write anything, hence it being so fast"
   ]
  },
  {
   "cell_type": "code",
   "execution_count": 41,
   "id": "a1685350",
   "metadata": {},
   "outputs": [],
   "source": [
    "# USE FSSTORE IF YOU WANT PARTIAL_DECOMPRESS TO WORK!!\n",
    "\n",
    "fsstore = zarr.storage.FSStore('./fsstore4-zarr')\n",
    "z = zarr.create(store=fsstore, shape=original_shape, dtype='f8')"
   ]
  },
  {
   "cell_type": "code",
   "execution_count": 42,
   "id": "3ffcfb18",
   "metadata": {},
   "outputs": [],
   "source": [
    "# zarr.save('./example-zarr', zarr_index_list)\n",
    "zarr.save(fsstore, zarr_index_list)"
   ]
  },
  {
   "cell_type": "code",
   "execution_count": 44,
   "id": "fe575523",
   "metadata": {},
   "outputs": [
    {
     "data": {
      "text/html": [
       "<table class=\"zarr-info\"><tbody><tr><th style=\"text-align: left\">Type</th><td style=\"text-align: left\">zarr.core.Array</td></tr><tr><th style=\"text-align: left\">Data type</th><td style=\"text-align: left\">int32</td></tr><tr><th style=\"text-align: left\">Shape</th><td style=\"text-align: left\">(65536, 16384)</td></tr><tr><th style=\"text-align: left\">Chunk shape</th><td style=\"text-align: left\">(4096, 4096)</td></tr><tr><th style=\"text-align: left\">Order</th><td style=\"text-align: left\">C</td></tr><tr><th style=\"text-align: left\">Read-only</th><td style=\"text-align: left\">True</td></tr><tr><th style=\"text-align: left\">Compressor</th><td style=\"text-align: left\">Blosc(cname='lz4', clevel=5, shuffle=SHUFFLE, blocksize=0)</td></tr><tr><th style=\"text-align: left\">Store type</th><td style=\"text-align: left\">zarr.storage.FSStore</td></tr><tr><th style=\"text-align: left\">No. bytes</th><td style=\"text-align: left\">4294967296 (4.0G)</td></tr><tr><th style=\"text-align: left\">No. bytes stored</th><td style=\"text-align: left\">2156234073 (2.0G)</td></tr><tr><th style=\"text-align: left\">Storage ratio</th><td style=\"text-align: left\">2.0</td></tr><tr><th style=\"text-align: left\">Chunks initialized</th><td style=\"text-align: left\">64/64</td></tr></tbody></table>"
      ],
      "text/plain": [
       "Type               : zarr.core.Array\n",
       "Data type          : int32\n",
       "Shape              : (65536, 16384)\n",
       "Chunk shape        : (4096, 4096)\n",
       "Order              : C\n",
       "Read-only          : True\n",
       "Compressor         : Blosc(cname='lz4', clevel=5, shuffle=SHUFFLE, blocksize=0)\n",
       "Store type         : zarr.storage.FSStore\n",
       "No. bytes          : 4294967296 (4.0G)\n",
       "No. bytes stored   : 2156234073 (2.0G)\n",
       "Storage ratio      : 2.0\n",
       "Chunks initialized : 64/64"
      ]
     },
     "execution_count": 44,
     "metadata": {},
     "output_type": "execute_result"
    }
   ],
   "source": [
    "# Read array from disk\n",
    "load_disk_partial_decompress = zarr.open(fsstore, mode=\"r\", partial_decompress=True)\n",
    "load_disk_partial_decompress.info"
   ]
  },
  {
   "cell_type": "markdown",
   "id": "e8a93782",
   "metadata": {},
   "source": [
    "<font color=\"orange\"> Notice how compression changes, much higher Ratio. Chunks <10MB in size now</font>\n",
    "\n",
    "Sometimes chunks not even initialized? Sometimes 2 arrays are written to disk (i.e. a group). Not sure why"
   ]
  },
  {
   "cell_type": "code",
   "execution_count": 30,
   "id": "90b12b6e",
   "metadata": {},
   "outputs": [],
   "source": [
    "# # Read it properly, without partial_decompressing chunks\n",
    "# # load_disk_normally = zarr.open(\"./example-zarr\", mode=\"r\", partial_decompress=False)\n",
    "# load_disk_normally = zarr.open(fsstore, mode=\"r\", partial_decompress=False)\n",
    "# load_disk_normally.info"
   ]
  },
  {
   "cell_type": "code",
   "execution_count": 45,
   "id": "c7f8e254",
   "metadata": {},
   "outputs": [
    {
     "data": {
      "text/html": [
       "<table class=\"zarr-info\"><tbody><tr><th style=\"text-align: left\">Type</th><td style=\"text-align: left\">zarr.core.Array</td></tr><tr><th style=\"text-align: left\">Data type</th><td style=\"text-align: left\">int32</td></tr><tr><th style=\"text-align: left\">Shape</th><td style=\"text-align: left\">(65536, 16384)</td></tr><tr><th style=\"text-align: left\">Chunk shape</th><td style=\"text-align: left\">(4096, 4096)</td></tr><tr><th style=\"text-align: left\">Order</th><td style=\"text-align: left\">C</td></tr><tr><th style=\"text-align: left\">Read-only</th><td style=\"text-align: left\">True</td></tr><tr><th style=\"text-align: left\">Compressor</th><td style=\"text-align: left\">Blosc(cname='lz4', clevel=5, shuffle=SHUFFLE, blocksize=0)</td></tr><tr><th style=\"text-align: left\">Store type</th><td style=\"text-align: left\">zarr.storage.FSStore</td></tr><tr><th style=\"text-align: left\">No. bytes</th><td style=\"text-align: left\">4294967296 (4.0G)</td></tr><tr><th style=\"text-align: left\">No. bytes stored</th><td style=\"text-align: left\">2156234073 (2.0G)</td></tr><tr><th style=\"text-align: left\">Storage ratio</th><td style=\"text-align: left\">2.0</td></tr><tr><th style=\"text-align: left\">Chunks initialized</th><td style=\"text-align: left\">64/64</td></tr></tbody></table>"
      ],
      "text/plain": [
       "Type               : zarr.core.Array\n",
       "Data type          : int32\n",
       "Shape              : (65536, 16384)\n",
       "Chunk shape        : (4096, 4096)\n",
       "Order              : C\n",
       "Read-only          : True\n",
       "Compressor         : Blosc(cname='lz4', clevel=5, shuffle=SHUFFLE, blocksize=0)\n",
       "Store type         : zarr.storage.FSStore\n",
       "No. bytes          : 4294967296 (4.0G)\n",
       "No. bytes stored   : 2156234073 (2.0G)\n",
       "Storage ratio      : 2.0\n",
       "Chunks initialized : 64/64"
      ]
     },
     "execution_count": 45,
     "metadata": {},
     "output_type": "execute_result"
    }
   ],
   "source": [
    "# Read it properly, without partial_decompressing chunks\n",
    "# load_disk_normally = zarr.open(\"./example-zarr\", mode=\"r\", partial_decompress=False)\n",
    "load_disk_normally = zarr.open(fsstore, mode=\"r\", partial_decompress=False)\n",
    "load_disk_normally.info"
   ]
  },
  {
   "cell_type": "markdown",
   "id": "66aa3e9b",
   "metadata": {},
   "source": [
    "Both look identical so far"
   ]
  },
  {
   "cell_type": "code",
   "execution_count": 46,
   "id": "101cbae6",
   "metadata": {},
   "outputs": [
    {
     "data": {
      "text/plain": [
       "22847"
      ]
     },
     "execution_count": 46,
     "metadata": {},
     "output_type": "execute_result"
    }
   ],
   "source": [
    "load_disk_partial_decompress[0, 100]"
   ]
  },
  {
   "cell_type": "code",
   "execution_count": 47,
   "id": "09167752",
   "metadata": {},
   "outputs": [
    {
     "data": {
      "text/plain": [
       "22847"
      ]
     },
     "execution_count": 47,
     "metadata": {},
     "output_type": "execute_result"
    }
   ],
   "source": [
    "load_disk_normally[0, 100]"
   ]
  },
  {
   "cell_type": "markdown",
   "id": "b6ea7270",
   "metadata": {},
   "source": [
    "^^^ Should be 100"
   ]
  },
  {
   "cell_type": "markdown",
   "id": "dfb4fea5",
   "metadata": {},
   "source": [
    "### Let's test random access of chunks by index"
   ]
  },
  {
   "cell_type": "code",
   "execution_count": 48,
   "id": "bd086c45",
   "metadata": {},
   "outputs": [],
   "source": [
    "rand_indices = np.random.randint(low=0, high=original_shape[0], size=50)"
   ]
  },
  {
   "cell_type": "code",
   "execution_count": 52,
   "id": "f48d92b7",
   "metadata": {},
   "outputs": [
    {
     "name": "stdout",
     "output_type": "stream",
     "text": [
      "627 ms ± 4.13 ms per loop (mean ± std. dev. of 7 runs, 1 loop each)\n"
     ]
    }
   ],
   "source": [
    "%%timeit\n",
    "# Read randomly from first chunk, Using partial decompression\n",
    "\n",
    "for index in rand_indices:\n",
    "    load_disk_partial_decompress[0, index]"
   ]
  },
  {
   "cell_type": "code",
   "execution_count": 53,
   "id": "090e3ce8",
   "metadata": {},
   "outputs": [
    {
     "name": "stdout",
     "output_type": "stream",
     "text": [
      "629 ms ± 8.57 ms per loop (mean ± std. dev. of 7 runs, 1 loop each)\n"
     ]
    }
   ],
   "source": [
    "%%timeit\n",
    "# Read randomly from first chunk, Not using partial decompression\n",
    "\n",
    "for index in rand_indices:\n",
    "    load_disk_normally[0, index]"
   ]
  },
  {
   "cell_type": "markdown",
   "id": "cae7b661",
   "metadata": {},
   "source": [
    "## <font color=\"orange\"> New experiment: access one point per chunk in the whole array</font>"
   ]
  },
  {
   "cell_type": "code",
   "execution_count": 60,
   "id": "6efbfa26",
   "metadata": {},
   "outputs": [],
   "source": [
    "# TODO get this programmatically\n",
    "nr_chunks = 64"
   ]
  },
  {
   "cell_type": "code",
   "execution_count": 63,
   "id": "d425103c",
   "metadata": {},
   "outputs": [
    {
     "data": {
      "text/plain": [
       "array([     0,   7334,  10148,  13658,  17305,  21667,  24862,  31072,\n",
       "        35241,  38359,  44806,  46999,  52829,  55998,  57702,  63836,\n",
       "        66686,  70183,  77228,  81751,  82734,  89051,  93620,  96894,\n",
       "        99899, 103138, 107660, 111667, 117444, 121965, 125533, 127237,\n",
       "       131702, 138435, 141282, 143504, 149455, 152804, 158614, 162882,\n",
       "       164650, 169870, 173882, 178925, 181082, 186865, 189810, 196288,\n",
       "       198489, 203189, 205845, 212636, 213285, 219258, 225189, 228728,\n",
       "       232427, 236474, 240707, 241861, 246274, 252591, 256284, 259575])"
      ]
     },
     "execution_count": 63,
     "metadata": {},
     "output_type": "execute_result"
    }
   ],
   "source": [
    "rand_indices_whole_array = []\n",
    "\n",
    "for i in range(nr_chunks):\n",
    "    rand_indices_whole_array.append(np.random.randint(low=i*chunk_size[0], high=(i+1)*chunk_size[1]))\n",
    "\n",
    "rand_indices_whole_array = np.array(rand_indices_whole_array)\n",
    "rand_indices_whole_array"
   ]
  },
  {
   "cell_type": "code",
   "execution_count": 65,
   "id": "aed357aa",
   "metadata": {},
   "outputs": [
    {
     "data": {
      "text/plain": [
       "array([ 792, 2037, 3291, 2877, 3215,   21, 3450,  208, 1727,   29, 1506,\n",
       "       1855,  174, 1496, 3751,  231,  362, 1179, 4048, 1935, 2327, 1489,\n",
       "       2639, 1390, 2538, 1744, 3582, 2238, 3612, 3689, 1619, 3187,  420,\n",
       "       1711, 3145, 2365, 3797, 1469, 1027, 3090, 1266, 3858,  862, 1570,\n",
       "       2467, 1806, 3116,  802, 1626, 3525, 3440, 3368, 3229,  294, 2124,\n",
       "       2115, 1536,  501, 3498,  404, 1021, 1128, 3117, 3878])"
      ]
     },
     "execution_count": 65,
     "metadata": {},
     "output_type": "execute_result"
    }
   ],
   "source": [
    "rand_indices_whole = np.random.randint(low=0, high=chunk_size[0], size=nr_chunks)\n",
    "rand_indices_whole"
   ]
  },
  {
   "cell_type": "code",
   "execution_count": 68,
   "id": "2cde2185",
   "metadata": {},
   "outputs": [
    {
     "name": "stdout",
     "output_type": "stream",
     "text": [
      "799 ms ± 2.7 ms per loop (mean ± std. dev. of 7 runs, 1 loop each)\n"
     ]
    }
   ],
   "source": [
    "%%timeit\n",
    "# Read randomly from whole array, randomly 1 point from each chunk\n",
    "# TODO Don't know if my indexing is correct!!\n",
    "\n",
    "for index in rand_indices_whole_array:\n",
    "    load_disk_partial_decompress[int(index / original_shape[1]), index % original_shape[1]]"
   ]
  },
  {
   "cell_type": "markdown",
   "id": "ea7d2efd",
   "metadata": {},
   "source": [
    "### Let's test advanced mask indexing"
   ]
  },
  {
   "cell_type": "code",
   "execution_count": 54,
   "id": "07f8708a",
   "metadata": {},
   "outputs": [
    {
     "data": {
      "text/plain": [
       "array([[ True, False, False, ...,  True, False,  True],\n",
       "       [ True,  True,  True, ..., False, False,  True],\n",
       "       [False,  True, False, ..., False,  True, False],\n",
       "       ...,\n",
       "       [ True,  True, False, ..., False,  True, False],\n",
       "       [ True,  True, False, ..., False,  True, False],\n",
       "       [ True,  True, False, ..., False, False, False]])"
      ]
     },
     "execution_count": 54,
     "metadata": {},
     "output_type": "execute_result"
    }
   ],
   "source": [
    "# Create a 0-1 boolean mask with size same as Whole array\n",
    "#    Don't know how to do just 1 chunk masking\n",
    "bool_mask = np.random.randint(low=0, high=2, size=original_shape, dtype=bool)\n",
    "bool_mask"
   ]
  },
  {
   "cell_type": "code",
   "execution_count": 55,
   "id": "b667af0e",
   "metadata": {},
   "outputs": [
    {
     "ename": "KeyboardInterrupt",
     "evalue": "",
     "output_type": "error",
     "traceback": [
      "\u001b[0;31m---------------------------------------------------------------------------\u001b[0m",
      "\u001b[0;31mKeyboardInterrupt\u001b[0m                         Traceback (most recent call last)",
      "Cell \u001b[0;32mIn [55], line 1\u001b[0m\n\u001b[0;32m----> 1\u001b[0m \u001b[43mget_ipython\u001b[49m\u001b[43m(\u001b[49m\u001b[43m)\u001b[49m\u001b[38;5;241;43m.\u001b[39;49m\u001b[43mrun_cell_magic\u001b[49m\u001b[43m(\u001b[49m\u001b[38;5;124;43m'\u001b[39;49m\u001b[38;5;124;43mtimeit\u001b[39;49m\u001b[38;5;124;43m'\u001b[39;49m\u001b[43m,\u001b[49m\u001b[43m \u001b[49m\u001b[38;5;124;43m'\u001b[39;49m\u001b[38;5;124;43m'\u001b[39;49m\u001b[43m,\u001b[49m\u001b[43m \u001b[49m\u001b[38;5;124;43m'\u001b[39;49m\u001b[38;5;124;43m# Partial decompress\u001b[39;49m\u001b[38;5;130;43;01m\\n\u001b[39;49;00m\u001b[38;5;130;43;01m\\n\u001b[39;49;00m\u001b[38;5;124;43m# _ to prevent printing\u001b[39;49m\u001b[38;5;130;43;01m\\n\u001b[39;49;00m\u001b[38;5;124;43m_ = load_disk_partial_decompress.get_mask_selection(bool_mask)\u001b[39;49m\u001b[38;5;130;43;01m\\n\u001b[39;49;00m\u001b[38;5;124;43m'\u001b[39;49m\u001b[43m)\u001b[49m\n",
      "File \u001b[0;32m/opt/homebrew/lib/python3.10/site-packages/IPython/core/interactiveshell.py:2362\u001b[0m, in \u001b[0;36mInteractiveShell.run_cell_magic\u001b[0;34m(self, magic_name, line, cell)\u001b[0m\n\u001b[1;32m   2360\u001b[0m \u001b[38;5;28;01mwith\u001b[39;00m \u001b[38;5;28mself\u001b[39m\u001b[38;5;241m.\u001b[39mbuiltin_trap:\n\u001b[1;32m   2361\u001b[0m     args \u001b[38;5;241m=\u001b[39m (magic_arg_s, cell)\n\u001b[0;32m-> 2362\u001b[0m     result \u001b[38;5;241m=\u001b[39m \u001b[43mfn\u001b[49m\u001b[43m(\u001b[49m\u001b[38;5;241;43m*\u001b[39;49m\u001b[43margs\u001b[49m\u001b[43m,\u001b[49m\u001b[43m \u001b[49m\u001b[38;5;241;43m*\u001b[39;49m\u001b[38;5;241;43m*\u001b[39;49m\u001b[43mkwargs\u001b[49m\u001b[43m)\u001b[49m\n\u001b[1;32m   2363\u001b[0m \u001b[38;5;28;01mreturn\u001b[39;00m result\n",
      "File \u001b[0;32m/opt/homebrew/lib/python3.10/site-packages/IPython/core/magics/execution.py:1166\u001b[0m, in \u001b[0;36mExecutionMagics.timeit\u001b[0;34m(self, line, cell, local_ns)\u001b[0m\n\u001b[1;32m   1163\u001b[0m         \u001b[38;5;28;01mif\u001b[39;00m time_number \u001b[38;5;241m>\u001b[39m\u001b[38;5;241m=\u001b[39m \u001b[38;5;241m0.2\u001b[39m:\n\u001b[1;32m   1164\u001b[0m             \u001b[38;5;28;01mbreak\u001b[39;00m\n\u001b[0;32m-> 1166\u001b[0m all_runs \u001b[38;5;241m=\u001b[39m \u001b[43mtimer\u001b[49m\u001b[38;5;241;43m.\u001b[39;49m\u001b[43mrepeat\u001b[49m\u001b[43m(\u001b[49m\u001b[43mrepeat\u001b[49m\u001b[43m,\u001b[49m\u001b[43m \u001b[49m\u001b[43mnumber\u001b[49m\u001b[43m)\u001b[49m\n\u001b[1;32m   1167\u001b[0m best \u001b[38;5;241m=\u001b[39m \u001b[38;5;28mmin\u001b[39m(all_runs) \u001b[38;5;241m/\u001b[39m number\n\u001b[1;32m   1168\u001b[0m worst \u001b[38;5;241m=\u001b[39m \u001b[38;5;28mmax\u001b[39m(all_runs) \u001b[38;5;241m/\u001b[39m number\n",
      "File \u001b[0;32m/opt/homebrew/Cellar/python@3.10/3.10.6_2/Frameworks/Python.framework/Versions/3.10/lib/python3.10/timeit.py:206\u001b[0m, in \u001b[0;36mTimer.repeat\u001b[0;34m(self, repeat, number)\u001b[0m\n\u001b[1;32m    204\u001b[0m r \u001b[38;5;241m=\u001b[39m []\n\u001b[1;32m    205\u001b[0m \u001b[38;5;28;01mfor\u001b[39;00m i \u001b[38;5;129;01min\u001b[39;00m \u001b[38;5;28mrange\u001b[39m(repeat):\n\u001b[0;32m--> 206\u001b[0m     t \u001b[38;5;241m=\u001b[39m \u001b[38;5;28;43mself\u001b[39;49m\u001b[38;5;241;43m.\u001b[39;49m\u001b[43mtimeit\u001b[49m\u001b[43m(\u001b[49m\u001b[43mnumber\u001b[49m\u001b[43m)\u001b[49m\n\u001b[1;32m    207\u001b[0m     r\u001b[38;5;241m.\u001b[39mappend(t)\n\u001b[1;32m    208\u001b[0m \u001b[38;5;28;01mreturn\u001b[39;00m r\n",
      "File \u001b[0;32m/opt/homebrew/lib/python3.10/site-packages/IPython/core/magics/execution.py:156\u001b[0m, in \u001b[0;36mTimer.timeit\u001b[0;34m(self, number)\u001b[0m\n\u001b[1;32m    154\u001b[0m gc\u001b[38;5;241m.\u001b[39mdisable()\n\u001b[1;32m    155\u001b[0m \u001b[38;5;28;01mtry\u001b[39;00m:\n\u001b[0;32m--> 156\u001b[0m     timing \u001b[38;5;241m=\u001b[39m \u001b[38;5;28;43mself\u001b[39;49m\u001b[38;5;241;43m.\u001b[39;49m\u001b[43minner\u001b[49m\u001b[43m(\u001b[49m\u001b[43mit\u001b[49m\u001b[43m,\u001b[49m\u001b[43m \u001b[49m\u001b[38;5;28;43mself\u001b[39;49m\u001b[38;5;241;43m.\u001b[39;49m\u001b[43mtimer\u001b[49m\u001b[43m)\u001b[49m\n\u001b[1;32m    157\u001b[0m \u001b[38;5;28;01mfinally\u001b[39;00m:\n\u001b[1;32m    158\u001b[0m     \u001b[38;5;28;01mif\u001b[39;00m gcold:\n",
      "File \u001b[0;32m<magic-timeit>:4\u001b[0m, in \u001b[0;36minner\u001b[0;34m(_it, _timer)\u001b[0m\n",
      "File \u001b[0;32m/opt/homebrew/lib/python3.10/site-packages/zarr/core.py:1231\u001b[0m, in \u001b[0;36mArray.get_mask_selection\u001b[0;34m(self, selection, out, fields)\u001b[0m\n\u001b[1;32m   1228\u001b[0m \u001b[38;5;66;03m# setup indexer\u001b[39;00m\n\u001b[1;32m   1229\u001b[0m indexer \u001b[38;5;241m=\u001b[39m MaskIndexer(selection, \u001b[38;5;28mself\u001b[39m)\n\u001b[0;32m-> 1231\u001b[0m \u001b[38;5;28;01mreturn\u001b[39;00m \u001b[38;5;28;43mself\u001b[39;49m\u001b[38;5;241;43m.\u001b[39;49m\u001b[43m_get_selection\u001b[49m\u001b[43m(\u001b[49m\u001b[43mindexer\u001b[49m\u001b[38;5;241;43m=\u001b[39;49m\u001b[43mindexer\u001b[49m\u001b[43m,\u001b[49m\u001b[43m \u001b[49m\u001b[43mout\u001b[49m\u001b[38;5;241;43m=\u001b[39;49m\u001b[43mout\u001b[49m\u001b[43m,\u001b[49m\u001b[43m \u001b[49m\u001b[43mfields\u001b[49m\u001b[38;5;241;43m=\u001b[39;49m\u001b[43mfields\u001b[49m\u001b[43m)\u001b[49m\n",
      "File \u001b[0;32m/opt/homebrew/lib/python3.10/site-packages/zarr/core.py:1269\u001b[0m, in \u001b[0;36mArray._get_selection\u001b[0;34m(self, indexer, out, fields)\u001b[0m\n\u001b[1;32m   1265\u001b[0m         \u001b[38;5;28mself\u001b[39m\u001b[38;5;241m.\u001b[39m_chunk_getitem(chunk_coords, chunk_selection, out, out_selection,\n\u001b[1;32m   1266\u001b[0m                             drop_axes\u001b[38;5;241m=\u001b[39mindexer\u001b[38;5;241m.\u001b[39mdrop_axes, fields\u001b[38;5;241m=\u001b[39mfields)\n\u001b[1;32m   1267\u001b[0m \u001b[38;5;28;01melse\u001b[39;00m:\n\u001b[1;32m   1268\u001b[0m     \u001b[38;5;66;03m# allow storage to get multiple items at once\u001b[39;00m\n\u001b[0;32m-> 1269\u001b[0m     lchunk_coords, lchunk_selection, lout_selection \u001b[38;5;241m=\u001b[39m \u001b[38;5;28;43mzip\u001b[39;49m\u001b[43m(\u001b[49m\u001b[38;5;241;43m*\u001b[39;49m\u001b[43mindexer\u001b[49m\u001b[43m)\u001b[49m\n\u001b[1;32m   1270\u001b[0m     \u001b[38;5;28mself\u001b[39m\u001b[38;5;241m.\u001b[39m_chunk_getitems(lchunk_coords, lchunk_selection, out, lout_selection,\n\u001b[1;32m   1271\u001b[0m                          drop_axes\u001b[38;5;241m=\u001b[39mindexer\u001b[38;5;241m.\u001b[39mdrop_axes, fields\u001b[38;5;241m=\u001b[39mfields)\n\u001b[1;32m   1273\u001b[0m \u001b[38;5;28;01mif\u001b[39;00m out\u001b[38;5;241m.\u001b[39mshape:\n",
      "File \u001b[0;32m/opt/homebrew/lib/python3.10/site-packages/zarr/indexing.py:781\u001b[0m, in \u001b[0;36mCoordinateIndexer.__iter__\u001b[0;34m(self)\u001b[0m\n\u001b[1;32m    775\u001b[0m     out_selection \u001b[38;5;241m=\u001b[39m \u001b[38;5;28mself\u001b[39m\u001b[38;5;241m.\u001b[39msel_sort[start:stop]\n\u001b[1;32m    777\u001b[0m chunk_offsets \u001b[38;5;241m=\u001b[39m \u001b[38;5;28mtuple\u001b[39m(\n\u001b[1;32m    778\u001b[0m     dim_chunk_ix \u001b[38;5;241m*\u001b[39m dim_chunk_len\n\u001b[1;32m    779\u001b[0m     \u001b[38;5;28;01mfor\u001b[39;00m dim_chunk_ix, dim_chunk_len \u001b[38;5;129;01min\u001b[39;00m \u001b[38;5;28mzip\u001b[39m(chunk_coords, \u001b[38;5;28mself\u001b[39m\u001b[38;5;241m.\u001b[39marray\u001b[38;5;241m.\u001b[39m_chunks)\n\u001b[1;32m    780\u001b[0m )\n\u001b[0;32m--> 781\u001b[0m chunk_selection \u001b[38;5;241m=\u001b[39m \u001b[38;5;28;43mtuple\u001b[39;49m\u001b[43m(\u001b[49m\n\u001b[1;32m    782\u001b[0m \u001b[43m    \u001b[49m\u001b[43mdim_sel\u001b[49m\u001b[43m[\u001b[49m\u001b[43mstart\u001b[49m\u001b[43m:\u001b[49m\u001b[43mstop\u001b[49m\u001b[43m]\u001b[49m\u001b[43m \u001b[49m\u001b[38;5;241;43m-\u001b[39;49m\u001b[43m \u001b[49m\u001b[43mdim_chunk_offset\u001b[49m\n\u001b[1;32m    783\u001b[0m \u001b[43m    \u001b[49m\u001b[38;5;28;43;01mfor\u001b[39;49;00m\u001b[43m \u001b[49m\u001b[43m(\u001b[49m\u001b[43mdim_sel\u001b[49m\u001b[43m,\u001b[49m\u001b[43m \u001b[49m\u001b[43mdim_chunk_offset\u001b[49m\u001b[43m)\u001b[49m\u001b[43m \u001b[49m\u001b[38;5;129;43;01min\u001b[39;49;00m\u001b[43m \u001b[49m\u001b[38;5;28;43mzip\u001b[39;49m\u001b[43m(\u001b[49m\u001b[38;5;28;43mself\u001b[39;49m\u001b[38;5;241;43m.\u001b[39;49m\u001b[43mselection\u001b[49m\u001b[43m,\u001b[49m\u001b[43m \u001b[49m\u001b[43mchunk_offsets\u001b[49m\u001b[43m)\u001b[49m\n\u001b[1;32m    784\u001b[0m \u001b[43m\u001b[49m\u001b[43m)\u001b[49m\n\u001b[1;32m    786\u001b[0m \u001b[38;5;28;01myield\u001b[39;00m ChunkProjection(chunk_coords, chunk_selection, out_selection)\n",
      "File \u001b[0;32m/opt/homebrew/lib/python3.10/site-packages/zarr/indexing.py:781\u001b[0m, in \u001b[0;36m<genexpr>\u001b[0;34m(.0)\u001b[0m\n\u001b[1;32m    775\u001b[0m     out_selection \u001b[38;5;241m=\u001b[39m \u001b[38;5;28mself\u001b[39m\u001b[38;5;241m.\u001b[39msel_sort[start:stop]\n\u001b[1;32m    777\u001b[0m chunk_offsets \u001b[38;5;241m=\u001b[39m \u001b[38;5;28mtuple\u001b[39m(\n\u001b[1;32m    778\u001b[0m     dim_chunk_ix \u001b[38;5;241m*\u001b[39m dim_chunk_len\n\u001b[1;32m    779\u001b[0m     \u001b[38;5;28;01mfor\u001b[39;00m dim_chunk_ix, dim_chunk_len \u001b[38;5;129;01min\u001b[39;00m \u001b[38;5;28mzip\u001b[39m(chunk_coords, \u001b[38;5;28mself\u001b[39m\u001b[38;5;241m.\u001b[39marray\u001b[38;5;241m.\u001b[39m_chunks)\n\u001b[1;32m    780\u001b[0m )\n\u001b[0;32m--> 781\u001b[0m chunk_selection \u001b[38;5;241m=\u001b[39m \u001b[38;5;28mtuple\u001b[39m(\n\u001b[1;32m    782\u001b[0m     dim_sel[start:stop] \u001b[38;5;241m-\u001b[39m dim_chunk_offset\n\u001b[1;32m    783\u001b[0m     \u001b[38;5;28;01mfor\u001b[39;00m (dim_sel, dim_chunk_offset) \u001b[38;5;129;01min\u001b[39;00m \u001b[38;5;28mzip\u001b[39m(\u001b[38;5;28mself\u001b[39m\u001b[38;5;241m.\u001b[39mselection, chunk_offsets)\n\u001b[1;32m    784\u001b[0m )\n\u001b[1;32m    786\u001b[0m \u001b[38;5;28;01myield\u001b[39;00m ChunkProjection(chunk_coords, chunk_selection, out_selection)\n",
      "\u001b[0;31mKeyboardInterrupt\u001b[0m: "
     ]
    }
   ],
   "source": [
    "%%timeit\n",
    "# Partial decompress\n",
    "\n",
    "# _ to prevent printing\n",
    "_ = load_disk_partial_decompress.get_mask_selection(bool_mask)"
   ]
  },
  {
   "cell_type": "code",
   "execution_count": null,
   "id": "42b9774d",
   "metadata": {},
   "outputs": [],
   "source": [
    "%%timeit\n",
    "# NO Partial decompress\n",
    "\n",
    "# _ to prevent printing\n",
    "_ = load_disk_normally.get_mask_selection(bool_mask)"
   ]
  },
  {
   "cell_type": "markdown",
   "id": "3f677c2a",
   "metadata": {},
   "source": [
    "#### <font color=\"orange\">Trying Compressors. Irrelevant</font>"
   ]
  },
  {
   "cell_type": "code",
   "execution_count": 17,
   "id": "0ec72e9c",
   "metadata": {},
   "outputs": [
    {
     "name": "stdout",
     "output_type": "stream",
     "text": [
      "\u001b[34mexample-zarr\u001b[m\u001b[m         \u001b[34mtutorials\u001b[m\u001b[m            \u001b[34mzarr_python\u001b[m\u001b[m\r\n",
      "\u001b[34mexample.zarr\u001b[m\u001b[m         zarr-explore-1.ipynb\r\n"
     ]
    }
   ],
   "source": [
    "!ls"
   ]
  },
  {
   "cell_type": "code",
   "execution_count": null,
   "id": "ac5fed1f",
   "metadata": {},
   "outputs": [],
   "source": [
    "# # Check if reading from file == original array\n",
    "# import numpy as np\n",
    "\n",
    "# np.all(z[:] == z2[:])"
   ]
  },
  {
   "cell_type": "code",
   "execution_count": 18,
   "id": "c01532c3",
   "metadata": {},
   "outputs": [],
   "source": [
    "# Blosc is one of the preconditions of partial_decompress\n",
    "# https://zarr.readthedocs.io/en/stable/api/core.html\n",
    "from numcodecs import Blosc\n",
    "\n",
    "bloccc = Blosc(clevel=9)"
   ]
  },
  {
   "cell_type": "code",
   "execution_count": 19,
   "id": "65b78982",
   "metadata": {},
   "outputs": [],
   "source": [
    "z_compressed = zarr.array(zarr_index_list, compressor = bloccc)"
   ]
  },
  {
   "cell_type": "code",
   "execution_count": 20,
   "id": "361a415e",
   "metadata": {},
   "outputs": [
    {
     "data": {
      "text/plain": [
       "Blosc(cname='lz4', clevel=9, shuffle=SHUFFLE, blocksize=0)"
      ]
     },
     "execution_count": 20,
     "metadata": {},
     "output_type": "execute_result"
    }
   ],
   "source": [
    "z_compressed.compressor"
   ]
  },
  {
   "cell_type": "code",
   "execution_count": 21,
   "id": "7df34790",
   "metadata": {},
   "outputs": [
    {
     "data": {
      "text/plain": [
       "<zarr.core.Array (10000, 10000) int64>"
      ]
     },
     "execution_count": 21,
     "metadata": {},
     "output_type": "execute_result"
    }
   ],
   "source": [
    "z_compressed"
   ]
  },
  {
   "cell_type": "code",
   "execution_count": 22,
   "id": "9c1f8f66",
   "metadata": {},
   "outputs": [],
   "source": [
    "zarr.save('./example.zarr', z_compressed)"
   ]
  },
  {
   "cell_type": "code",
   "execution_count": 15,
   "id": "d9686342",
   "metadata": {},
   "outputs": [
    {
     "name": "stderr",
     "output_type": "stream",
     "text": [
      "\n",
      "KeyboardInterrupt\n",
      "\n"
     ]
    }
   ],
   "source": [
    "z2\n"
   ]
  }
 ],
 "metadata": {
  "kernelspec": {
   "display_name": "Python 3 (ipykernel)",
   "language": "python",
   "name": "python3"
  },
  "language_info": {
   "codemirror_mode": {
    "name": "ipython",
    "version": 3
   },
   "file_extension": ".py",
   "mimetype": "text/x-python",
   "name": "python",
   "nbconvert_exporter": "python",
   "pygments_lexer": "ipython3",
   "version": "3.10.6"
  }
 },
 "nbformat": 4,
 "nbformat_minor": 5
}
