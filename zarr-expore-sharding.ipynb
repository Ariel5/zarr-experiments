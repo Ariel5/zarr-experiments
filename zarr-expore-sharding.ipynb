{
 "cells": [
  {
   "cell_type": "markdown",
   "id": "6a7de897",
   "metadata": {},
   "source": [
    "# To properly try sharding, run pip install ./zarr_python\n",
    "\n",
    "This will install the Sharding Pull Request in the zarr pip list"
   ]
  },
  {
   "cell_type": "code",
   "execution_count": 1,
   "id": "a1f97dc1",
   "metadata": {},
   "outputs": [
    {
     "data": {
      "text/plain": [
       "'2.13.0a2.dev42+dirty'"
      ]
     },
     "execution_count": 1,
     "metadata": {},
     "output_type": "execute_result"
    }
   ],
   "source": [
    "import zarr\n",
    "zarr.__version__"
   ]
  },
  {
   "cell_type": "markdown",
   "id": "5af3c07c",
   "metadata": {},
   "source": [
    "^^^ Should be '2.13.0a2.dev42+dirty' if Sharding PR is installed"
   ]
  },
  {
   "cell_type": "code",
   "execution_count": 2,
   "id": "cdb52414",
   "metadata": {},
   "outputs": [],
   "source": [
    "import numpy as np\n",
    "\n",
    "\n",
    "numpy_arr = np.empty((60000, 15000), dtype=np.uint32) # ~3GB\n",
    "original_shape = numpy_arr.shape\n",
    "\n",
    "# 50k x 150k int32 is limit of M1 Pro 32GB\n",
    "#\n",
    "for i in range(numpy_arr.shape[0]):\n",
    "    numpy_arr[i][:] = list(range(original_shape[1]*i, original_shape[1]*(i+1)))"
   ]
  },
  {
   "cell_type": "code",
   "execution_count": 3,
   "id": "75f33893",
   "metadata": {},
   "outputs": [
    {
     "name": "stderr",
     "output_type": "stream",
     "text": [
      "/opt/homebrew/lib/python3.10/site-packages/zarr/creation.py:241: UserWarning: ignoring keyword argument 'partial_decompress'\n",
      "  warn('ignoring keyword argument %r' % k)\n"
     ]
    }
   ],
   "source": [
    "# Let's make chunks really large to test partial decompression\n",
    "\n",
    "# So Let's use a weak compressor\n",
    "from numcodecs import Blosc\n",
    "weak_compressor = Blosc(cname='lz4', clevel=1, shuffle=Blosc.NOSHUFFLE)\n",
    "\n",
    "chunk_size=(15000,15000)\n",
    "\n",
    "# Reached max chunk size\n",
    "zarr_index_list = zarr.array(numpy_arr, compressor=weak_compressor, chunks=chunk_size, partial_decompress=True, dtype='f8')\n",
    "# z = zarr.zeros((10000,10000), chunks=(1000,1000), dtype='i4')"
   ]
  },
  {
   "cell_type": "code",
   "execution_count": 4,
   "id": "40af129c",
   "metadata": {},
   "outputs": [
    {
     "data": {
      "text/html": [
       "<table class=\"zarr-info\"><tbody><tr><th style=\"text-align: left\">Type</th><td style=\"text-align: left\">zarr.core.Array</td></tr><tr><th style=\"text-align: left\">Data type</th><td style=\"text-align: left\">float64</td></tr><tr><th style=\"text-align: left\">Shape</th><td style=\"text-align: left\">(60000, 15000)</td></tr><tr><th style=\"text-align: left\">Chunk shape</th><td style=\"text-align: left\">(15000, 15000)</td></tr><tr><th style=\"text-align: left\">Order</th><td style=\"text-align: left\">C</td></tr><tr><th style=\"text-align: left\">Read-only</th><td style=\"text-align: left\">False</td></tr><tr><th style=\"text-align: left\">Compressor</th><td style=\"text-align: left\">Blosc(cname='lz4', clevel=1, shuffle=NOSHUFFLE, blocksize=0)</td></tr><tr><th style=\"text-align: left\">Store type</th><td style=\"text-align: left\">zarr.storage.KVStore</td></tr><tr><th style=\"text-align: left\">No. bytes</th><td style=\"text-align: left\">7200000000 (6.7G)</td></tr><tr><th style=\"text-align: left\">No. bytes stored</th><td style=\"text-align: left\">3630779699 (3.4G)</td></tr><tr><th style=\"text-align: left\">Storage ratio</th><td style=\"text-align: left\">2.0</td></tr><tr><th style=\"text-align: left\">Chunks initialized</th><td style=\"text-align: left\">4/4</td></tr></tbody></table>"
      ],
      "text/plain": [
       "Type               : zarr.core.Array\n",
       "Data type          : float64\n",
       "Shape              : (60000, 15000)\n",
       "Chunk shape        : (15000, 15000)\n",
       "Order              : C\n",
       "Read-only          : False\n",
       "Compressor         : Blosc(cname='lz4', clevel=1, shuffle=NOSHUFFLE,\n",
       "                   : blocksize=0)\n",
       "Store type         : zarr.storage.KVStore\n",
       "No. bytes          : 7200000000 (6.7G)\n",
       "No. bytes stored   : 3630779699 (3.4G)\n",
       "Storage ratio      : 2.0\n",
       "Chunks initialized : 4/4"
      ]
     },
     "execution_count": 4,
     "metadata": {},
     "output_type": "execute_result"
    }
   ],
   "source": [
    "zarr_index_list.info"
   ]
  },
  {
   "cell_type": "code",
   "execution_count": null,
   "id": "5e7094a1",
   "metadata": {},
   "outputs": [],
   "source": [
    "# Read it properly, without partial_decompressing chunks\n",
    "load_disk_normally = zarr.open(\"./example-zarr\", mode=\"r\", partial_decompress=False)\n",
    "load_disk_normally.info"
   ]
  }
 ],
 "metadata": {
  "kernelspec": {
   "display_name": ".venv",
   "language": "python",
   "name": ".venv"
  },
  "language_info": {
   "codemirror_mode": {
    "name": "ipython",
    "version": 3
   },
   "file_extension": ".py",
   "mimetype": "text/x-python",
   "name": "python",
   "nbconvert_exporter": "python",
   "pygments_lexer": "ipython3",
   "version": "3.10.6"
  }
 },
 "nbformat": 4,
 "nbformat_minor": 5
}
