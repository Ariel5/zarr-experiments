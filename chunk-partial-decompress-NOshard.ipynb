{
 "cells": [
  {
   "cell_type": "code",
   "execution_count": 1,
   "id": "b3b19475",
   "metadata": {},
   "outputs": [
    {
     "data": {
      "text/plain": [
       "'2.13.2'"
      ]
     },
     "execution_count": 1,
     "metadata": {},
     "output_type": "execute_result"
    }
   ],
   "source": [
    "import zarr # Check version\n",
    "zarr.__version__"
   ]
  },
  {
   "cell_type": "markdown",
   "id": "09861b38",
   "metadata": {},
   "source": [
    "Zarr Sharding pull request should show '0.0.0'\n",
    "\n",
    "If it says e.g. 2.13.2, then you're running on the \"proper\" published version (without Sharding support as of 28-Sept-2022)"
   ]
  },
  {
   "cell_type": "markdown",
   "id": "b4ba2968",
   "metadata": {},
   "source": [
    "### 1. I wanna test partial_decompression by accessing a random index"
   ]
  },
  {
   "cell_type": "code",
   "execution_count": 5,
   "id": "86a6291b",
   "metadata": {},
   "outputs": [],
   "source": [
    "import numpy as np\n",
    "\n",
    "\n",
    "numpy_arr = np.empty((50000, 15000), dtype=np.uint32) # ~3GB\n",
    "original_shape = numpy_arr.shape\n",
    "\n",
    "# 50k x 150k int32 is limit of M1 Pro 32GB\n",
    "#\n",
    "for i in range(numpy_arr.shape[0]):\n",
    "    numpy_arr[i][:] = list(range(original_shape[1]*i, original_shape[1]*(i+1)))"
   ]
  },
  {
   "cell_type": "code",
   "execution_count": 13,
   "id": "a26dc7b5",
   "metadata": {},
   "outputs": [],
   "source": [
    "# Let's make chunks really large to test partial decompression\n",
    "# 10k x 10k ~ 800MB per chunk\n",
    "\n",
    "zarr_index_list = zarr.array(numpy_arr, chunks=(10000,10000), partial_decompress=True, dtype='f8')\n",
    "# z = zarr.zeros((10000,10000), chunks=(1000,1000), dtype='i4')\n",
    "# z"
   ]
  },
  {
   "cell_type": "code",
   "execution_count": 16,
   "id": "6066ae98",
   "metadata": {},
   "outputs": [],
   "source": [
    "# example-zarr is actually a folder\n",
    "z1 = zarr.open('./example-zarr', mode='w', shape=(10000,10000), chunks=(1000,1000), dtype='i4')\n",
    "# I don't think it's flushed to disk yet. Only folder created"
   ]
  },
  {
   "cell_type": "code",
   "execution_count": 17,
   "id": "0ec72e9c",
   "metadata": {},
   "outputs": [
    {
     "name": "stdout",
     "output_type": "stream",
     "text": [
      "\u001b[34mexample-zarr\u001b[m\u001b[m         \u001b[34mtutorials\u001b[m\u001b[m            \u001b[34mzarr_python\u001b[m\u001b[m\r\n",
      "\u001b[34mexample.zarr\u001b[m\u001b[m         zarr-explore-1.ipynb\r\n"
     ]
    }
   ],
   "source": [
    "!ls"
   ]
  },
  {
   "cell_type": "code",
   "execution_count": 5,
   "id": "fe575523",
   "metadata": {},
   "outputs": [
    {
     "data": {
      "text/plain": [
       "<zarr.core.Array (10000, 10000) int32 read-only>"
      ]
     },
     "execution_count": 5,
     "metadata": {},
     "output_type": "execute_result"
    }
   ],
   "source": [
    "# # Read from array\n",
    "# z2 = zarr.open(\"./example.zarr\", mode=\"r\")\n",
    "# z2"
   ]
  },
  {
   "cell_type": "code",
   "execution_count": null,
   "id": "ac5fed1f",
   "metadata": {},
   "outputs": [],
   "source": [
    "# # Check if reading from file == original array\n",
    "# import numpy as np\n",
    "\n",
    "# np.all(z[:] == z2[:])"
   ]
  },
  {
   "cell_type": "markdown",
   "id": "3f677c2a",
   "metadata": {},
   "source": [
    "#### <font color=\"orange\">Trying Compressors</font>"
   ]
  },
  {
   "cell_type": "code",
   "execution_count": 18,
   "id": "c01532c3",
   "metadata": {},
   "outputs": [],
   "source": [
    "# Blosc is one of the preconditions of partial_decompress\n",
    "# https://zarr.readthedocs.io/en/stable/api/core.html\n",
    "from numcodecs import Blosc\n",
    "\n",
    "bloccc = Blosc(clevel=9)"
   ]
  },
  {
   "cell_type": "code",
   "execution_count": 19,
   "id": "65b78982",
   "metadata": {},
   "outputs": [],
   "source": [
    "z_compressed = zarr.array(zarr_index_list, compressor = bloccc)"
   ]
  },
  {
   "cell_type": "code",
   "execution_count": 20,
   "id": "361a415e",
   "metadata": {},
   "outputs": [
    {
     "data": {
      "text/plain": [
       "Blosc(cname='lz4', clevel=9, shuffle=SHUFFLE, blocksize=0)"
      ]
     },
     "execution_count": 20,
     "metadata": {},
     "output_type": "execute_result"
    }
   ],
   "source": [
    "z_compressed.compressor"
   ]
  },
  {
   "cell_type": "code",
   "execution_count": 21,
   "id": "7df34790",
   "metadata": {},
   "outputs": [
    {
     "data": {
      "text/plain": [
       "<zarr.core.Array (10000, 10000) int64>"
      ]
     },
     "execution_count": 21,
     "metadata": {},
     "output_type": "execute_result"
    }
   ],
   "source": [
    "z_compressed"
   ]
  },
  {
   "cell_type": "code",
   "execution_count": 22,
   "id": "9c1f8f66",
   "metadata": {},
   "outputs": [],
   "source": [
    "zarr.save('./example.zarr', z_compressed)"
   ]
  },
  {
   "cell_type": "code",
   "execution_count": 15,
   "id": "d9686342",
   "metadata": {},
   "outputs": [
    {
     "name": "stderr",
     "output_type": "stream",
     "text": [
      "\n",
      "KeyboardInterrupt\n",
      "\n"
     ]
    }
   ],
   "source": [
    "z2\n"
   ]
  }
 ],
 "metadata": {
  "kernelspec": {
   "display_name": "Python 3 (ipykernel)",
   "language": "python",
   "name": "python3"
  },
  "language_info": {
   "codemirror_mode": {
    "name": "ipython",
    "version": 3
   },
   "file_extension": ".py",
   "mimetype": "text/x-python",
   "name": "python",
   "nbconvert_exporter": "python",
   "pygments_lexer": "ipython3",
   "version": "3.10.6"
  }
 },
 "nbformat": 4,
 "nbformat_minor": 5
}
