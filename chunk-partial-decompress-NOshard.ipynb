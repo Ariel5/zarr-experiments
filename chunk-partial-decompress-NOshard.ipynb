{
 "cells": [
  {
   "cell_type": "markdown",
   "id": "35f3f7cc",
   "metadata": {},
   "source": [
    "## Found how to get partial_decompress=True from zarr_python library code, file \"build/lib/zarr/tests/test_core.py\" test function test_read_nitems_less_than_blocksize_from_multiple_chunks in line 2683"
   ]
  },
  {
   "cell_type": "code",
   "execution_count": 1,
   "id": "b3b19475",
   "metadata": {},
   "outputs": [
    {
     "data": {
      "text/plain": [
       "'2.13.0a2.dev42+dirty'"
      ]
     },
     "execution_count": 1,
     "metadata": {},
     "output_type": "execute_result"
    }
   ],
   "source": [
    "import zarr # Check version\n",
    "zarr.__version__"
   ]
  },
  {
   "cell_type": "markdown",
   "id": "09861b38",
   "metadata": {},
   "source": [
    "Zarr Sharding pull request should show '0.0.0'\n",
    "\n",
    "If it says e.g. 2.13.2, then you're running on the \"proper\" published version (without Sharding support as of 28-Sept-2022)"
   ]
  },
  {
   "cell_type": "markdown",
   "id": "b4ba2968",
   "metadata": {},
   "source": [
    "### 1. I wanna test partial_decompression by accessing a random index"
   ]
  },
  {
   "cell_type": "code",
   "execution_count": 25,
   "id": "86a6291b",
   "metadata": {},
   "outputs": [],
   "source": [
    "import numpy as np\n",
    "\n",
    "\n",
    "numpy_arr = np.empty((65536, 16384), dtype=np.int32) # ~3GB\n",
    "original_shape = numpy_arr.shape\n",
    "\n",
    "# 50k x 150k int32 is limit of M1 Pro 32GB\n",
    "for i in range(numpy_arr.shape[0]):\n",
    "#     numpy_arr[i][:] = list(range(original_shape[1]*i, original_shape[1]*(i+1)))\n",
    "    numpy_arr[i][:] = np.random.randint(low=0, high=original_shape[0], size=original_shape[1])"
   ]
  },
  {
   "cell_type": "code",
   "execution_count": 3,
   "id": "3a46315f",
   "metadata": {},
   "outputs": [
    {
     "name": "stdout",
     "output_type": "stream",
     "text": [
      "Memory used:  4.0  GB\n"
     ]
    }
   ],
   "source": [
    "print(\"Memory used: \", numpy_arr.nbytes / 1024 / 1024 / 1024, \" GB\")"
   ]
  },
  {
   "cell_type": "code",
   "execution_count": 4,
   "id": "00e385d1-ea3e-494d-b39c-860329a66135",
   "metadata": {},
   "outputs": [
    {
     "data": {
      "text/plain": [
       "array([15383, 23676, 56778, 54049, 29433,  9470, 49877, 58731, 41759,\n",
       "       12500], dtype=int32)"
      ]
     },
     "execution_count": 4,
     "metadata": {},
     "output_type": "execute_result"
    }
   ],
   "source": [
    "numpy_arr[0][0:10]"
   ]
  },
  {
   "cell_type": "markdown",
   "id": "38fa47d1",
   "metadata": {},
   "source": [
    "### Following code in zarr test_core.py:2653"
   ]
  },
  {
   "cell_type": "code",
   "execution_count": 5,
   "id": "5628f002-450a-430c-99e5-b39576fd2249",
   "metadata": {},
   "outputs": [],
   "source": [
    "# All these extra parameters are irrelevant to _partial_decompress being enabled. Path is enough\n",
    "# fsstore = zarr.storage.FSStore('./fsstore', key_separator=\"/\", auto_mkdir=True, mode='w', normalize_keys=False)\n",
    "\n",
    "fsstore = zarr.storage.FSStore('./fsstore')"
   ]
  },
  {
   "cell_type": "code",
   "execution_count": 6,
   "id": "a26dc7b5",
   "metadata": {},
   "outputs": [],
   "source": [
    "# chunk_size=(4096,4096)\n",
    "\n",
    "zarr_index_list = zarr.array(numpy_arr, store=fsstore)#, chunk_store = fsstore_chunk, partial_decompress=True, chunks=chunk_size, dtype='i4')# compressor=weak_compressor, "
   ]
  },
  {
   "cell_type": "code",
   "execution_count": 7,
   "id": "3afabdad",
   "metadata": {},
   "outputs": [
    {
     "data": {
      "text/html": [
       "<table class=\"zarr-info\"><tbody><tr><th style=\"text-align: left\">Type</th><td style=\"text-align: left\">zarr.core.Array</td></tr><tr><th style=\"text-align: left\">Data type</th><td style=\"text-align: left\">int32</td></tr><tr><th style=\"text-align: left\">Shape</th><td style=\"text-align: left\">(65536, 16384)</td></tr><tr><th style=\"text-align: left\">Chunk shape</th><td style=\"text-align: left\">(2048, 512)</td></tr><tr><th style=\"text-align: left\">Order</th><td style=\"text-align: left\">C</td></tr><tr><th style=\"text-align: left\">Read-only</th><td style=\"text-align: left\">False</td></tr><tr><th style=\"text-align: left\">Compressor</th><td style=\"text-align: left\">Blosc(cname='lz4', clevel=5, shuffle=SHUFFLE, blocksize=0)</td></tr><tr><th style=\"text-align: left\">Store type</th><td style=\"text-align: left\">zarr.storage.FSStore</td></tr><tr><th style=\"text-align: left\">No. bytes</th><td style=\"text-align: left\">4294967296 (4.0G)</td></tr><tr><th style=\"text-align: left\">No. bytes stored</th><td style=\"text-align: left\">2156249432 (2.0G)</td></tr><tr><th style=\"text-align: left\">Storage ratio</th><td style=\"text-align: left\">2.0</td></tr><tr><th style=\"text-align: left\">Chunks initialized</th><td style=\"text-align: left\">1024/1024</td></tr></tbody></table>"
      ],
      "text/plain": [
       "Type               : zarr.core.Array\n",
       "Data type          : int32\n",
       "Shape              : (65536, 16384)\n",
       "Chunk shape        : (2048, 512)\n",
       "Order              : C\n",
       "Read-only          : False\n",
       "Compressor         : Blosc(cname='lz4', clevel=5, shuffle=SHUFFLE, blocksize=0)\n",
       "Store type         : zarr.storage.FSStore\n",
       "No. bytes          : 4294967296 (4.0G)\n",
       "No. bytes stored   : 2156249432 (2.0G)\n",
       "Storage ratio      : 2.0\n",
       "Chunks initialized : 1024/1024"
      ]
     },
     "execution_count": 7,
     "metadata": {},
     "output_type": "execute_result"
    }
   ],
   "source": [
    "zarr_index_list.info"
   ]
  },
  {
   "cell_type": "code",
   "execution_count": 8,
   "id": "cd11c7d6",
   "metadata": {},
   "outputs": [
    {
     "name": "stdout",
     "output_type": "stream",
     "text": [
      "_partial_decompress:  False\n"
     ]
    }
   ],
   "source": [
    "print(\"_partial_decompress: \", zarr_index_list._partial_decompress)"
   ]
  },
  {
   "cell_type": "markdown",
   "id": "5ef8f2bd",
   "metadata": {},
   "source": [
    "<font color=\"orange\">As we can see, partial_decompress is False. Don't panic!</font>"
   ]
  },
  {
   "cell_type": "code",
   "execution_count": 26,
   "id": "717478c7",
   "metadata": {},
   "outputs": [],
   "source": [
    "# Flush to disk\n",
    "zarr.save(fsstore, numpy_arr)"
   ]
  },
  {
   "cell_type": "code",
   "execution_count": 27,
   "id": "a088d78c",
   "metadata": {},
   "outputs": [],
   "source": [
    "# Load from disk\n",
    "\n",
    "# read_only doesn't affect partial_decompress eligibility\n",
    "load_partial_decomp = zarr.Array(fsstore, read_only=True, partial_decompress=True)"
   ]
  },
  {
   "cell_type": "code",
   "execution_count": 28,
   "id": "fadc083b",
   "metadata": {},
   "outputs": [
    {
     "data": {
      "text/plain": [
       "True"
      ]
     },
     "execution_count": 28,
     "metadata": {},
     "output_type": "execute_result"
    }
   ],
   "source": [
    "load_partial_decomp._partial_decompress"
   ]
  },
  {
   "cell_type": "markdown",
   "id": "ee79a4c3",
   "metadata": {},
   "source": [
    "#### <font color=\"orange\">Solved! Partial_decompress=True</font>"
   ]
  },
  {
   "cell_type": "code",
   "execution_count": 29,
   "id": "3016537f",
   "metadata": {},
   "outputs": [
    {
     "data": {
      "text/html": [
       "<table class=\"zarr-info\"><tbody><tr><th style=\"text-align: left\">Type</th><td style=\"text-align: left\">zarr.core.Array</td></tr><tr><th style=\"text-align: left\">Data type</th><td style=\"text-align: left\">int32</td></tr><tr><th style=\"text-align: left\">Shape</th><td style=\"text-align: left\">(65536, 16384)</td></tr><tr><th style=\"text-align: left\">Chunk shape</th><td style=\"text-align: left\">(2048, 512)</td></tr><tr><th style=\"text-align: left\">Order</th><td style=\"text-align: left\">C</td></tr><tr><th style=\"text-align: left\">Read-only</th><td style=\"text-align: left\">True</td></tr><tr><th style=\"text-align: left\">Compressor</th><td style=\"text-align: left\">Blosc(cname='lz4', clevel=5, shuffle=SHUFFLE, blocksize=0)</td></tr><tr><th style=\"text-align: left\">Store type</th><td style=\"text-align: left\">zarr.storage.FSStore</td></tr><tr><th style=\"text-align: left\">No. bytes</th><td style=\"text-align: left\">4294967296 (4.0G)</td></tr><tr><th style=\"text-align: left\">No. bytes stored</th><td style=\"text-align: left\">2156249432 (2.0G)</td></tr><tr><th style=\"text-align: left\">Storage ratio</th><td style=\"text-align: left\">2.0</td></tr><tr><th style=\"text-align: left\">Chunks initialized</th><td style=\"text-align: left\">1024/1024</td></tr></tbody></table>"
      ],
      "text/plain": [
       "Type               : zarr.core.Array\n",
       "Data type          : int32\n",
       "Shape              : (65536, 16384)\n",
       "Chunk shape        : (2048, 512)\n",
       "Order              : C\n",
       "Read-only          : True\n",
       "Compressor         : Blosc(cname='lz4', clevel=5, shuffle=SHUFFLE, blocksize=0)\n",
       "Store type         : zarr.storage.FSStore\n",
       "No. bytes          : 4294967296 (4.0G)\n",
       "No. bytes stored   : 2156249432 (2.0G)\n",
       "Storage ratio      : 2.0\n",
       "Chunks initialized : 1024/1024"
      ]
     },
     "execution_count": 29,
     "metadata": {},
     "output_type": "execute_result"
    }
   ],
   "source": [
    "load_partial_decomp.info"
   ]
  },
  {
   "cell_type": "code",
   "execution_count": 14,
   "id": "2e64dea5",
   "metadata": {},
   "outputs": [],
   "source": [
    "del numpy_arr # Don't need this anymore - save 3GB"
   ]
  },
  {
   "cell_type": "markdown",
   "id": "e8a93782",
   "metadata": {},
   "source": [
    "Sometimes chunks not even initialized? Sometimes 2 arrays are written to disk (i.e. a group). Not sure why"
   ]
  },
  {
   "cell_type": "code",
   "execution_count": 33,
   "id": "101cbae6",
   "metadata": {},
   "outputs": [
    {
     "data": {
      "text/plain": [
       "array([36124, 38441, 30424, 59465, 21410], dtype=int32)"
      ]
     },
     "execution_count": 33,
     "metadata": {},
     "output_type": "execute_result"
    }
   ],
   "source": [
    "load_partial_decomp[0, 100:105]"
   ]
  },
  {
   "cell_type": "code",
   "execution_count": 31,
   "id": "7e6248f9",
   "metadata": {},
   "outputs": [],
   "source": [
    "load_disk_normally = zarr.open(fsstore) # , partial_decompress=True) -- This won't work !!"
   ]
  },
  {
   "cell_type": "code",
   "execution_count": 32,
   "id": "1f07dcad",
   "metadata": {},
   "outputs": [
    {
     "data": {
      "text/plain": [
       "False"
      ]
     },
     "execution_count": 32,
     "metadata": {},
     "output_type": "execute_result"
    }
   ],
   "source": [
    "load_disk_normally._partial_decompress"
   ]
  },
  {
   "cell_type": "code",
   "execution_count": 34,
   "id": "09167752",
   "metadata": {},
   "outputs": [
    {
     "data": {
      "text/plain": [
       "array([36124, 38441, 30424, 59465, 21410], dtype=int32)"
      ]
     },
     "execution_count": 34,
     "metadata": {},
     "output_type": "execute_result"
    }
   ],
   "source": [
    "load_disk_normally[0, 100:105]"
   ]
  },
  {
   "cell_type": "code",
   "execution_count": 36,
   "id": "f88f3d03",
   "metadata": {},
   "outputs": [
    {
     "data": {
      "text/plain": [
       "True"
      ]
     },
     "execution_count": 36,
     "metadata": {},
     "output_type": "execute_result"
    }
   ],
   "source": [
    "# Do the two match?\n",
    "(load_partial_decomp[0, 100:105] == load_disk_normally[0, 100:105]).all()"
   ]
  },
  {
   "cell_type": "markdown",
   "id": "dfb4fea5",
   "metadata": {},
   "source": [
    "### Let's test random access of chunks by index"
   ]
  },
  {
   "cell_type": "code",
   "execution_count": 41,
   "id": "df666642",
   "metadata": {},
   "outputs": [
    {
     "data": {
      "text/plain": [
       "['__array__',\n",
       " '__class__',\n",
       " '__delattr__',\n",
       " '__dict__',\n",
       " '__dir__',\n",
       " '__doc__',\n",
       " '__eq__',\n",
       " '__format__',\n",
       " '__ge__',\n",
       " '__getattribute__',\n",
       " '__getitem__',\n",
       " '__getstate__',\n",
       " '__gt__',\n",
       " '__hash__',\n",
       " '__init__',\n",
       " '__init_subclass__',\n",
       " '__iter__',\n",
       " '__le__',\n",
       " '__len__',\n",
       " '__lt__',\n",
       " '__module__',\n",
       " '__ne__',\n",
       " '__new__',\n",
       " '__reduce__',\n",
       " '__reduce_ex__',\n",
       " '__repr__',\n",
       " '__setattr__',\n",
       " '__setitem__',\n",
       " '__setstate__',\n",
       " '__sizeof__',\n",
       " '__str__',\n",
       " '__subclasshook__',\n",
       " '__weakref__',\n",
       " '_append_nosync',\n",
       " '_attrs',\n",
       " '_cache_metadata',\n",
       " '_cdata_shape',\n",
       " '_chunk_delitem',\n",
       " '_chunk_delitems',\n",
       " '_chunk_getitem',\n",
       " '_chunk_getitems',\n",
       " '_chunk_key',\n",
       " '_chunk_setitem',\n",
       " '_chunk_setitem_nosync',\n",
       " '_chunk_setitems',\n",
       " '_chunk_store',\n",
       " '_chunks',\n",
       " '_compressor',\n",
       " '_decode_chunk',\n",
       " '_dimension_separator',\n",
       " '_dtype',\n",
       " '_encode_chunk',\n",
       " '_fill_value',\n",
       " '_filters',\n",
       " '_flush_metadata_nosync',\n",
       " '_get_basic_selection_nd',\n",
       " '_get_basic_selection_zd',\n",
       " '_get_selection',\n",
       " '_info_items_nosync',\n",
       " '_info_reporter',\n",
       " '_is_view',\n",
       " '_key_prefix',\n",
       " '_load_metadata',\n",
       " '_load_metadata_nosync',\n",
       " '_meta',\n",
       " '_nbytes',\n",
       " '_nchunks',\n",
       " '_oindex',\n",
       " '_order',\n",
       " '_partial_decompress',\n",
       " '_path',\n",
       " '_process_chunk',\n",
       " '_process_for_setitem',\n",
       " '_read_only',\n",
       " '_refresh_metadata',\n",
       " '_refresh_metadata_nosync',\n",
       " '_resize_nosync',\n",
       " '_set_basic_selection_nd',\n",
       " '_set_basic_selection_zd',\n",
       " '_set_selection',\n",
       " '_shape',\n",
       " '_size',\n",
       " '_store',\n",
       " '_synchronized_op',\n",
       " '_synchronizer',\n",
       " '_transformed_chunk_store',\n",
       " '_version',\n",
       " '_vindex',\n",
       " '_write_empty_chunks',\n",
       " '_write_op',\n",
       " 'append',\n",
       " 'astype',\n",
       " 'attrs',\n",
       " 'basename',\n",
       " 'cdata_shape',\n",
       " 'chunk_store',\n",
       " 'chunks',\n",
       " 'compressor',\n",
       " 'digest',\n",
       " 'dtype',\n",
       " 'fill_value',\n",
       " 'filters',\n",
       " 'get_basic_selection',\n",
       " 'get_coordinate_selection',\n",
       " 'get_mask_selection',\n",
       " 'get_orthogonal_selection',\n",
       " 'hexdigest',\n",
       " 'info',\n",
       " 'info_items',\n",
       " 'initialized',\n",
       " 'is_view',\n",
       " 'islice',\n",
       " 'itemsize',\n",
       " 'name',\n",
       " 'nbytes',\n",
       " 'nbytes_stored',\n",
       " 'nchunks',\n",
       " 'nchunks_initialized',\n",
       " 'ndim',\n",
       " 'oindex',\n",
       " 'order',\n",
       " 'path',\n",
       " 'read_only',\n",
       " 'resize',\n",
       " 'set_basic_selection',\n",
       " 'set_coordinate_selection',\n",
       " 'set_mask_selection',\n",
       " 'set_orthogonal_selection',\n",
       " 'shape',\n",
       " 'size',\n",
       " 'store',\n",
       " 'synchronizer',\n",
       " 'view',\n",
       " 'vindex',\n",
       " 'write_empty_chunks']"
      ]
     },
     "execution_count": 41,
     "metadata": {},
     "output_type": "execute_result"
    }
   ],
   "source": [
    "dir(load_partial_decomp)"
   ]
  },
  {
   "cell_type": "code",
   "execution_count": 46,
   "id": "45cbb4b1",
   "metadata": {},
   "outputs": [],
   "source": [
    "chunk_shape = (2048, 512)"
   ]
  },
  {
   "cell_type": "code",
   "execution_count": null,
   "id": "13eec0f2",
   "metadata": {},
   "outputs": [],
   "source": [
    "rand_indices_list = np.random.randint(low=0, high=original_shape[0], size=50)"
   ]
  },
  {
   "cell_type": "code",
   "execution_count": null,
   "id": "f48d92b7",
   "metadata": {},
   "outputs": [],
   "source": [
    "%%timeit\n",
    "# Read randomly from first chunk, Using partial decompression\n",
    "\n",
    "for index in rand_indices:\n",
    "    load_partial_decomp[0, index]"
   ]
  },
  {
   "cell_type": "code",
   "execution_count": 53,
   "id": "090e3ce8",
   "metadata": {},
   "outputs": [
    {
     "name": "stdout",
     "output_type": "stream",
     "text": [
      "629 ms ± 8.57 ms per loop (mean ± std. dev. of 7 runs, 1 loop each)\n"
     ]
    }
   ],
   "source": [
    "%%timeit\n",
    "# Read randomly from first chunk, Not using partial decompression\n",
    "\n",
    "for index in rand_indices:\n",
    "    load_disk_normally[0, index]"
   ]
  },
  {
   "cell_type": "markdown",
   "id": "10a82506",
   "metadata": {},
   "source": [
    "#### <font color=\"orange\">Let's access the chunks using 2D accesses now</font>"
   ]
  },
  {
   "cell_type": "code",
   "execution_count": 51,
   "id": "bd086c45",
   "metadata": {},
   "outputs": [],
   "source": [
    "rand_indices_tuples = (np.random.randint(low=0, high=chunk_shape[0], size=50), np.random.randint(low=0, high=chunk_shape[1], size=50))"
   ]
  },
  {
   "cell_type": "code",
   "execution_count": 52,
   "id": "ed0a59c0",
   "metadata": {},
   "outputs": [
    {
     "data": {
      "text/plain": [
       "(array([ 976, 1070, 1339, 1454, 1365, 1397, 1104,  589,  217, 1249, 1880,\n",
       "         826, 1754, 1320, 1930,  122, 1428,  417,    4,  514, 1970,   74,\n",
       "         208,  267, 1929, 1986,  874, 1122,  410,  909, 1814,  911,  592,\n",
       "         458,  709,  501,  288,   77, 1881, 1123, 1744, 1936,  184, 1067,\n",
       "        1489,  508,  230, 1520, 1068,  503]),\n",
       " array([145, 420, 176, 277, 175, 251, 311, 146, 375, 352, 503, 172, 425,\n",
       "        315,  30, 135, 389, 243, 462, 373, 199, 156, 345, 298, 269,  36,\n",
       "        497, 352, 346, 322, 233, 161,  47, 159, 435, 412, 475, 213, 502,\n",
       "        434, 339,  55, 380, 385, 489,  98,  19, 510, 156, 268]))"
      ]
     },
     "execution_count": 52,
     "metadata": {},
     "output_type": "execute_result"
    }
   ],
   "source": [
    "rand_indices_tuples"
   ]
  },
  {
   "cell_type": "code",
   "execution_count": 53,
   "id": "ef5bb926",
   "metadata": {},
   "outputs": [
    {
     "data": {
      "text/plain": [
       "1070"
      ]
     },
     "execution_count": 53,
     "metadata": {},
     "output_type": "execute_result"
    }
   ],
   "source": [
    "rand_indices_tuples[0][1]"
   ]
  },
  {
   "cell_type": "markdown",
   "id": "1d02a565",
   "metadata": {},
   "source": [
    "TODO set range(50) programmatically"
   ]
  },
  {
   "cell_type": "code",
   "execution_count": 58,
   "id": "fcf307b0",
   "metadata": {},
   "outputs": [
    {
     "name": "stdout",
     "output_type": "stream",
     "text": [
      "38.8 ms ± 1.26 ms per loop (mean ± std. dev. of 7 runs, 10 loops each)\n"
     ]
    }
   ],
   "source": [
    "%%timeit\n",
    "# Read randomly from first chunk, Not using partial decompression\n",
    "\n",
    "for i in range(50):\n",
    "    load_partial_decomp[rand_indices_tuples[0][i], rand_indices_tuples[1][i]]"
   ]
  },
  {
   "cell_type": "code",
   "execution_count": 57,
   "id": "62edacc4",
   "metadata": {},
   "outputs": [
    {
     "name": "stdout",
     "output_type": "stream",
     "text": [
      "70.4 ms ± 1.56 ms per loop (mean ± std. dev. of 7 runs, 10 loops each)\n"
     ]
    }
   ],
   "source": [
    "%%timeit\n",
    "# Read randomly from first chunk, Not using partial decompression\n",
    "\n",
    "for i in range(50):\n",
    "    load_disk_normally[rand_indices_tuples[0][i], rand_indices_tuples[1][i]]"
   ]
  },
  {
   "cell_type": "markdown",
   "id": "b7c92308",
   "metadata": {},
   "source": [
    "## <font color=\"orange\"> New experiment: access one point per chunk in the whole array</font>"
   ]
  },
  {
   "cell_type": "code",
   "execution_count": 69,
   "id": "133c64d1",
   "metadata": {},
   "outputs": [
    {
     "data": {
      "text/html": [
       "<table class=\"zarr-info\"><tbody><tr><th style=\"text-align: left\">Type</th><td style=\"text-align: left\">zarr.core.Array</td></tr><tr><th style=\"text-align: left\">Data type</th><td style=\"text-align: left\">int32</td></tr><tr><th style=\"text-align: left\">Shape</th><td style=\"text-align: left\">(65536, 16384)</td></tr><tr><th style=\"text-align: left\">Chunk shape</th><td style=\"text-align: left\">(2048, 512)</td></tr><tr><th style=\"text-align: left\">Order</th><td style=\"text-align: left\">C</td></tr><tr><th style=\"text-align: left\">Read-only</th><td style=\"text-align: left\">True</td></tr><tr><th style=\"text-align: left\">Compressor</th><td style=\"text-align: left\">Blosc(cname='lz4', clevel=5, shuffle=SHUFFLE, blocksize=0)</td></tr><tr><th style=\"text-align: left\">Store type</th><td style=\"text-align: left\">zarr.storage.FSStore</td></tr><tr><th style=\"text-align: left\">No. bytes</th><td style=\"text-align: left\">4294967296 (4.0G)</td></tr><tr><th style=\"text-align: left\">No. bytes stored</th><td style=\"text-align: left\">2156249432 (2.0G)</td></tr><tr><th style=\"text-align: left\">Storage ratio</th><td style=\"text-align: left\">2.0</td></tr><tr><th style=\"text-align: left\">Chunks initialized</th><td style=\"text-align: left\">1024/1024</td></tr></tbody></table>"
      ],
      "text/plain": [
       "Type               : zarr.core.Array\n",
       "Data type          : int32\n",
       "Shape              : (65536, 16384)\n",
       "Chunk shape        : (2048, 512)\n",
       "Order              : C\n",
       "Read-only          : True\n",
       "Compressor         : Blosc(cname='lz4', clevel=5, shuffle=SHUFFLE, blocksize=0)\n",
       "Store type         : zarr.storage.FSStore\n",
       "No. bytes          : 4294967296 (4.0G)\n",
       "No. bytes stored   : 2156249432 (2.0G)\n",
       "Storage ratio      : 2.0\n",
       "Chunks initialized : 1024/1024"
      ]
     },
     "execution_count": 69,
     "metadata": {},
     "output_type": "execute_result"
    }
   ],
   "source": [
    "load_partial_decomp.info"
   ]
  },
  {
   "cell_type": "code",
   "execution_count": 75,
   "id": "e8415713",
   "metadata": {},
   "outputs": [
    {
     "data": {
      "text/plain": [
       "1024"
      ]
     },
     "execution_count": 75,
     "metadata": {},
     "output_type": "execute_result"
    }
   ],
   "source": [
    "32**2"
   ]
  },
  {
   "cell_type": "code",
   "execution_count": 76,
   "id": "6057a43d",
   "metadata": {},
   "outputs": [],
   "source": [
    "from itertools import product"
   ]
  },
  {
   "cell_type": "code",
   "execution_count": 81,
   "id": "45fca90d",
   "metadata": {
    "scrolled": true
   },
   "outputs": [
    {
     "data": {
      "text/plain": [
       "[(50, 50),\n",
       " (50, 562),\n",
       " (50, 1074),\n",
       " (50, 1586),\n",
       " (50, 2098),\n",
       " (50, 2610),\n",
       " (50, 3122),\n",
       " (50, 3634),\n",
       " (50, 4146),\n",
       " (50, 4658),\n",
       " (50, 5170),\n",
       " (50, 5682),\n",
       " (50, 6194),\n",
       " (50, 6706),\n",
       " (50, 7218),\n",
       " (50, 7730),\n",
       " (50, 8242),\n",
       " (50, 8754),\n",
       " (50, 9266),\n",
       " (50, 9778),\n",
       " (50, 10290),\n",
       " (50, 10802),\n",
       " (50, 11314),\n",
       " (50, 11826),\n",
       " (50, 12338),\n",
       " (50, 12850),\n",
       " (50, 13362),\n",
       " (50, 13874),\n",
       " (50, 14386),\n",
       " (50, 14898),\n",
       " (50, 15410),\n",
       " (50, 15922),\n",
       " (2098, 50),\n",
       " (2098, 562),\n",
       " (2098, 1074),\n",
       " (2098, 1586),\n",
       " (2098, 2098),\n",
       " (2098, 2610),\n",
       " (2098, 3122),\n",
       " (2098, 3634),\n",
       " (2098, 4146),\n",
       " (2098, 4658),\n",
       " (2098, 5170),\n",
       " (2098, 5682),\n",
       " (2098, 6194),\n",
       " (2098, 6706),\n",
       " (2098, 7218),\n",
       " (2098, 7730),\n",
       " (2098, 8242),\n",
       " (2098, 8754),\n",
       " (2098, 9266),\n",
       " (2098, 9778),\n",
       " (2098, 10290),\n",
       " (2098, 10802),\n",
       " (2098, 11314),\n",
       " (2098, 11826),\n",
       " (2098, 12338),\n",
       " (2098, 12850),\n",
       " (2098, 13362),\n",
       " (2098, 13874),\n",
       " (2098, 14386),\n",
       " (2098, 14898),\n",
       " (2098, 15410),\n",
       " (2098, 15922),\n",
       " (4146, 50),\n",
       " (4146, 562),\n",
       " (4146, 1074),\n",
       " (4146, 1586),\n",
       " (4146, 2098),\n",
       " (4146, 2610),\n",
       " (4146, 3122),\n",
       " (4146, 3634),\n",
       " (4146, 4146),\n",
       " (4146, 4658),\n",
       " (4146, 5170),\n",
       " (4146, 5682),\n",
       " (4146, 6194),\n",
       " (4146, 6706),\n",
       " (4146, 7218),\n",
       " (4146, 7730),\n",
       " (4146, 8242),\n",
       " (4146, 8754),\n",
       " (4146, 9266),\n",
       " (4146, 9778),\n",
       " (4146, 10290),\n",
       " (4146, 10802),\n",
       " (4146, 11314),\n",
       " (4146, 11826),\n",
       " (4146, 12338),\n",
       " (4146, 12850),\n",
       " (4146, 13362),\n",
       " (4146, 13874),\n",
       " (4146, 14386),\n",
       " (4146, 14898),\n",
       " (4146, 15410),\n",
       " (4146, 15922),\n",
       " (6194, 50),\n",
       " (6194, 562),\n",
       " (6194, 1074),\n",
       " (6194, 1586),\n",
       " (6194, 2098),\n",
       " (6194, 2610),\n",
       " (6194, 3122),\n",
       " (6194, 3634),\n",
       " (6194, 4146),\n",
       " (6194, 4658),\n",
       " (6194, 5170),\n",
       " (6194, 5682),\n",
       " (6194, 6194),\n",
       " (6194, 6706),\n",
       " (6194, 7218),\n",
       " (6194, 7730),\n",
       " (6194, 8242),\n",
       " (6194, 8754),\n",
       " (6194, 9266),\n",
       " (6194, 9778),\n",
       " (6194, 10290),\n",
       " (6194, 10802),\n",
       " (6194, 11314),\n",
       " (6194, 11826),\n",
       " (6194, 12338),\n",
       " (6194, 12850),\n",
       " (6194, 13362),\n",
       " (6194, 13874),\n",
       " (6194, 14386),\n",
       " (6194, 14898),\n",
       " (6194, 15410),\n",
       " (6194, 15922),\n",
       " (8242, 50),\n",
       " (8242, 562),\n",
       " (8242, 1074),\n",
       " (8242, 1586),\n",
       " (8242, 2098),\n",
       " (8242, 2610),\n",
       " (8242, 3122),\n",
       " (8242, 3634),\n",
       " (8242, 4146),\n",
       " (8242, 4658),\n",
       " (8242, 5170),\n",
       " (8242, 5682),\n",
       " (8242, 6194),\n",
       " (8242, 6706),\n",
       " (8242, 7218),\n",
       " (8242, 7730),\n",
       " (8242, 8242),\n",
       " (8242, 8754),\n",
       " (8242, 9266),\n",
       " (8242, 9778),\n",
       " (8242, 10290),\n",
       " (8242, 10802),\n",
       " (8242, 11314),\n",
       " (8242, 11826),\n",
       " (8242, 12338),\n",
       " (8242, 12850),\n",
       " (8242, 13362),\n",
       " (8242, 13874),\n",
       " (8242, 14386),\n",
       " (8242, 14898),\n",
       " (8242, 15410),\n",
       " (8242, 15922),\n",
       " (10290, 50),\n",
       " (10290, 562),\n",
       " (10290, 1074),\n",
       " (10290, 1586),\n",
       " (10290, 2098),\n",
       " (10290, 2610),\n",
       " (10290, 3122),\n",
       " (10290, 3634),\n",
       " (10290, 4146),\n",
       " (10290, 4658),\n",
       " (10290, 5170),\n",
       " (10290, 5682),\n",
       " (10290, 6194),\n",
       " (10290, 6706),\n",
       " (10290, 7218),\n",
       " (10290, 7730),\n",
       " (10290, 8242),\n",
       " (10290, 8754),\n",
       " (10290, 9266),\n",
       " (10290, 9778),\n",
       " (10290, 10290),\n",
       " (10290, 10802),\n",
       " (10290, 11314),\n",
       " (10290, 11826),\n",
       " (10290, 12338),\n",
       " (10290, 12850),\n",
       " (10290, 13362),\n",
       " (10290, 13874),\n",
       " (10290, 14386),\n",
       " (10290, 14898),\n",
       " (10290, 15410),\n",
       " (10290, 15922),\n",
       " (12338, 50),\n",
       " (12338, 562),\n",
       " (12338, 1074),\n",
       " (12338, 1586),\n",
       " (12338, 2098),\n",
       " (12338, 2610),\n",
       " (12338, 3122),\n",
       " (12338, 3634),\n",
       " (12338, 4146),\n",
       " (12338, 4658),\n",
       " (12338, 5170),\n",
       " (12338, 5682),\n",
       " (12338, 6194),\n",
       " (12338, 6706),\n",
       " (12338, 7218),\n",
       " (12338, 7730),\n",
       " (12338, 8242),\n",
       " (12338, 8754),\n",
       " (12338, 9266),\n",
       " (12338, 9778),\n",
       " (12338, 10290),\n",
       " (12338, 10802),\n",
       " (12338, 11314),\n",
       " (12338, 11826),\n",
       " (12338, 12338),\n",
       " (12338, 12850),\n",
       " (12338, 13362),\n",
       " (12338, 13874),\n",
       " (12338, 14386),\n",
       " (12338, 14898),\n",
       " (12338, 15410),\n",
       " (12338, 15922),\n",
       " (14386, 50),\n",
       " (14386, 562),\n",
       " (14386, 1074),\n",
       " (14386, 1586),\n",
       " (14386, 2098),\n",
       " (14386, 2610),\n",
       " (14386, 3122),\n",
       " (14386, 3634),\n",
       " (14386, 4146),\n",
       " (14386, 4658),\n",
       " (14386, 5170),\n",
       " (14386, 5682),\n",
       " (14386, 6194),\n",
       " (14386, 6706),\n",
       " (14386, 7218),\n",
       " (14386, 7730),\n",
       " (14386, 8242),\n",
       " (14386, 8754),\n",
       " (14386, 9266),\n",
       " (14386, 9778),\n",
       " (14386, 10290),\n",
       " (14386, 10802),\n",
       " (14386, 11314),\n",
       " (14386, 11826),\n",
       " (14386, 12338),\n",
       " (14386, 12850),\n",
       " (14386, 13362),\n",
       " (14386, 13874),\n",
       " (14386, 14386),\n",
       " (14386, 14898),\n",
       " (14386, 15410),\n",
       " (14386, 15922),\n",
       " (16434, 50),\n",
       " (16434, 562),\n",
       " (16434, 1074),\n",
       " (16434, 1586),\n",
       " (16434, 2098),\n",
       " (16434, 2610),\n",
       " (16434, 3122),\n",
       " (16434, 3634),\n",
       " (16434, 4146),\n",
       " (16434, 4658),\n",
       " (16434, 5170),\n",
       " (16434, 5682),\n",
       " (16434, 6194),\n",
       " (16434, 6706),\n",
       " (16434, 7218),\n",
       " (16434, 7730),\n",
       " (16434, 8242),\n",
       " (16434, 8754),\n",
       " (16434, 9266),\n",
       " (16434, 9778),\n",
       " (16434, 10290),\n",
       " (16434, 10802),\n",
       " (16434, 11314),\n",
       " (16434, 11826),\n",
       " (16434, 12338),\n",
       " (16434, 12850),\n",
       " (16434, 13362),\n",
       " (16434, 13874),\n",
       " (16434, 14386),\n",
       " (16434, 14898),\n",
       " (16434, 15410),\n",
       " (16434, 15922),\n",
       " (18482, 50),\n",
       " (18482, 562),\n",
       " (18482, 1074),\n",
       " (18482, 1586),\n",
       " (18482, 2098),\n",
       " (18482, 2610),\n",
       " (18482, 3122),\n",
       " (18482, 3634),\n",
       " (18482, 4146),\n",
       " (18482, 4658),\n",
       " (18482, 5170),\n",
       " (18482, 5682),\n",
       " (18482, 6194),\n",
       " (18482, 6706),\n",
       " (18482, 7218),\n",
       " (18482, 7730),\n",
       " (18482, 8242),\n",
       " (18482, 8754),\n",
       " (18482, 9266),\n",
       " (18482, 9778),\n",
       " (18482, 10290),\n",
       " (18482, 10802),\n",
       " (18482, 11314),\n",
       " (18482, 11826),\n",
       " (18482, 12338),\n",
       " (18482, 12850),\n",
       " (18482, 13362),\n",
       " (18482, 13874),\n",
       " (18482, 14386),\n",
       " (18482, 14898),\n",
       " (18482, 15410),\n",
       " (18482, 15922),\n",
       " (20530, 50),\n",
       " (20530, 562),\n",
       " (20530, 1074),\n",
       " (20530, 1586),\n",
       " (20530, 2098),\n",
       " (20530, 2610),\n",
       " (20530, 3122),\n",
       " (20530, 3634),\n",
       " (20530, 4146),\n",
       " (20530, 4658),\n",
       " (20530, 5170),\n",
       " (20530, 5682),\n",
       " (20530, 6194),\n",
       " (20530, 6706),\n",
       " (20530, 7218),\n",
       " (20530, 7730),\n",
       " (20530, 8242),\n",
       " (20530, 8754),\n",
       " (20530, 9266),\n",
       " (20530, 9778),\n",
       " (20530, 10290),\n",
       " (20530, 10802),\n",
       " (20530, 11314),\n",
       " (20530, 11826),\n",
       " (20530, 12338),\n",
       " (20530, 12850),\n",
       " (20530, 13362),\n",
       " (20530, 13874),\n",
       " (20530, 14386),\n",
       " (20530, 14898),\n",
       " (20530, 15410),\n",
       " (20530, 15922),\n",
       " (22578, 50),\n",
       " (22578, 562),\n",
       " (22578, 1074),\n",
       " (22578, 1586),\n",
       " (22578, 2098),\n",
       " (22578, 2610),\n",
       " (22578, 3122),\n",
       " (22578, 3634),\n",
       " (22578, 4146),\n",
       " (22578, 4658),\n",
       " (22578, 5170),\n",
       " (22578, 5682),\n",
       " (22578, 6194),\n",
       " (22578, 6706),\n",
       " (22578, 7218),\n",
       " (22578, 7730),\n",
       " (22578, 8242),\n",
       " (22578, 8754),\n",
       " (22578, 9266),\n",
       " (22578, 9778),\n",
       " (22578, 10290),\n",
       " (22578, 10802),\n",
       " (22578, 11314),\n",
       " (22578, 11826),\n",
       " (22578, 12338),\n",
       " (22578, 12850),\n",
       " (22578, 13362),\n",
       " (22578, 13874),\n",
       " (22578, 14386),\n",
       " (22578, 14898),\n",
       " (22578, 15410),\n",
       " (22578, 15922),\n",
       " (24626, 50),\n",
       " (24626, 562),\n",
       " (24626, 1074),\n",
       " (24626, 1586),\n",
       " (24626, 2098),\n",
       " (24626, 2610),\n",
       " (24626, 3122),\n",
       " (24626, 3634),\n",
       " (24626, 4146),\n",
       " (24626, 4658),\n",
       " (24626, 5170),\n",
       " (24626, 5682),\n",
       " (24626, 6194),\n",
       " (24626, 6706),\n",
       " (24626, 7218),\n",
       " (24626, 7730),\n",
       " (24626, 8242),\n",
       " (24626, 8754),\n",
       " (24626, 9266),\n",
       " (24626, 9778),\n",
       " (24626, 10290),\n",
       " (24626, 10802),\n",
       " (24626, 11314),\n",
       " (24626, 11826),\n",
       " (24626, 12338),\n",
       " (24626, 12850),\n",
       " (24626, 13362),\n",
       " (24626, 13874),\n",
       " (24626, 14386),\n",
       " (24626, 14898),\n",
       " (24626, 15410),\n",
       " (24626, 15922),\n",
       " (26674, 50),\n",
       " (26674, 562),\n",
       " (26674, 1074),\n",
       " (26674, 1586),\n",
       " (26674, 2098),\n",
       " (26674, 2610),\n",
       " (26674, 3122),\n",
       " (26674, 3634),\n",
       " (26674, 4146),\n",
       " (26674, 4658),\n",
       " (26674, 5170),\n",
       " (26674, 5682),\n",
       " (26674, 6194),\n",
       " (26674, 6706),\n",
       " (26674, 7218),\n",
       " (26674, 7730),\n",
       " (26674, 8242),\n",
       " (26674, 8754),\n",
       " (26674, 9266),\n",
       " (26674, 9778),\n",
       " (26674, 10290),\n",
       " (26674, 10802),\n",
       " (26674, 11314),\n",
       " (26674, 11826),\n",
       " (26674, 12338),\n",
       " (26674, 12850),\n",
       " (26674, 13362),\n",
       " (26674, 13874),\n",
       " (26674, 14386),\n",
       " (26674, 14898),\n",
       " (26674, 15410),\n",
       " (26674, 15922),\n",
       " (28722, 50),\n",
       " (28722, 562),\n",
       " (28722, 1074),\n",
       " (28722, 1586),\n",
       " (28722, 2098),\n",
       " (28722, 2610),\n",
       " (28722, 3122),\n",
       " (28722, 3634),\n",
       " (28722, 4146),\n",
       " (28722, 4658),\n",
       " (28722, 5170),\n",
       " (28722, 5682),\n",
       " (28722, 6194),\n",
       " (28722, 6706),\n",
       " (28722, 7218),\n",
       " (28722, 7730),\n",
       " (28722, 8242),\n",
       " (28722, 8754),\n",
       " (28722, 9266),\n",
       " (28722, 9778),\n",
       " (28722, 10290),\n",
       " (28722, 10802),\n",
       " (28722, 11314),\n",
       " (28722, 11826),\n",
       " (28722, 12338),\n",
       " (28722, 12850),\n",
       " (28722, 13362),\n",
       " (28722, 13874),\n",
       " (28722, 14386),\n",
       " (28722, 14898),\n",
       " (28722, 15410),\n",
       " (28722, 15922),\n",
       " (30770, 50),\n",
       " (30770, 562),\n",
       " (30770, 1074),\n",
       " (30770, 1586),\n",
       " (30770, 2098),\n",
       " (30770, 2610),\n",
       " (30770, 3122),\n",
       " (30770, 3634),\n",
       " (30770, 4146),\n",
       " (30770, 4658),\n",
       " (30770, 5170),\n",
       " (30770, 5682),\n",
       " (30770, 6194),\n",
       " (30770, 6706),\n",
       " (30770, 7218),\n",
       " (30770, 7730),\n",
       " (30770, 8242),\n",
       " (30770, 8754),\n",
       " (30770, 9266),\n",
       " (30770, 9778),\n",
       " (30770, 10290),\n",
       " (30770, 10802),\n",
       " (30770, 11314),\n",
       " (30770, 11826),\n",
       " (30770, 12338),\n",
       " (30770, 12850),\n",
       " (30770, 13362),\n",
       " (30770, 13874),\n",
       " (30770, 14386),\n",
       " (30770, 14898),\n",
       " (30770, 15410),\n",
       " (30770, 15922),\n",
       " (32818, 50),\n",
       " (32818, 562),\n",
       " (32818, 1074),\n",
       " (32818, 1586),\n",
       " (32818, 2098),\n",
       " (32818, 2610),\n",
       " (32818, 3122),\n",
       " (32818, 3634),\n",
       " (32818, 4146),\n",
       " (32818, 4658),\n",
       " (32818, 5170),\n",
       " (32818, 5682),\n",
       " (32818, 6194),\n",
       " (32818, 6706),\n",
       " (32818, 7218),\n",
       " (32818, 7730),\n",
       " (32818, 8242),\n",
       " (32818, 8754),\n",
       " (32818, 9266),\n",
       " (32818, 9778),\n",
       " (32818, 10290),\n",
       " (32818, 10802),\n",
       " (32818, 11314),\n",
       " (32818, 11826),\n",
       " (32818, 12338),\n",
       " (32818, 12850),\n",
       " (32818, 13362),\n",
       " (32818, 13874),\n",
       " (32818, 14386),\n",
       " (32818, 14898),\n",
       " (32818, 15410),\n",
       " (32818, 15922),\n",
       " (34866, 50),\n",
       " (34866, 562),\n",
       " (34866, 1074),\n",
       " (34866, 1586),\n",
       " (34866, 2098),\n",
       " (34866, 2610),\n",
       " (34866, 3122),\n",
       " (34866, 3634),\n",
       " (34866, 4146),\n",
       " (34866, 4658),\n",
       " (34866, 5170),\n",
       " (34866, 5682),\n",
       " (34866, 6194),\n",
       " (34866, 6706),\n",
       " (34866, 7218),\n",
       " (34866, 7730),\n",
       " (34866, 8242),\n",
       " (34866, 8754),\n",
       " (34866, 9266),\n",
       " (34866, 9778),\n",
       " (34866, 10290),\n",
       " (34866, 10802),\n",
       " (34866, 11314),\n",
       " (34866, 11826),\n",
       " (34866, 12338),\n",
       " (34866, 12850),\n",
       " (34866, 13362),\n",
       " (34866, 13874),\n",
       " (34866, 14386),\n",
       " (34866, 14898),\n",
       " (34866, 15410),\n",
       " (34866, 15922),\n",
       " (36914, 50),\n",
       " (36914, 562),\n",
       " (36914, 1074),\n",
       " (36914, 1586),\n",
       " (36914, 2098),\n",
       " (36914, 2610),\n",
       " (36914, 3122),\n",
       " (36914, 3634),\n",
       " (36914, 4146),\n",
       " (36914, 4658),\n",
       " (36914, 5170),\n",
       " (36914, 5682),\n",
       " (36914, 6194),\n",
       " (36914, 6706),\n",
       " (36914, 7218),\n",
       " (36914, 7730),\n",
       " (36914, 8242),\n",
       " (36914, 8754),\n",
       " (36914, 9266),\n",
       " (36914, 9778),\n",
       " (36914, 10290),\n",
       " (36914, 10802),\n",
       " (36914, 11314),\n",
       " (36914, 11826),\n",
       " (36914, 12338),\n",
       " (36914, 12850),\n",
       " (36914, 13362),\n",
       " (36914, 13874),\n",
       " (36914, 14386),\n",
       " (36914, 14898),\n",
       " (36914, 15410),\n",
       " (36914, 15922),\n",
       " (38962, 50),\n",
       " (38962, 562),\n",
       " (38962, 1074),\n",
       " (38962, 1586),\n",
       " (38962, 2098),\n",
       " (38962, 2610),\n",
       " (38962, 3122),\n",
       " (38962, 3634),\n",
       " (38962, 4146),\n",
       " (38962, 4658),\n",
       " (38962, 5170),\n",
       " (38962, 5682),\n",
       " (38962, 6194),\n",
       " (38962, 6706),\n",
       " (38962, 7218),\n",
       " (38962, 7730),\n",
       " (38962, 8242),\n",
       " (38962, 8754),\n",
       " (38962, 9266),\n",
       " (38962, 9778),\n",
       " (38962, 10290),\n",
       " (38962, 10802),\n",
       " (38962, 11314),\n",
       " (38962, 11826),\n",
       " (38962, 12338),\n",
       " (38962, 12850),\n",
       " (38962, 13362),\n",
       " (38962, 13874),\n",
       " (38962, 14386),\n",
       " (38962, 14898),\n",
       " (38962, 15410),\n",
       " (38962, 15922),\n",
       " (41010, 50),\n",
       " (41010, 562),\n",
       " (41010, 1074),\n",
       " (41010, 1586),\n",
       " (41010, 2098),\n",
       " (41010, 2610),\n",
       " (41010, 3122),\n",
       " (41010, 3634),\n",
       " (41010, 4146),\n",
       " (41010, 4658),\n",
       " (41010, 5170),\n",
       " (41010, 5682),\n",
       " (41010, 6194),\n",
       " (41010, 6706),\n",
       " (41010, 7218),\n",
       " (41010, 7730),\n",
       " (41010, 8242),\n",
       " (41010, 8754),\n",
       " (41010, 9266),\n",
       " (41010, 9778),\n",
       " (41010, 10290),\n",
       " (41010, 10802),\n",
       " (41010, 11314),\n",
       " (41010, 11826),\n",
       " (41010, 12338),\n",
       " (41010, 12850),\n",
       " (41010, 13362),\n",
       " (41010, 13874),\n",
       " (41010, 14386),\n",
       " (41010, 14898),\n",
       " (41010, 15410),\n",
       " (41010, 15922),\n",
       " (43058, 50),\n",
       " (43058, 562),\n",
       " (43058, 1074),\n",
       " (43058, 1586),\n",
       " (43058, 2098),\n",
       " (43058, 2610),\n",
       " (43058, 3122),\n",
       " (43058, 3634),\n",
       " (43058, 4146),\n",
       " (43058, 4658),\n",
       " (43058, 5170),\n",
       " (43058, 5682),\n",
       " (43058, 6194),\n",
       " (43058, 6706),\n",
       " (43058, 7218),\n",
       " (43058, 7730),\n",
       " (43058, 8242),\n",
       " (43058, 8754),\n",
       " (43058, 9266),\n",
       " (43058, 9778),\n",
       " (43058, 10290),\n",
       " (43058, 10802),\n",
       " (43058, 11314),\n",
       " (43058, 11826),\n",
       " (43058, 12338),\n",
       " (43058, 12850),\n",
       " (43058, 13362),\n",
       " (43058, 13874),\n",
       " (43058, 14386),\n",
       " (43058, 14898),\n",
       " (43058, 15410),\n",
       " (43058, 15922),\n",
       " (45106, 50),\n",
       " (45106, 562),\n",
       " (45106, 1074),\n",
       " (45106, 1586),\n",
       " (45106, 2098),\n",
       " (45106, 2610),\n",
       " (45106, 3122),\n",
       " (45106, 3634),\n",
       " (45106, 4146),\n",
       " (45106, 4658),\n",
       " (45106, 5170),\n",
       " (45106, 5682),\n",
       " (45106, 6194),\n",
       " (45106, 6706),\n",
       " (45106, 7218),\n",
       " (45106, 7730),\n",
       " (45106, 8242),\n",
       " (45106, 8754),\n",
       " (45106, 9266),\n",
       " (45106, 9778),\n",
       " (45106, 10290),\n",
       " (45106, 10802),\n",
       " (45106, 11314),\n",
       " (45106, 11826),\n",
       " (45106, 12338),\n",
       " (45106, 12850),\n",
       " (45106, 13362),\n",
       " (45106, 13874),\n",
       " (45106, 14386),\n",
       " (45106, 14898),\n",
       " (45106, 15410),\n",
       " (45106, 15922),\n",
       " (47154, 50),\n",
       " (47154, 562),\n",
       " (47154, 1074),\n",
       " (47154, 1586),\n",
       " (47154, 2098),\n",
       " (47154, 2610),\n",
       " (47154, 3122),\n",
       " (47154, 3634),\n",
       " (47154, 4146),\n",
       " (47154, 4658),\n",
       " (47154, 5170),\n",
       " (47154, 5682),\n",
       " (47154, 6194),\n",
       " (47154, 6706),\n",
       " (47154, 7218),\n",
       " (47154, 7730),\n",
       " (47154, 8242),\n",
       " (47154, 8754),\n",
       " (47154, 9266),\n",
       " (47154, 9778),\n",
       " (47154, 10290),\n",
       " (47154, 10802),\n",
       " (47154, 11314),\n",
       " (47154, 11826),\n",
       " (47154, 12338),\n",
       " (47154, 12850),\n",
       " (47154, 13362),\n",
       " (47154, 13874),\n",
       " (47154, 14386),\n",
       " (47154, 14898),\n",
       " (47154, 15410),\n",
       " (47154, 15922),\n",
       " (49202, 50),\n",
       " (49202, 562),\n",
       " (49202, 1074),\n",
       " (49202, 1586),\n",
       " (49202, 2098),\n",
       " (49202, 2610),\n",
       " (49202, 3122),\n",
       " (49202, 3634),\n",
       " (49202, 4146),\n",
       " (49202, 4658),\n",
       " (49202, 5170),\n",
       " (49202, 5682),\n",
       " (49202, 6194),\n",
       " (49202, 6706),\n",
       " (49202, 7218),\n",
       " (49202, 7730),\n",
       " (49202, 8242),\n",
       " (49202, 8754),\n",
       " (49202, 9266),\n",
       " (49202, 9778),\n",
       " (49202, 10290),\n",
       " (49202, 10802),\n",
       " (49202, 11314),\n",
       " (49202, 11826),\n",
       " (49202, 12338),\n",
       " (49202, 12850),\n",
       " (49202, 13362),\n",
       " (49202, 13874),\n",
       " (49202, 14386),\n",
       " (49202, 14898),\n",
       " (49202, 15410),\n",
       " (49202, 15922),\n",
       " (51250, 50),\n",
       " (51250, 562),\n",
       " (51250, 1074),\n",
       " (51250, 1586),\n",
       " (51250, 2098),\n",
       " (51250, 2610),\n",
       " (51250, 3122),\n",
       " (51250, 3634),\n",
       " (51250, 4146),\n",
       " (51250, 4658),\n",
       " (51250, 5170),\n",
       " (51250, 5682),\n",
       " (51250, 6194),\n",
       " (51250, 6706),\n",
       " (51250, 7218),\n",
       " (51250, 7730),\n",
       " (51250, 8242),\n",
       " (51250, 8754),\n",
       " (51250, 9266),\n",
       " (51250, 9778),\n",
       " (51250, 10290),\n",
       " (51250, 10802),\n",
       " (51250, 11314),\n",
       " (51250, 11826),\n",
       " (51250, 12338),\n",
       " (51250, 12850),\n",
       " (51250, 13362),\n",
       " (51250, 13874),\n",
       " (51250, 14386),\n",
       " (51250, 14898),\n",
       " (51250, 15410),\n",
       " (51250, 15922),\n",
       " (53298, 50),\n",
       " (53298, 562),\n",
       " (53298, 1074),\n",
       " (53298, 1586),\n",
       " (53298, 2098),\n",
       " (53298, 2610),\n",
       " (53298, 3122),\n",
       " (53298, 3634),\n",
       " (53298, 4146),\n",
       " (53298, 4658),\n",
       " (53298, 5170),\n",
       " (53298, 5682),\n",
       " (53298, 6194),\n",
       " (53298, 6706),\n",
       " (53298, 7218),\n",
       " (53298, 7730),\n",
       " (53298, 8242),\n",
       " (53298, 8754),\n",
       " (53298, 9266),\n",
       " (53298, 9778),\n",
       " (53298, 10290),\n",
       " (53298, 10802),\n",
       " (53298, 11314),\n",
       " (53298, 11826),\n",
       " (53298, 12338),\n",
       " (53298, 12850),\n",
       " (53298, 13362),\n",
       " (53298, 13874),\n",
       " (53298, 14386),\n",
       " (53298, 14898),\n",
       " (53298, 15410),\n",
       " (53298, 15922),\n",
       " (55346, 50),\n",
       " (55346, 562),\n",
       " (55346, 1074),\n",
       " (55346, 1586),\n",
       " (55346, 2098),\n",
       " (55346, 2610),\n",
       " (55346, 3122),\n",
       " (55346, 3634),\n",
       " (55346, 4146),\n",
       " (55346, 4658),\n",
       " (55346, 5170),\n",
       " (55346, 5682),\n",
       " (55346, 6194),\n",
       " (55346, 6706),\n",
       " (55346, 7218),\n",
       " (55346, 7730),\n",
       " (55346, 8242),\n",
       " (55346, 8754),\n",
       " (55346, 9266),\n",
       " (55346, 9778),\n",
       " (55346, 10290),\n",
       " (55346, 10802),\n",
       " (55346, 11314),\n",
       " (55346, 11826),\n",
       " (55346, 12338),\n",
       " (55346, 12850),\n",
       " (55346, 13362),\n",
       " (55346, 13874),\n",
       " (55346, 14386),\n",
       " (55346, 14898),\n",
       " (55346, 15410),\n",
       " (55346, 15922),\n",
       " (57394, 50),\n",
       " (57394, 562),\n",
       " (57394, 1074),\n",
       " (57394, 1586),\n",
       " (57394, 2098),\n",
       " (57394, 2610),\n",
       " (57394, 3122),\n",
       " (57394, 3634),\n",
       " (57394, 4146),\n",
       " (57394, 4658),\n",
       " (57394, 5170),\n",
       " (57394, 5682),\n",
       " (57394, 6194),\n",
       " (57394, 6706),\n",
       " (57394, 7218),\n",
       " (57394, 7730),\n",
       " (57394, 8242),\n",
       " (57394, 8754),\n",
       " (57394, 9266),\n",
       " (57394, 9778),\n",
       " (57394, 10290),\n",
       " (57394, 10802),\n",
       " (57394, 11314),\n",
       " (57394, 11826),\n",
       " (57394, 12338),\n",
       " (57394, 12850),\n",
       " (57394, 13362),\n",
       " (57394, 13874),\n",
       " (57394, 14386),\n",
       " (57394, 14898),\n",
       " (57394, 15410),\n",
       " (57394, 15922),\n",
       " (59442, 50),\n",
       " (59442, 562),\n",
       " (59442, 1074),\n",
       " (59442, 1586),\n",
       " (59442, 2098),\n",
       " (59442, 2610),\n",
       " (59442, 3122),\n",
       " (59442, 3634),\n",
       " (59442, 4146),\n",
       " (59442, 4658),\n",
       " (59442, 5170),\n",
       " (59442, 5682),\n",
       " (59442, 6194),\n",
       " (59442, 6706),\n",
       " (59442, 7218),\n",
       " (59442, 7730),\n",
       " (59442, 8242),\n",
       " (59442, 8754),\n",
       " (59442, 9266),\n",
       " (59442, 9778),\n",
       " (59442, 10290),\n",
       " (59442, 10802),\n",
       " (59442, 11314),\n",
       " (59442, 11826),\n",
       " (59442, 12338),\n",
       " (59442, 12850),\n",
       " (59442, 13362),\n",
       " (59442, 13874),\n",
       " (59442, 14386),\n",
       " (59442, 14898),\n",
       " (59442, 15410),\n",
       " (59442, 15922),\n",
       " (61490, 50),\n",
       " (61490, 562),\n",
       " (61490, 1074),\n",
       " (61490, 1586),\n",
       " (61490, 2098),\n",
       " (61490, 2610),\n",
       " (61490, 3122),\n",
       " (61490, 3634),\n",
       " (61490, 4146),\n",
       " (61490, 4658),\n",
       " (61490, 5170),\n",
       " (61490, 5682),\n",
       " (61490, 6194),\n",
       " (61490, 6706),\n",
       " (61490, 7218),\n",
       " (61490, 7730),\n",
       " (61490, 8242),\n",
       " (61490, 8754),\n",
       " (61490, 9266),\n",
       " (61490, 9778),\n",
       " (61490, 10290),\n",
       " (61490, 10802),\n",
       " (61490, 11314),\n",
       " (61490, 11826),\n",
       " (61490, 12338),\n",
       " (61490, 12850),\n",
       " (61490, 13362),\n",
       " (61490, 13874),\n",
       " (61490, 14386),\n",
       " (61490, 14898),\n",
       " (61490, 15410),\n",
       " (61490, 15922),\n",
       " (63538, 50),\n",
       " (63538, 562),\n",
       " (63538, 1074),\n",
       " (63538, 1586),\n",
       " (63538, 2098),\n",
       " (63538, 2610),\n",
       " (63538, 3122),\n",
       " (63538, 3634),\n",
       " ...]"
      ]
     },
     "execution_count": 81,
     "metadata": {},
     "output_type": "execute_result"
    }
   ],
   "source": [
    "rand_indices_whole_array = []\n",
    "\n",
    "xes = []\n",
    "ys = []\n",
    "\n",
    "for i in range(32): # there's 32x32 chunks. TODO get programmatically\n",
    "    # 2d point access - let's not just access first row of chunk\n",
    "    \n",
    "    # Random point across all chunks\n",
    "#     x = np.random.randint(low=i*chunk_shape[0]+5, high=(i+1)*chunk_shape[0] + 5)\n",
    "#     y = np.random.randint(low=i*chunk_shape[1]+5, high=(i+1)*chunk_shape[1]+5)\n",
    "    \n",
    "    xes.append(i*chunk_shape[0]+50)\n",
    "    ys.append(i*chunk_shape[1]+50)\n",
    "    \n",
    "    # \"Same\" point across all chunks\n",
    "\n",
    "#     rand_indices_whole_array.append((x,y))\n",
    "    \n",
    "    # 1D access - makes indexing complicated\n",
    "#     rand_indices_whole_array.append(np.random.randint(low=i*chunk_shape[0], high=(i+1)*chunk_shape[1]))\n",
    "\n",
    "rand_indices_whole_array = list(product(xes, ys))\n",
    "rand_indices_whole_array"
   ]
  },
  {
   "cell_type": "code",
   "execution_count": 82,
   "id": "4f1514fb",
   "metadata": {},
   "outputs": [
    {
     "data": {
      "text/plain": [
       "1024"
      ]
     },
     "execution_count": 82,
     "metadata": {},
     "output_type": "execute_result"
    }
   ],
   "source": [
    "len(rand_indices_whole_array) # Should equal n_chunks"
   ]
  },
  {
   "cell_type": "code",
   "execution_count": 83,
   "id": "c7ae41da",
   "metadata": {
    "scrolled": true
   },
   "outputs": [
    {
     "name": "stdout",
     "output_type": "stream",
     "text": [
      "898 ms ± 69.7 ms per loop (mean ± std. dev. of 7 runs, 1 loop each)\n"
     ]
    }
   ],
   "source": [
    "%%timeit\n",
    "# Read randomly from whole array, randomly 1 point from each chunk\n",
    "\n",
    "for tup in rand_indices_whole_array:\n",
    "    load_partial_decomp[tup[0], tup[1]]"
   ]
  },
  {
   "cell_type": "code",
   "execution_count": 84,
   "id": "85978081",
   "metadata": {},
   "outputs": [
    {
     "name": "stdout",
     "output_type": "stream",
     "text": [
      "1.34 s ± 11 ms per loop (mean ± std. dev. of 7 runs, 1 loop each)\n"
     ]
    }
   ],
   "source": [
    "%%timeit\n",
    "# Read randomly from whole array, randomly 1 point from each chunk\n",
    "# TODO Don't know if my indexing is correct!!\n",
    "\n",
    "for tup in rand_indices_whole_array:\n",
    "    load_disk_normally[tup[0], tup[1]]"
   ]
  },
  {
   "cell_type": "code",
   "execution_count": 85,
   "id": "8a0dbcae",
   "metadata": {},
   "outputs": [
    {
     "name": "stdout",
     "output_type": "stream",
     "text": [
      "Speedup:  1.488888888888889\n"
     ]
    }
   ],
   "source": [
    "print(\"Speedup: \", 1.34 / .9)"
   ]
  },
  {
   "cell_type": "markdown",
   "id": "ea7d2efd",
   "metadata": {},
   "source": [
    "### <font color=\"orange\">Let's test advanced mask indexing</font>"
   ]
  },
  {
   "cell_type": "code",
   "execution_count": 86,
   "id": "07f8708a",
   "metadata": {},
   "outputs": [
    {
     "data": {
      "text/plain": [
       "array([[ True,  True, False, ...,  True,  True, False],\n",
       "       [ True, False,  True, ...,  True,  True,  True],\n",
       "       [ True, False, False, ...,  True,  True,  True],\n",
       "       ...,\n",
       "       [False,  True, False, ..., False, False,  True],\n",
       "       [ True,  True,  True, ...,  True, False, False],\n",
       "       [ True,  True,  True, ...,  True, False,  True]])"
      ]
     },
     "execution_count": 86,
     "metadata": {},
     "output_type": "execute_result"
    }
   ],
   "source": [
    "# Create a 0-1 boolean mask with size same as Whole array\n",
    "#    Don't know how to do just 1 chunk masking\n",
    "bool_mask = np.random.randint(low=0, high=2, size=original_shape, dtype=bool)\n",
    "bool_mask"
   ]
  },
  {
   "cell_type": "code",
   "execution_count": null,
   "id": "b667af0e",
   "metadata": {},
   "outputs": [],
   "source": [
    "%%timeit\n",
    "# Partial decompress\n",
    "\n",
    "# _ to prevent printing\n",
    "_ = load_partial_decomp.get_mask_selection(bool_mask)"
   ]
  },
  {
   "cell_type": "code",
   "execution_count": null,
   "id": "42b9774d",
   "metadata": {},
   "outputs": [],
   "source": [
    "%%timeit\n",
    "# NO Partial decompress\n",
    "\n",
    "# _ to prevent printing\n",
    "_ = load_disk_normally.get_mask_selection(bool_mask)"
   ]
  },
  {
   "cell_type": "markdown",
   "id": "3f677c2a",
   "metadata": {},
   "source": [
    "#### <font color=\"red\">Trying bigger chunks. partial_decompress Benefits should be bigger for bigger chunks</font>"
   ]
  },
  {
   "cell_type": "code",
   "execution_count": 17,
   "id": "0ec72e9c",
   "metadata": {},
   "outputs": [
    {
     "name": "stdout",
     "output_type": "stream",
     "text": [
      "\u001b[34mexample-zarr\u001b[m\u001b[m         \u001b[34mtutorials\u001b[m\u001b[m            \u001b[34mzarr_python\u001b[m\u001b[m\n",
      "\u001b[34mexample.zarr\u001b[m\u001b[m         zarr-explore-1.ipynb\n"
     ]
    }
   ],
   "source": [
    "!ls"
   ]
  },
  {
   "cell_type": "code",
   "execution_count": null,
   "id": "ac5fed1f",
   "metadata": {},
   "outputs": [],
   "source": [
    "# # Check if reading from file == original array\n",
    "# import numpy as np\n",
    "\n",
    "# np.all(z[:] == z2[:])"
   ]
  },
  {
   "cell_type": "code",
   "execution_count": 18,
   "id": "c01532c3",
   "metadata": {},
   "outputs": [],
   "source": [
    "# Blosc is one of the preconditions of partial_decompress\n",
    "# https://zarr.readthedocs.io/en/stable/api/core.html\n",
    "from numcodecs import Blosc\n",
    "\n",
    "bloccc = Blosc(clevel=9)"
   ]
  },
  {
   "cell_type": "code",
   "execution_count": 19,
   "id": "65b78982",
   "metadata": {},
   "outputs": [],
   "source": [
    "z_compressed = zarr.array(zarr_index_list, compressor = bloccc)"
   ]
  },
  {
   "cell_type": "code",
   "execution_count": 20,
   "id": "361a415e",
   "metadata": {},
   "outputs": [
    {
     "data": {
      "text/plain": [
       "Blosc(cname='lz4', clevel=9, shuffle=SHUFFLE, blocksize=0)"
      ]
     },
     "execution_count": 20,
     "metadata": {},
     "output_type": "execute_result"
    }
   ],
   "source": [
    "z_compressed.compressor"
   ]
  },
  {
   "cell_type": "code",
   "execution_count": 21,
   "id": "7df34790",
   "metadata": {},
   "outputs": [
    {
     "data": {
      "text/plain": [
       "<zarr.core.Array (10000, 10000) int64>"
      ]
     },
     "execution_count": 21,
     "metadata": {},
     "output_type": "execute_result"
    }
   ],
   "source": [
    "z_compressed"
   ]
  },
  {
   "cell_type": "code",
   "execution_count": 22,
   "id": "9c1f8f66",
   "metadata": {},
   "outputs": [],
   "source": [
    "zarr.save('./example.zarr', z_compressed)"
   ]
  },
  {
   "cell_type": "code",
   "execution_count": 15,
   "id": "d9686342",
   "metadata": {},
   "outputs": [
    {
     "name": "stderr",
     "output_type": "stream",
     "text": [
      "\n",
      "KeyboardInterrupt\n",
      "\n"
     ]
    }
   ],
   "source": [
    "z2\n"
   ]
  }
 ],
 "metadata": {
  "kernelspec": {
   "display_name": "Python 3 (ipykernel)",
   "language": "python",
   "name": "python3"
  },
  "language_info": {
   "codemirror_mode": {
    "name": "ipython",
    "version": 3
   },
   "file_extension": ".py",
   "mimetype": "text/x-python",
   "name": "python",
   "nbconvert_exporter": "python",
   "pygments_lexer": "ipython3",
   "version": "3.10.6"
  }
 },
 "nbformat": 4,
 "nbformat_minor": 5
}
