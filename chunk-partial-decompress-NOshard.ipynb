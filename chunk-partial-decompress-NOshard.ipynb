{
 "cells": [
  {
   "cell_type": "markdown",
   "id": "35f3f7cc",
   "metadata": {},
   "source": [
    "## Found how to get partial_decompress=True from zarr_python library code, file \"build/lib/zarr/tests/test_core.py\" test function test_read_nitems_less_than_blocksize_from_multiple_chunks in line 2683"
   ]
  },
  {
   "cell_type": "code",
   "execution_count": 1,
   "id": "b3b19475",
   "metadata": {},
   "outputs": [
    {
     "data": {
      "text/plain": [
       "'2.13.2'"
      ]
     },
     "execution_count": 1,
     "metadata": {},
     "output_type": "execute_result"
    }
   ],
   "source": [
    "import zarr # Check version\n",
    "zarr.__version__"
   ]
  },
  {
   "cell_type": "markdown",
   "id": "09861b38",
   "metadata": {},
   "source": [
    "Zarr Sharding pull request should show '0.0.0'\n",
    "\n",
    "If it says e.g. 2.13.2, then you're running on the \"proper\" published version (without Sharding support as of 28-Sept-2022)\n",
    "\n",
    "<font color=\"orange\">partial_decompress works on current version 2.13, no need for Sharding</font>"
   ]
  },
  {
   "cell_type": "markdown",
   "id": "b4ba2968",
   "metadata": {},
   "source": [
    "### 1. I wanna test partial_decompression by accessing a random index"
   ]
  },
  {
   "cell_type": "code",
   "execution_count": 4,
   "id": "86a6291b",
   "metadata": {},
   "outputs": [],
   "source": [
    "import numpy as np\n",
    "\n",
    "\n",
    "numpy_arr = np.empty((65536, 16384), dtype=np.int32) # ~3GB\n",
    "original_shape = numpy_arr.shape\n",
    "\n",
    "# 50k x 150k int32 is limit of M1 Pro 32GB\n",
    "for i in range(numpy_arr.shape[0]):\n",
    "#     numpy_arr[i][:] = list(range(original_shape[1]*i, original_shape[1]*(i+1)))\n",
    "    numpy_arr[i][:] = np.random.randint(low=0, high=original_shape[0], size=original_shape[1])"
   ]
  },
  {
   "cell_type": "code",
   "execution_count": 5,
   "id": "3a46315f",
   "metadata": {},
   "outputs": [
    {
     "name": "stdout",
     "output_type": "stream",
     "text": [
      "Memory used:  4.0  GB\n"
     ]
    }
   ],
   "source": [
    "print(\"Memory used: \", numpy_arr.nbytes / 1024 / 1024 / 1024, \" GB\")"
   ]
  },
  {
   "cell_type": "code",
   "execution_count": 6,
   "id": "00e385d1-ea3e-494d-b39c-860329a66135",
   "metadata": {},
   "outputs": [
    {
     "data": {
      "text/plain": [
       "array([57071, 13148, 30458, 42086, 16973, 17592, 37421, 40209, 46026,\n",
       "        6304], dtype=int32)"
      ]
     },
     "execution_count": 6,
     "metadata": {},
     "output_type": "execute_result"
    }
   ],
   "source": [
    "numpy_arr[0][0:10]"
   ]
  },
  {
   "cell_type": "markdown",
   "id": "ac4ead9a",
   "metadata": {},
   "source": [
    "### Following code in zarr test_core.py:2653"
   ]
  },
  {
   "cell_type": "code",
   "execution_count": 7,
   "id": "5628f002-450a-430c-99e5-b39576fd2249",
   "metadata": {},
   "outputs": [],
   "source": [
    "# All these extra parameters are irrelevant to _partial_decompress being enabled. Path is enough\n",
    "# fsstore = zarr.storage.FSStore('./fsstore', key_separator=\"/\", auto_mkdir=True, mode='w', normalize_keys=False)\n",
    "\n",
    "fsstore = zarr.storage.FSStore('./fsstore4MB')"
   ]
  },
  {
   "cell_type": "code",
   "execution_count": 8,
   "id": "a26dc7b5",
   "metadata": {},
   "outputs": [],
   "source": [
    "# chunk_size=(4096,4096)\n",
    "\n",
    "zarr_index_list = zarr.array(numpy_arr, store=fsstore)#, chunk_store = fsstore_chunk, partial_decompress=True, chunks=chunk_size, dtype='i4')# compressor=weak_compressor, "
   ]
  },
  {
   "cell_type": "code",
   "execution_count": 9,
   "id": "5c241a65",
   "metadata": {},
   "outputs": [
    {
     "data": {
      "text/html": [
       "<table class=\"zarr-info\"><tbody><tr><th style=\"text-align: left\">Type</th><td style=\"text-align: left\">zarr.core.Array</td></tr><tr><th style=\"text-align: left\">Data type</th><td style=\"text-align: left\">int32</td></tr><tr><th style=\"text-align: left\">Shape</th><td style=\"text-align: left\">(65536, 16384)</td></tr><tr><th style=\"text-align: left\">Chunk shape</th><td style=\"text-align: left\">(2048, 512)</td></tr><tr><th style=\"text-align: left\">Order</th><td style=\"text-align: left\">C</td></tr><tr><th style=\"text-align: left\">Read-only</th><td style=\"text-align: left\">False</td></tr><tr><th style=\"text-align: left\">Compressor</th><td style=\"text-align: left\">Blosc(cname='lz4', clevel=5, shuffle=SHUFFLE, blocksize=0)</td></tr><tr><th style=\"text-align: left\">Store type</th><td style=\"text-align: left\">zarr.storage.FSStore</td></tr><tr><th style=\"text-align: left\">No. bytes</th><td style=\"text-align: left\">4294967296 (4.0G)</td></tr><tr><th style=\"text-align: left\">No. bytes stored</th><td style=\"text-align: left\">2156249432 (2.0G)</td></tr><tr><th style=\"text-align: left\">Storage ratio</th><td style=\"text-align: left\">2.0</td></tr><tr><th style=\"text-align: left\">Chunks initialized</th><td style=\"text-align: left\">1024/1024</td></tr></tbody></table>"
      ],
      "text/plain": [
       "Type               : zarr.core.Array\n",
       "Data type          : int32\n",
       "Shape              : (65536, 16384)\n",
       "Chunk shape        : (2048, 512)\n",
       "Order              : C\n",
       "Read-only          : False\n",
       "Compressor         : Blosc(cname='lz4', clevel=5, shuffle=SHUFFLE, blocksize=0)\n",
       "Store type         : zarr.storage.FSStore\n",
       "No. bytes          : 4294967296 (4.0G)\n",
       "No. bytes stored   : 2156249432 (2.0G)\n",
       "Storage ratio      : 2.0\n",
       "Chunks initialized : 1024/1024"
      ]
     },
     "execution_count": 9,
     "metadata": {},
     "output_type": "execute_result"
    }
   ],
   "source": [
    "zarr_index_list.info"
   ]
  },
  {
   "cell_type": "code",
   "execution_count": 10,
   "id": "9e6e4a48",
   "metadata": {},
   "outputs": [
    {
     "name": "stdout",
     "output_type": "stream",
     "text": [
      "_partial_decompress:  False\n"
     ]
    }
   ],
   "source": [
    "print(\"_partial_decompress: \", zarr_index_list._partial_decompress)"
   ]
  },
  {
   "cell_type": "markdown",
   "id": "a92c6700",
   "metadata": {},
   "source": [
    "<font color=\"orange\">As we can see, partial_decompress is False. Don't panic!</font>"
   ]
  },
  {
   "cell_type": "code",
   "execution_count": 11,
   "id": "317cf25b",
   "metadata": {},
   "outputs": [],
   "source": [
    "# Flush to disk\n",
    "zarr.save(fsstore, numpy_arr)"
   ]
  },
  {
   "cell_type": "code",
   "execution_count": 12,
   "id": "f2c506c2",
   "metadata": {},
   "outputs": [],
   "source": [
    "# Load from disk\n",
    "\n",
    "# read_only doesn't affect partial_decompress eligibility\n",
    "load_partial_decomp = zarr.Array(fsstore, read_only=True, partial_decompress=True)"
   ]
  },
  {
   "cell_type": "code",
   "execution_count": 13,
   "id": "dd6e18da",
   "metadata": {},
   "outputs": [
    {
     "data": {
      "text/plain": [
       "True"
      ]
     },
     "execution_count": 13,
     "metadata": {},
     "output_type": "execute_result"
    }
   ],
   "source": [
    "load_partial_decomp._partial_decompress"
   ]
  },
  {
   "cell_type": "markdown",
   "id": "372307f5",
   "metadata": {},
   "source": [
    "#### <font color=\"orange\">Solved! Partial_decompress=True</font>"
   ]
  },
  {
   "cell_type": "code",
   "execution_count": 14,
   "id": "ad449b9c",
   "metadata": {},
   "outputs": [
    {
     "data": {
      "text/html": [
       "<table class=\"zarr-info\"><tbody><tr><th style=\"text-align: left\">Type</th><td style=\"text-align: left\">zarr.core.Array</td></tr><tr><th style=\"text-align: left\">Data type</th><td style=\"text-align: left\">int32</td></tr><tr><th style=\"text-align: left\">Shape</th><td style=\"text-align: left\">(65536, 16384)</td></tr><tr><th style=\"text-align: left\">Chunk shape</th><td style=\"text-align: left\">(2048, 512)</td></tr><tr><th style=\"text-align: left\">Order</th><td style=\"text-align: left\">C</td></tr><tr><th style=\"text-align: left\">Read-only</th><td style=\"text-align: left\">True</td></tr><tr><th style=\"text-align: left\">Compressor</th><td style=\"text-align: left\">Blosc(cname='lz4', clevel=5, shuffle=SHUFFLE, blocksize=0)</td></tr><tr><th style=\"text-align: left\">Store type</th><td style=\"text-align: left\">zarr.storage.FSStore</td></tr><tr><th style=\"text-align: left\">No. bytes</th><td style=\"text-align: left\">4294967296 (4.0G)</td></tr><tr><th style=\"text-align: left\">No. bytes stored</th><td style=\"text-align: left\">2156249432 (2.0G)</td></tr><tr><th style=\"text-align: left\">Storage ratio</th><td style=\"text-align: left\">2.0</td></tr><tr><th style=\"text-align: left\">Chunks initialized</th><td style=\"text-align: left\">1024/1024</td></tr></tbody></table>"
      ],
      "text/plain": [
       "Type               : zarr.core.Array\n",
       "Data type          : int32\n",
       "Shape              : (65536, 16384)\n",
       "Chunk shape        : (2048, 512)\n",
       "Order              : C\n",
       "Read-only          : True\n",
       "Compressor         : Blosc(cname='lz4', clevel=5, shuffle=SHUFFLE, blocksize=0)\n",
       "Store type         : zarr.storage.FSStore\n",
       "No. bytes          : 4294967296 (4.0G)\n",
       "No. bytes stored   : 2156249432 (2.0G)\n",
       "Storage ratio      : 2.0\n",
       "Chunks initialized : 1024/1024"
      ]
     },
     "execution_count": 14,
     "metadata": {},
     "output_type": "execute_result"
    }
   ],
   "source": [
    "load_partial_decomp.info"
   ]
  },
  {
   "cell_type": "code",
   "execution_count": 15,
   "id": "2e64dea5",
   "metadata": {},
   "outputs": [],
   "source": [
    "# del numpy_arr # Don't need this anymore - save 3GB"
   ]
  },
  {
   "cell_type": "markdown",
   "id": "e8a93782",
   "metadata": {},
   "source": [
    "Sometimes chunks not even initialized? Sometimes 2 arrays are written to disk (i.e. a group). Not sure why"
   ]
  },
  {
   "cell_type": "code",
   "execution_count": 16,
   "id": "101cbae6",
   "metadata": {},
   "outputs": [
    {
     "data": {
      "text/plain": [
       "array([28904, 43120, 25319, 37625, 47725], dtype=int32)"
      ]
     },
     "execution_count": 16,
     "metadata": {},
     "output_type": "execute_result"
    }
   ],
   "source": [
    "load_partial_decomp[0, 100:105]"
   ]
  },
  {
   "cell_type": "code",
   "execution_count": 17,
   "id": "0472e14b",
   "metadata": {},
   "outputs": [],
   "source": [
    "load_disk_normally = zarr.open(fsstore) # , partial_decompress=True) -- This won't work !!"
   ]
  },
  {
   "cell_type": "code",
   "execution_count": 18,
   "id": "3aa74e3d",
   "metadata": {},
   "outputs": [
    {
     "data": {
      "text/plain": [
       "False"
      ]
     },
     "execution_count": 18,
     "metadata": {},
     "output_type": "execute_result"
    }
   ],
   "source": [
    "load_disk_normally._partial_decompress"
   ]
  },
  {
   "cell_type": "code",
   "execution_count": 19,
   "id": "09167752",
   "metadata": {},
   "outputs": [
    {
     "data": {
      "text/plain": [
       "array([28904, 43120, 25319, 37625, 47725], dtype=int32)"
      ]
     },
     "execution_count": 19,
     "metadata": {},
     "output_type": "execute_result"
    }
   ],
   "source": [
    "load_disk_normally[0, 100:105]"
   ]
  },
  {
   "cell_type": "code",
   "execution_count": 20,
   "id": "8c806ab6",
   "metadata": {},
   "outputs": [
    {
     "data": {
      "text/plain": [
       "True"
      ]
     },
     "execution_count": 20,
     "metadata": {},
     "output_type": "execute_result"
    }
   ],
   "source": [
    "# Do the two match?\n",
    "(load_partial_decomp[0, 100:105] == load_disk_normally[0, 100:105]).all()"
   ]
  },
  {
   "cell_type": "markdown",
   "id": "dfb4fea5",
   "metadata": {},
   "source": [
    "### Let's test random access of chunks by index"
   ]
  },
  {
   "cell_type": "code",
   "execution_count": 22,
   "id": "ae3741bc",
   "metadata": {},
   "outputs": [],
   "source": [
    "chunk_shape = (2048, 512)"
   ]
  },
  {
   "cell_type": "code",
   "execution_count": 27,
   "id": "1b41cc33",
   "metadata": {},
   "outputs": [],
   "source": [
    "rand_indices_list = np.random.randint(low=0, high=chunk_shape[0], size=50)"
   ]
  },
  {
   "cell_type": "code",
   "execution_count": 28,
   "id": "f48d92b7",
   "metadata": {},
   "outputs": [
    {
     "name": "stdout",
     "output_type": "stream",
     "text": [
      "39.7 ms ± 4.75 ms per loop (mean ± std. dev. of 7 runs, 10 loops each)\n"
     ]
    }
   ],
   "source": [
    "%%timeit\n",
    "# Read randomly from first chunk, Using partial decompression\n",
    "\n",
    "for index in rand_indices_list:\n",
    "    load_partial_decomp[0, index]"
   ]
  },
  {
   "cell_type": "code",
   "execution_count": 29,
   "id": "090e3ce8",
   "metadata": {},
   "outputs": [
    {
     "name": "stdout",
     "output_type": "stream",
     "text": [
      "58.6 ms ± 992 µs per loop (mean ± std. dev. of 7 runs, 10 loops each)\n"
     ]
    }
   ],
   "source": [
    "%%timeit\n",
    "# Read randomly from first chunk, Not using partial decompression\n",
    "\n",
    "for index in rand_indices_list:\n",
    "    load_disk_normally[0, index]"
   ]
  },
  {
   "cell_type": "markdown",
   "id": "6bfc6983",
   "metadata": {},
   "source": [
    "#### <font color=\"orange\">Let's access the chunks using 2D accesses now</font>"
   ]
  },
  {
   "cell_type": "code",
   "execution_count": 30,
   "id": "bd086c45",
   "metadata": {},
   "outputs": [],
   "source": [
    "rand_indices_tuples = (np.random.randint(low=0, high=chunk_shape[0], size=50), np.random.randint(low=0, high=chunk_shape[1], size=50))"
   ]
  },
  {
   "cell_type": "code",
   "execution_count": 31,
   "id": "22134b7e",
   "metadata": {},
   "outputs": [
    {
     "data": {
      "text/plain": [
       "(array([ 186, 1502,   61,  632,  467,  552,  368,  319,  120,  143, 1928,\n",
       "         408, 1720, 1502,  410, 1768,  565,  948, 1486,  425,  410, 1775,\n",
       "        1086, 1872,  607,  668, 1010,  513,  760, 1706, 1750,  511,  225,\n",
       "        1192,  541,  440, 1609, 1014, 1511, 1754, 1532, 1560, 1793, 1120,\n",
       "        1495,   39, 2027, 2015, 1902,  320]),\n",
       " array([112, 440,  34, 212, 159, 243, 334, 433, 346, 209, 277, 122,  66,\n",
       "         91, 448,   0, 183,  46, 196, 446, 355, 211, 407,  98, 420, 308,\n",
       "        455, 180, 386, 264, 229, 138, 453, 254, 468, 465, 237, 488, 499,\n",
       "        230, 317, 309,  75, 505,  70, 437,   8, 331, 409, 329]))"
      ]
     },
     "execution_count": 31,
     "metadata": {},
     "output_type": "execute_result"
    }
   ],
   "source": [
    "rand_indices_tuples"
   ]
  },
  {
   "cell_type": "code",
   "execution_count": 32,
   "id": "439e8b0c",
   "metadata": {},
   "outputs": [
    {
     "data": {
      "text/plain": [
       "1502"
      ]
     },
     "execution_count": 32,
     "metadata": {},
     "output_type": "execute_result"
    }
   ],
   "source": [
    "rand_indices_tuples[0][1]"
   ]
  },
  {
   "cell_type": "markdown",
   "id": "3392ed49",
   "metadata": {},
   "source": [
    "TODO set range(50) programmatically"
   ]
  },
  {
   "cell_type": "code",
   "execution_count": 33,
   "id": "51a582a3",
   "metadata": {},
   "outputs": [
    {
     "name": "stdout",
     "output_type": "stream",
     "text": [
      "37.8 ms ± 2.65 ms per loop (mean ± std. dev. of 7 runs, 10 loops each)\n"
     ]
    }
   ],
   "source": [
    "%%timeit\n",
    "# Read randomly from first chunk, Not using partial decompression\n",
    "\n",
    "for i in range(50):\n",
    "    load_partial_decomp[rand_indices_tuples[0][i], rand_indices_tuples[1][i]]"
   ]
  },
  {
   "cell_type": "code",
   "execution_count": 34,
   "id": "fbbdbc01",
   "metadata": {},
   "outputs": [
    {
     "name": "stdout",
     "output_type": "stream",
     "text": [
      "56.2 ms ± 959 µs per loop (mean ± std. dev. of 7 runs, 10 loops each)\n"
     ]
    }
   ],
   "source": [
    "%%timeit\n",
    "# Read randomly from first chunk, Not using partial decompression\n",
    "\n",
    "for i in range(50):\n",
    "    load_disk_normally[rand_indices_tuples[0][i], rand_indices_tuples[1][i]]"
   ]
  },
  {
   "cell_type": "markdown",
   "id": "b7c92308",
   "metadata": {},
   "source": [
    "## <font color=\"orange\"> New experiment: access one point per chunk in the whole array</font>"
   ]
  },
  {
   "cell_type": "code",
   "execution_count": 69,
   "id": "d2558656",
   "metadata": {},
   "outputs": [
    {
     "data": {
      "text/html": [
       "<table class=\"zarr-info\"><tbody><tr><th style=\"text-align: left\">Type</th><td style=\"text-align: left\">zarr.core.Array</td></tr><tr><th style=\"text-align: left\">Data type</th><td style=\"text-align: left\">int32</td></tr><tr><th style=\"text-align: left\">Shape</th><td style=\"text-align: left\">(65536, 16384)</td></tr><tr><th style=\"text-align: left\">Chunk shape</th><td style=\"text-align: left\">(2048, 512)</td></tr><tr><th style=\"text-align: left\">Order</th><td style=\"text-align: left\">C</td></tr><tr><th style=\"text-align: left\">Read-only</th><td style=\"text-align: left\">True</td></tr><tr><th style=\"text-align: left\">Compressor</th><td style=\"text-align: left\">Blosc(cname='lz4', clevel=5, shuffle=SHUFFLE, blocksize=0)</td></tr><tr><th style=\"text-align: left\">Store type</th><td style=\"text-align: left\">zarr.storage.FSStore</td></tr><tr><th style=\"text-align: left\">No. bytes</th><td style=\"text-align: left\">4294967296 (4.0G)</td></tr><tr><th style=\"text-align: left\">No. bytes stored</th><td style=\"text-align: left\">2156249432 (2.0G)</td></tr><tr><th style=\"text-align: left\">Storage ratio</th><td style=\"text-align: left\">2.0</td></tr><tr><th style=\"text-align: left\">Chunks initialized</th><td style=\"text-align: left\">1024/1024</td></tr></tbody></table>"
      ],
      "text/plain": [
       "Type               : zarr.core.Array\n",
       "Data type          : int32\n",
       "Shape              : (65536, 16384)\n",
       "Chunk shape        : (2048, 512)\n",
       "Order              : C\n",
       "Read-only          : True\n",
       "Compressor         : Blosc(cname='lz4', clevel=5, shuffle=SHUFFLE, blocksize=0)\n",
       "Store type         : zarr.storage.FSStore\n",
       "No. bytes          : 4294967296 (4.0G)\n",
       "No. bytes stored   : 2156249432 (2.0G)\n",
       "Storage ratio      : 2.0\n",
       "Chunks initialized : 1024/1024"
      ]
     },
     "execution_count": 69,
     "metadata": {},
     "output_type": "execute_result"
    }
   ],
   "source": [
    "load_partial_decomp.info"
   ]
  },
  {
   "cell_type": "code",
   "execution_count": 75,
   "id": "164f8009",
   "metadata": {},
   "outputs": [
    {
     "data": {
      "text/plain": [
       "1024"
      ]
     },
     "execution_count": 75,
     "metadata": {},
     "output_type": "execute_result"
    }
   ],
   "source": [
    "32**2"
   ]
  },
  {
   "cell_type": "code",
   "execution_count": 76,
   "id": "30af03c9",
   "metadata": {},
   "outputs": [],
   "source": [
    "from itertools import product"
   ]
  },
  {
   "cell_type": "code",
   "execution_count": 81,
   "id": "45fca90d",
   "metadata": {
    "scrolled": true
   },
   "outputs": [
    {
     "data": {
      "text/plain": [
       "[(50, 50),\n",
       " (50, 562),\n",
       " (50, 1074),\n",
       " (50, 1586),\n",
       " (50, 2098),\n",
       " (50, 2610),\n",
       " (50, 3122),\n",
       " (50, 3634),\n",
       " (50, 4146),\n",
       " (50, 4658),\n",
       " (50, 5170),\n",
       " (50, 5682),\n",
       " (50, 6194),\n",
       " (50, 6706),\n",
       " (50, 7218),\n",
       " (50, 7730),\n",
       " (50, 8242),\n",
       " (50, 8754),\n",
       " (50, 9266),\n",
       " (50, 9778),\n",
       " (50, 10290),\n",
       " (50, 10802),\n",
       " (50, 11314),\n",
       " (50, 11826),\n",
       " (50, 12338),\n",
       " (50, 12850),\n",
       " (50, 13362),\n",
       " (50, 13874),\n",
       " (50, 14386),\n",
       " (50, 14898),\n",
       " (50, 15410),\n",
       " (50, 15922),\n",
       " (2098, 50),\n",
       " (2098, 562),\n",
       " (2098, 1074),\n",
       " (2098, 1586),\n",
       " (2098, 2098),\n",
       " (2098, 2610),\n",
       " (2098, 3122),\n",
       " (2098, 3634),\n",
       " (2098, 4146),\n",
       " (2098, 4658),\n",
       " (2098, 5170),\n",
       " (2098, 5682),\n",
       " (2098, 6194),\n",
       " (2098, 6706),\n",
       " (2098, 7218),\n",
       " (2098, 7730),\n",
       " (2098, 8242),\n",
       " (2098, 8754),\n",
       " (2098, 9266),\n",
       " (2098, 9778),\n",
       " (2098, 10290),\n",
       " (2098, 10802),\n",
       " (2098, 11314),\n",
       " (2098, 11826),\n",
       " (2098, 12338),\n",
       " (2098, 12850),\n",
       " (2098, 13362),\n",
       " (2098, 13874),\n",
       " (2098, 14386),\n",
       " (2098, 14898),\n",
       " (2098, 15410),\n",
       " (2098, 15922),\n",
       " (4146, 50),\n",
       " (4146, 562),\n",
       " (4146, 1074),\n",
       " (4146, 1586),\n",
       " (4146, 2098),\n",
       " (4146, 2610),\n",
       " (4146, 3122),\n",
       " (4146, 3634),\n",
       " (4146, 4146),\n",
       " (4146, 4658),\n",
       " (4146, 5170),\n",
       " (4146, 5682),\n",
       " (4146, 6194),\n",
       " (4146, 6706),\n",
       " (4146, 7218),\n",
       " (4146, 7730),\n",
       " (4146, 8242),\n",
       " (4146, 8754),\n",
       " (4146, 9266),\n",
       " (4146, 9778),\n",
       " (4146, 10290),\n",
       " (4146, 10802),\n",
       " (4146, 11314),\n",
       " (4146, 11826),\n",
       " (4146, 12338),\n",
       " (4146, 12850),\n",
       " (4146, 13362),\n",
       " (4146, 13874),\n",
       " (4146, 14386),\n",
       " (4146, 14898),\n",
       " (4146, 15410),\n",
       " (4146, 15922),\n",
       " (6194, 50),\n",
       " (6194, 562),\n",
       " (6194, 1074),\n",
       " (6194, 1586),\n",
       " (6194, 2098),\n",
       " (6194, 2610),\n",
       " (6194, 3122),\n",
       " (6194, 3634),\n",
       " (6194, 4146),\n",
       " (6194, 4658),\n",
       " (6194, 5170),\n",
       " (6194, 5682),\n",
       " (6194, 6194),\n",
       " (6194, 6706),\n",
       " (6194, 7218),\n",
       " (6194, 7730),\n",
       " (6194, 8242),\n",
       " (6194, 8754),\n",
       " (6194, 9266),\n",
       " (6194, 9778),\n",
       " (6194, 10290),\n",
       " (6194, 10802),\n",
       " (6194, 11314),\n",
       " (6194, 11826),\n",
       " (6194, 12338),\n",
       " (6194, 12850),\n",
       " (6194, 13362),\n",
       " (6194, 13874),\n",
       " (6194, 14386),\n",
       " (6194, 14898),\n",
       " (6194, 15410),\n",
       " (6194, 15922),\n",
       " (8242, 50),\n",
       " (8242, 562),\n",
       " (8242, 1074),\n",
       " (8242, 1586),\n",
       " (8242, 2098),\n",
       " (8242, 2610),\n",
       " (8242, 3122),\n",
       " (8242, 3634),\n",
       " (8242, 4146),\n",
       " (8242, 4658),\n",
       " (8242, 5170),\n",
       " (8242, 5682),\n",
       " (8242, 6194),\n",
       " (8242, 6706),\n",
       " (8242, 7218),\n",
       " (8242, 7730),\n",
       " (8242, 8242),\n",
       " (8242, 8754),\n",
       " (8242, 9266),\n",
       " (8242, 9778),\n",
       " (8242, 10290),\n",
       " (8242, 10802),\n",
       " (8242, 11314),\n",
       " (8242, 11826),\n",
       " (8242, 12338),\n",
       " (8242, 12850),\n",
       " (8242, 13362),\n",
       " (8242, 13874),\n",
       " (8242, 14386),\n",
       " (8242, 14898),\n",
       " (8242, 15410),\n",
       " (8242, 15922),\n",
       " (10290, 50),\n",
       " (10290, 562),\n",
       " (10290, 1074),\n",
       " (10290, 1586),\n",
       " (10290, 2098),\n",
       " (10290, 2610),\n",
       " (10290, 3122),\n",
       " (10290, 3634),\n",
       " (10290, 4146),\n",
       " (10290, 4658),\n",
       " (10290, 5170),\n",
       " (10290, 5682),\n",
       " (10290, 6194),\n",
       " (10290, 6706),\n",
       " (10290, 7218),\n",
       " (10290, 7730),\n",
       " (10290, 8242),\n",
       " (10290, 8754),\n",
       " (10290, 9266),\n",
       " (10290, 9778),\n",
       " (10290, 10290),\n",
       " (10290, 10802),\n",
       " (10290, 11314),\n",
       " (10290, 11826),\n",
       " (10290, 12338),\n",
       " (10290, 12850),\n",
       " (10290, 13362),\n",
       " (10290, 13874),\n",
       " (10290, 14386),\n",
       " (10290, 14898),\n",
       " (10290, 15410),\n",
       " (10290, 15922),\n",
       " (12338, 50),\n",
       " (12338, 562),\n",
       " (12338, 1074),\n",
       " (12338, 1586),\n",
       " (12338, 2098),\n",
       " (12338, 2610),\n",
       " (12338, 3122),\n",
       " (12338, 3634),\n",
       " (12338, 4146),\n",
       " (12338, 4658),\n",
       " (12338, 5170),\n",
       " (12338, 5682),\n",
       " (12338, 6194),\n",
       " (12338, 6706),\n",
       " (12338, 7218),\n",
       " (12338, 7730),\n",
       " (12338, 8242),\n",
       " (12338, 8754),\n",
       " (12338, 9266),\n",
       " (12338, 9778),\n",
       " (12338, 10290),\n",
       " (12338, 10802),\n",
       " (12338, 11314),\n",
       " (12338, 11826),\n",
       " (12338, 12338),\n",
       " (12338, 12850),\n",
       " (12338, 13362),\n",
       " (12338, 13874),\n",
       " (12338, 14386),\n",
       " (12338, 14898),\n",
       " (12338, 15410),\n",
       " (12338, 15922),\n",
       " (14386, 50),\n",
       " (14386, 562),\n",
       " (14386, 1074),\n",
       " (14386, 1586),\n",
       " (14386, 2098),\n",
       " (14386, 2610),\n",
       " (14386, 3122),\n",
       " (14386, 3634),\n",
       " (14386, 4146),\n",
       " (14386, 4658),\n",
       " (14386, 5170),\n",
       " (14386, 5682),\n",
       " (14386, 6194),\n",
       " (14386, 6706),\n",
       " (14386, 7218),\n",
       " (14386, 7730),\n",
       " (14386, 8242),\n",
       " (14386, 8754),\n",
       " (14386, 9266),\n",
       " (14386, 9778),\n",
       " (14386, 10290),\n",
       " (14386, 10802),\n",
       " (14386, 11314),\n",
       " (14386, 11826),\n",
       " (14386, 12338),\n",
       " (14386, 12850),\n",
       " (14386, 13362),\n",
       " (14386, 13874),\n",
       " (14386, 14386),\n",
       " (14386, 14898),\n",
       " (14386, 15410),\n",
       " (14386, 15922),\n",
       " (16434, 50),\n",
       " (16434, 562),\n",
       " (16434, 1074),\n",
       " (16434, 1586),\n",
       " (16434, 2098),\n",
       " (16434, 2610),\n",
       " (16434, 3122),\n",
       " (16434, 3634),\n",
       " (16434, 4146),\n",
       " (16434, 4658),\n",
       " (16434, 5170),\n",
       " (16434, 5682),\n",
       " (16434, 6194),\n",
       " (16434, 6706),\n",
       " (16434, 7218),\n",
       " (16434, 7730),\n",
       " (16434, 8242),\n",
       " (16434, 8754),\n",
       " (16434, 9266),\n",
       " (16434, 9778),\n",
       " (16434, 10290),\n",
       " (16434, 10802),\n",
       " (16434, 11314),\n",
       " (16434, 11826),\n",
       " (16434, 12338),\n",
       " (16434, 12850),\n",
       " (16434, 13362),\n",
       " (16434, 13874),\n",
       " (16434, 14386),\n",
       " (16434, 14898),\n",
       " (16434, 15410),\n",
       " (16434, 15922),\n",
       " (18482, 50),\n",
       " (18482, 562),\n",
       " (18482, 1074),\n",
       " (18482, 1586),\n",
       " (18482, 2098),\n",
       " (18482, 2610),\n",
       " (18482, 3122),\n",
       " (18482, 3634),\n",
       " (18482, 4146),\n",
       " (18482, 4658),\n",
       " (18482, 5170),\n",
       " (18482, 5682),\n",
       " (18482, 6194),\n",
       " (18482, 6706),\n",
       " (18482, 7218),\n",
       " (18482, 7730),\n",
       " (18482, 8242),\n",
       " (18482, 8754),\n",
       " (18482, 9266),\n",
       " (18482, 9778),\n",
       " (18482, 10290),\n",
       " (18482, 10802),\n",
       " (18482, 11314),\n",
       " (18482, 11826),\n",
       " (18482, 12338),\n",
       " (18482, 12850),\n",
       " (18482, 13362),\n",
       " (18482, 13874),\n",
       " (18482, 14386),\n",
       " (18482, 14898),\n",
       " (18482, 15410),\n",
       " (18482, 15922),\n",
       " (20530, 50),\n",
       " (20530, 562),\n",
       " (20530, 1074),\n",
       " (20530, 1586),\n",
       " (20530, 2098),\n",
       " (20530, 2610),\n",
       " (20530, 3122),\n",
       " (20530, 3634),\n",
       " (20530, 4146),\n",
       " (20530, 4658),\n",
       " (20530, 5170),\n",
       " (20530, 5682),\n",
       " (20530, 6194),\n",
       " (20530, 6706),\n",
       " (20530, 7218),\n",
       " (20530, 7730),\n",
       " (20530, 8242),\n",
       " (20530, 8754),\n",
       " (20530, 9266),\n",
       " (20530, 9778),\n",
       " (20530, 10290),\n",
       " (20530, 10802),\n",
       " (20530, 11314),\n",
       " (20530, 11826),\n",
       " (20530, 12338),\n",
       " (20530, 12850),\n",
       " (20530, 13362),\n",
       " (20530, 13874),\n",
       " (20530, 14386),\n",
       " (20530, 14898),\n",
       " (20530, 15410),\n",
       " (20530, 15922),\n",
       " (22578, 50),\n",
       " (22578, 562),\n",
       " (22578, 1074),\n",
       " (22578, 1586),\n",
       " (22578, 2098),\n",
       " (22578, 2610),\n",
       " (22578, 3122),\n",
       " (22578, 3634),\n",
       " (22578, 4146),\n",
       " (22578, 4658),\n",
       " (22578, 5170),\n",
       " (22578, 5682),\n",
       " (22578, 6194),\n",
       " (22578, 6706),\n",
       " (22578, 7218),\n",
       " (22578, 7730),\n",
       " (22578, 8242),\n",
       " (22578, 8754),\n",
       " (22578, 9266),\n",
       " (22578, 9778),\n",
       " (22578, 10290),\n",
       " (22578, 10802),\n",
       " (22578, 11314),\n",
       " (22578, 11826),\n",
       " (22578, 12338),\n",
       " (22578, 12850),\n",
       " (22578, 13362),\n",
       " (22578, 13874),\n",
       " (22578, 14386),\n",
       " (22578, 14898),\n",
       " (22578, 15410),\n",
       " (22578, 15922),\n",
       " (24626, 50),\n",
       " (24626, 562),\n",
       " (24626, 1074),\n",
       " (24626, 1586),\n",
       " (24626, 2098),\n",
       " (24626, 2610),\n",
       " (24626, 3122),\n",
       " (24626, 3634),\n",
       " (24626, 4146),\n",
       " (24626, 4658),\n",
       " (24626, 5170),\n",
       " (24626, 5682),\n",
       " (24626, 6194),\n",
       " (24626, 6706),\n",
       " (24626, 7218),\n",
       " (24626, 7730),\n",
       " (24626, 8242),\n",
       " (24626, 8754),\n",
       " (24626, 9266),\n",
       " (24626, 9778),\n",
       " (24626, 10290),\n",
       " (24626, 10802),\n",
       " (24626, 11314),\n",
       " (24626, 11826),\n",
       " (24626, 12338),\n",
       " (24626, 12850),\n",
       " (24626, 13362),\n",
       " (24626, 13874),\n",
       " (24626, 14386),\n",
       " (24626, 14898),\n",
       " (24626, 15410),\n",
       " (24626, 15922),\n",
       " (26674, 50),\n",
       " (26674, 562),\n",
       " (26674, 1074),\n",
       " (26674, 1586),\n",
       " (26674, 2098),\n",
       " (26674, 2610),\n",
       " (26674, 3122),\n",
       " (26674, 3634),\n",
       " (26674, 4146),\n",
       " (26674, 4658),\n",
       " (26674, 5170),\n",
       " (26674, 5682),\n",
       " (26674, 6194),\n",
       " (26674, 6706),\n",
       " (26674, 7218),\n",
       " (26674, 7730),\n",
       " (26674, 8242),\n",
       " (26674, 8754),\n",
       " (26674, 9266),\n",
       " (26674, 9778),\n",
       " (26674, 10290),\n",
       " (26674, 10802),\n",
       " (26674, 11314),\n",
       " (26674, 11826),\n",
       " (26674, 12338),\n",
       " (26674, 12850),\n",
       " (26674, 13362),\n",
       " (26674, 13874),\n",
       " (26674, 14386),\n",
       " (26674, 14898),\n",
       " (26674, 15410),\n",
       " (26674, 15922),\n",
       " (28722, 50),\n",
       " (28722, 562),\n",
       " (28722, 1074),\n",
       " (28722, 1586),\n",
       " (28722, 2098),\n",
       " (28722, 2610),\n",
       " (28722, 3122),\n",
       " (28722, 3634),\n",
       " (28722, 4146),\n",
       " (28722, 4658),\n",
       " (28722, 5170),\n",
       " (28722, 5682),\n",
       " (28722, 6194),\n",
       " (28722, 6706),\n",
       " (28722, 7218),\n",
       " (28722, 7730),\n",
       " (28722, 8242),\n",
       " (28722, 8754),\n",
       " (28722, 9266),\n",
       " (28722, 9778),\n",
       " (28722, 10290),\n",
       " (28722, 10802),\n",
       " (28722, 11314),\n",
       " (28722, 11826),\n",
       " (28722, 12338),\n",
       " (28722, 12850),\n",
       " (28722, 13362),\n",
       " (28722, 13874),\n",
       " (28722, 14386),\n",
       " (28722, 14898),\n",
       " (28722, 15410),\n",
       " (28722, 15922),\n",
       " (30770, 50),\n",
       " (30770, 562),\n",
       " (30770, 1074),\n",
       " (30770, 1586),\n",
       " (30770, 2098),\n",
       " (30770, 2610),\n",
       " (30770, 3122),\n",
       " (30770, 3634),\n",
       " (30770, 4146),\n",
       " (30770, 4658),\n",
       " (30770, 5170),\n",
       " (30770, 5682),\n",
       " (30770, 6194),\n",
       " (30770, 6706),\n",
       " (30770, 7218),\n",
       " (30770, 7730),\n",
       " (30770, 8242),\n",
       " (30770, 8754),\n",
       " (30770, 9266),\n",
       " (30770, 9778),\n",
       " (30770, 10290),\n",
       " (30770, 10802),\n",
       " (30770, 11314),\n",
       " (30770, 11826),\n",
       " (30770, 12338),\n",
       " (30770, 12850),\n",
       " (30770, 13362),\n",
       " (30770, 13874),\n",
       " (30770, 14386),\n",
       " (30770, 14898),\n",
       " (30770, 15410),\n",
       " (30770, 15922),\n",
       " (32818, 50),\n",
       " (32818, 562),\n",
       " (32818, 1074),\n",
       " (32818, 1586),\n",
       " (32818, 2098),\n",
       " (32818, 2610),\n",
       " (32818, 3122),\n",
       " (32818, 3634),\n",
       " (32818, 4146),\n",
       " (32818, 4658),\n",
       " (32818, 5170),\n",
       " (32818, 5682),\n",
       " (32818, 6194),\n",
       " (32818, 6706),\n",
       " (32818, 7218),\n",
       " (32818, 7730),\n",
       " (32818, 8242),\n",
       " (32818, 8754),\n",
       " (32818, 9266),\n",
       " (32818, 9778),\n",
       " (32818, 10290),\n",
       " (32818, 10802),\n",
       " (32818, 11314),\n",
       " (32818, 11826),\n",
       " (32818, 12338),\n",
       " (32818, 12850),\n",
       " (32818, 13362),\n",
       " (32818, 13874),\n",
       " (32818, 14386),\n",
       " (32818, 14898),\n",
       " (32818, 15410),\n",
       " (32818, 15922),\n",
       " (34866, 50),\n",
       " (34866, 562),\n",
       " (34866, 1074),\n",
       " (34866, 1586),\n",
       " (34866, 2098),\n",
       " (34866, 2610),\n",
       " (34866, 3122),\n",
       " (34866, 3634),\n",
       " (34866, 4146),\n",
       " (34866, 4658),\n",
       " (34866, 5170),\n",
       " (34866, 5682),\n",
       " (34866, 6194),\n",
       " (34866, 6706),\n",
       " (34866, 7218),\n",
       " (34866, 7730),\n",
       " (34866, 8242),\n",
       " (34866, 8754),\n",
       " (34866, 9266),\n",
       " (34866, 9778),\n",
       " (34866, 10290),\n",
       " (34866, 10802),\n",
       " (34866, 11314),\n",
       " (34866, 11826),\n",
       " (34866, 12338),\n",
       " (34866, 12850),\n",
       " (34866, 13362),\n",
       " (34866, 13874),\n",
       " (34866, 14386),\n",
       " (34866, 14898),\n",
       " (34866, 15410),\n",
       " (34866, 15922),\n",
       " (36914, 50),\n",
       " (36914, 562),\n",
       " (36914, 1074),\n",
       " (36914, 1586),\n",
       " (36914, 2098),\n",
       " (36914, 2610),\n",
       " (36914, 3122),\n",
       " (36914, 3634),\n",
       " (36914, 4146),\n",
       " (36914, 4658),\n",
       " (36914, 5170),\n",
       " (36914, 5682),\n",
       " (36914, 6194),\n",
       " (36914, 6706),\n",
       " (36914, 7218),\n",
       " (36914, 7730),\n",
       " (36914, 8242),\n",
       " (36914, 8754),\n",
       " (36914, 9266),\n",
       " (36914, 9778),\n",
       " (36914, 10290),\n",
       " (36914, 10802),\n",
       " (36914, 11314),\n",
       " (36914, 11826),\n",
       " (36914, 12338),\n",
       " (36914, 12850),\n",
       " (36914, 13362),\n",
       " (36914, 13874),\n",
       " (36914, 14386),\n",
       " (36914, 14898),\n",
       " (36914, 15410),\n",
       " (36914, 15922),\n",
       " (38962, 50),\n",
       " (38962, 562),\n",
       " (38962, 1074),\n",
       " (38962, 1586),\n",
       " (38962, 2098),\n",
       " (38962, 2610),\n",
       " (38962, 3122),\n",
       " (38962, 3634),\n",
       " (38962, 4146),\n",
       " (38962, 4658),\n",
       " (38962, 5170),\n",
       " (38962, 5682),\n",
       " (38962, 6194),\n",
       " (38962, 6706),\n",
       " (38962, 7218),\n",
       " (38962, 7730),\n",
       " (38962, 8242),\n",
       " (38962, 8754),\n",
       " (38962, 9266),\n",
       " (38962, 9778),\n",
       " (38962, 10290),\n",
       " (38962, 10802),\n",
       " (38962, 11314),\n",
       " (38962, 11826),\n",
       " (38962, 12338),\n",
       " (38962, 12850),\n",
       " (38962, 13362),\n",
       " (38962, 13874),\n",
       " (38962, 14386),\n",
       " (38962, 14898),\n",
       " (38962, 15410),\n",
       " (38962, 15922),\n",
       " (41010, 50),\n",
       " (41010, 562),\n",
       " (41010, 1074),\n",
       " (41010, 1586),\n",
       " (41010, 2098),\n",
       " (41010, 2610),\n",
       " (41010, 3122),\n",
       " (41010, 3634),\n",
       " (41010, 4146),\n",
       " (41010, 4658),\n",
       " (41010, 5170),\n",
       " (41010, 5682),\n",
       " (41010, 6194),\n",
       " (41010, 6706),\n",
       " (41010, 7218),\n",
       " (41010, 7730),\n",
       " (41010, 8242),\n",
       " (41010, 8754),\n",
       " (41010, 9266),\n",
       " (41010, 9778),\n",
       " (41010, 10290),\n",
       " (41010, 10802),\n",
       " (41010, 11314),\n",
       " (41010, 11826),\n",
       " (41010, 12338),\n",
       " (41010, 12850),\n",
       " (41010, 13362),\n",
       " (41010, 13874),\n",
       " (41010, 14386),\n",
       " (41010, 14898),\n",
       " (41010, 15410),\n",
       " (41010, 15922),\n",
       " (43058, 50),\n",
       " (43058, 562),\n",
       " (43058, 1074),\n",
       " (43058, 1586),\n",
       " (43058, 2098),\n",
       " (43058, 2610),\n",
       " (43058, 3122),\n",
       " (43058, 3634),\n",
       " (43058, 4146),\n",
       " (43058, 4658),\n",
       " (43058, 5170),\n",
       " (43058, 5682),\n",
       " (43058, 6194),\n",
       " (43058, 6706),\n",
       " (43058, 7218),\n",
       " (43058, 7730),\n",
       " (43058, 8242),\n",
       " (43058, 8754),\n",
       " (43058, 9266),\n",
       " (43058, 9778),\n",
       " (43058, 10290),\n",
       " (43058, 10802),\n",
       " (43058, 11314),\n",
       " (43058, 11826),\n",
       " (43058, 12338),\n",
       " (43058, 12850),\n",
       " (43058, 13362),\n",
       " (43058, 13874),\n",
       " (43058, 14386),\n",
       " (43058, 14898),\n",
       " (43058, 15410),\n",
       " (43058, 15922),\n",
       " (45106, 50),\n",
       " (45106, 562),\n",
       " (45106, 1074),\n",
       " (45106, 1586),\n",
       " (45106, 2098),\n",
       " (45106, 2610),\n",
       " (45106, 3122),\n",
       " (45106, 3634),\n",
       " (45106, 4146),\n",
       " (45106, 4658),\n",
       " (45106, 5170),\n",
       " (45106, 5682),\n",
       " (45106, 6194),\n",
       " (45106, 6706),\n",
       " (45106, 7218),\n",
       " (45106, 7730),\n",
       " (45106, 8242),\n",
       " (45106, 8754),\n",
       " (45106, 9266),\n",
       " (45106, 9778),\n",
       " (45106, 10290),\n",
       " (45106, 10802),\n",
       " (45106, 11314),\n",
       " (45106, 11826),\n",
       " (45106, 12338),\n",
       " (45106, 12850),\n",
       " (45106, 13362),\n",
       " (45106, 13874),\n",
       " (45106, 14386),\n",
       " (45106, 14898),\n",
       " (45106, 15410),\n",
       " (45106, 15922),\n",
       " (47154, 50),\n",
       " (47154, 562),\n",
       " (47154, 1074),\n",
       " (47154, 1586),\n",
       " (47154, 2098),\n",
       " (47154, 2610),\n",
       " (47154, 3122),\n",
       " (47154, 3634),\n",
       " (47154, 4146),\n",
       " (47154, 4658),\n",
       " (47154, 5170),\n",
       " (47154, 5682),\n",
       " (47154, 6194),\n",
       " (47154, 6706),\n",
       " (47154, 7218),\n",
       " (47154, 7730),\n",
       " (47154, 8242),\n",
       " (47154, 8754),\n",
       " (47154, 9266),\n",
       " (47154, 9778),\n",
       " (47154, 10290),\n",
       " (47154, 10802),\n",
       " (47154, 11314),\n",
       " (47154, 11826),\n",
       " (47154, 12338),\n",
       " (47154, 12850),\n",
       " (47154, 13362),\n",
       " (47154, 13874),\n",
       " (47154, 14386),\n",
       " (47154, 14898),\n",
       " (47154, 15410),\n",
       " (47154, 15922),\n",
       " (49202, 50),\n",
       " (49202, 562),\n",
       " (49202, 1074),\n",
       " (49202, 1586),\n",
       " (49202, 2098),\n",
       " (49202, 2610),\n",
       " (49202, 3122),\n",
       " (49202, 3634),\n",
       " (49202, 4146),\n",
       " (49202, 4658),\n",
       " (49202, 5170),\n",
       " (49202, 5682),\n",
       " (49202, 6194),\n",
       " (49202, 6706),\n",
       " (49202, 7218),\n",
       " (49202, 7730),\n",
       " (49202, 8242),\n",
       " (49202, 8754),\n",
       " (49202, 9266),\n",
       " (49202, 9778),\n",
       " (49202, 10290),\n",
       " (49202, 10802),\n",
       " (49202, 11314),\n",
       " (49202, 11826),\n",
       " (49202, 12338),\n",
       " (49202, 12850),\n",
       " (49202, 13362),\n",
       " (49202, 13874),\n",
       " (49202, 14386),\n",
       " (49202, 14898),\n",
       " (49202, 15410),\n",
       " (49202, 15922),\n",
       " (51250, 50),\n",
       " (51250, 562),\n",
       " (51250, 1074),\n",
       " (51250, 1586),\n",
       " (51250, 2098),\n",
       " (51250, 2610),\n",
       " (51250, 3122),\n",
       " (51250, 3634),\n",
       " (51250, 4146),\n",
       " (51250, 4658),\n",
       " (51250, 5170),\n",
       " (51250, 5682),\n",
       " (51250, 6194),\n",
       " (51250, 6706),\n",
       " (51250, 7218),\n",
       " (51250, 7730),\n",
       " (51250, 8242),\n",
       " (51250, 8754),\n",
       " (51250, 9266),\n",
       " (51250, 9778),\n",
       " (51250, 10290),\n",
       " (51250, 10802),\n",
       " (51250, 11314),\n",
       " (51250, 11826),\n",
       " (51250, 12338),\n",
       " (51250, 12850),\n",
       " (51250, 13362),\n",
       " (51250, 13874),\n",
       " (51250, 14386),\n",
       " (51250, 14898),\n",
       " (51250, 15410),\n",
       " (51250, 15922),\n",
       " (53298, 50),\n",
       " (53298, 562),\n",
       " (53298, 1074),\n",
       " (53298, 1586),\n",
       " (53298, 2098),\n",
       " (53298, 2610),\n",
       " (53298, 3122),\n",
       " (53298, 3634),\n",
       " (53298, 4146),\n",
       " (53298, 4658),\n",
       " (53298, 5170),\n",
       " (53298, 5682),\n",
       " (53298, 6194),\n",
       " (53298, 6706),\n",
       " (53298, 7218),\n",
       " (53298, 7730),\n",
       " (53298, 8242),\n",
       " (53298, 8754),\n",
       " (53298, 9266),\n",
       " (53298, 9778),\n",
       " (53298, 10290),\n",
       " (53298, 10802),\n",
       " (53298, 11314),\n",
       " (53298, 11826),\n",
       " (53298, 12338),\n",
       " (53298, 12850),\n",
       " (53298, 13362),\n",
       " (53298, 13874),\n",
       " (53298, 14386),\n",
       " (53298, 14898),\n",
       " (53298, 15410),\n",
       " (53298, 15922),\n",
       " (55346, 50),\n",
       " (55346, 562),\n",
       " (55346, 1074),\n",
       " (55346, 1586),\n",
       " (55346, 2098),\n",
       " (55346, 2610),\n",
       " (55346, 3122),\n",
       " (55346, 3634),\n",
       " (55346, 4146),\n",
       " (55346, 4658),\n",
       " (55346, 5170),\n",
       " (55346, 5682),\n",
       " (55346, 6194),\n",
       " (55346, 6706),\n",
       " (55346, 7218),\n",
       " (55346, 7730),\n",
       " (55346, 8242),\n",
       " (55346, 8754),\n",
       " (55346, 9266),\n",
       " (55346, 9778),\n",
       " (55346, 10290),\n",
       " (55346, 10802),\n",
       " (55346, 11314),\n",
       " (55346, 11826),\n",
       " (55346, 12338),\n",
       " (55346, 12850),\n",
       " (55346, 13362),\n",
       " (55346, 13874),\n",
       " (55346, 14386),\n",
       " (55346, 14898),\n",
       " (55346, 15410),\n",
       " (55346, 15922),\n",
       " (57394, 50),\n",
       " (57394, 562),\n",
       " (57394, 1074),\n",
       " (57394, 1586),\n",
       " (57394, 2098),\n",
       " (57394, 2610),\n",
       " (57394, 3122),\n",
       " (57394, 3634),\n",
       " (57394, 4146),\n",
       " (57394, 4658),\n",
       " (57394, 5170),\n",
       " (57394, 5682),\n",
       " (57394, 6194),\n",
       " (57394, 6706),\n",
       " (57394, 7218),\n",
       " (57394, 7730),\n",
       " (57394, 8242),\n",
       " (57394, 8754),\n",
       " (57394, 9266),\n",
       " (57394, 9778),\n",
       " (57394, 10290),\n",
       " (57394, 10802),\n",
       " (57394, 11314),\n",
       " (57394, 11826),\n",
       " (57394, 12338),\n",
       " (57394, 12850),\n",
       " (57394, 13362),\n",
       " (57394, 13874),\n",
       " (57394, 14386),\n",
       " (57394, 14898),\n",
       " (57394, 15410),\n",
       " (57394, 15922),\n",
       " (59442, 50),\n",
       " (59442, 562),\n",
       " (59442, 1074),\n",
       " (59442, 1586),\n",
       " (59442, 2098),\n",
       " (59442, 2610),\n",
       " (59442, 3122),\n",
       " (59442, 3634),\n",
       " (59442, 4146),\n",
       " (59442, 4658),\n",
       " (59442, 5170),\n",
       " (59442, 5682),\n",
       " (59442, 6194),\n",
       " (59442, 6706),\n",
       " (59442, 7218),\n",
       " (59442, 7730),\n",
       " (59442, 8242),\n",
       " (59442, 8754),\n",
       " (59442, 9266),\n",
       " (59442, 9778),\n",
       " (59442, 10290),\n",
       " (59442, 10802),\n",
       " (59442, 11314),\n",
       " (59442, 11826),\n",
       " (59442, 12338),\n",
       " (59442, 12850),\n",
       " (59442, 13362),\n",
       " (59442, 13874),\n",
       " (59442, 14386),\n",
       " (59442, 14898),\n",
       " (59442, 15410),\n",
       " (59442, 15922),\n",
       " (61490, 50),\n",
       " (61490, 562),\n",
       " (61490, 1074),\n",
       " (61490, 1586),\n",
       " (61490, 2098),\n",
       " (61490, 2610),\n",
       " (61490, 3122),\n",
       " (61490, 3634),\n",
       " (61490, 4146),\n",
       " (61490, 4658),\n",
       " (61490, 5170),\n",
       " (61490, 5682),\n",
       " (61490, 6194),\n",
       " (61490, 6706),\n",
       " (61490, 7218),\n",
       " (61490, 7730),\n",
       " (61490, 8242),\n",
       " (61490, 8754),\n",
       " (61490, 9266),\n",
       " (61490, 9778),\n",
       " (61490, 10290),\n",
       " (61490, 10802),\n",
       " (61490, 11314),\n",
       " (61490, 11826),\n",
       " (61490, 12338),\n",
       " (61490, 12850),\n",
       " (61490, 13362),\n",
       " (61490, 13874),\n",
       " (61490, 14386),\n",
       " (61490, 14898),\n",
       " (61490, 15410),\n",
       " (61490, 15922),\n",
       " (63538, 50),\n",
       " (63538, 562),\n",
       " (63538, 1074),\n",
       " (63538, 1586),\n",
       " (63538, 2098),\n",
       " (63538, 2610),\n",
       " (63538, 3122),\n",
       " (63538, 3634),\n",
       " ...]"
      ]
     },
     "execution_count": 81,
     "metadata": {},
     "output_type": "execute_result"
    }
   ],
   "source": [
    "# rand_indices_whole_array = []\n",
    "\n",
    "xes = []\n",
    "ys = []\n",
    "\n",
    "for i in range(32): # there's 32x32 chunks. TODO get programmatically\n",
    "    # 2d point access - let's not just access first row of chunk\n",
    "    \n",
    "    # Random point across all chunks\n",
    "#     x = np.random.randint(low=i*chunk_shape[0]+5, high=(i+1)*chunk_shape[0] + 5)\n",
    "#     y = np.random.randint(low=i*chunk_shape[1]+5, high=(i+1)*chunk_shape[1]+5)\n",
    "    \n",
    "    xes.append(i*chunk_shape[0]+50)\n",
    "    ys.append(i*chunk_shape[1]+50)\n",
    "    \n",
    "    # \"Same\" point across all chunks\n",
    "\n",
    "#     rand_indices_whole_array.append((x,y))\n",
    "    \n",
    "    # 1D access - makes indexing complicated\n",
    "#     rand_indices_whole_array.append(np.random.randint(low=i*chunk_shape[0], high=(i+1)*chunk_shape[1]))\n",
    "\n",
    "rand_indices_whole_array = list(product(xes, ys))\n",
    "rand_indices_whole_array"
   ]
  },
  {
   "cell_type": "code",
   "execution_count": 82,
   "id": "38dddfdb",
   "metadata": {},
   "outputs": [
    {
     "data": {
      "text/plain": [
       "1024"
      ]
     },
     "execution_count": 82,
     "metadata": {},
     "output_type": "execute_result"
    }
   ],
   "source": [
    "len(rand_indices_whole_array) # Should equal n_chunks"
   ]
  },
  {
   "cell_type": "code",
   "execution_count": 83,
   "id": "c7ae41da",
   "metadata": {
    "scrolled": true
   },
   "outputs": [
    {
     "name": "stdout",
     "output_type": "stream",
     "text": [
      "898 ms ± 69.7 ms per loop (mean ± std. dev. of 7 runs, 1 loop each)\n"
     ]
    }
   ],
   "source": [
    "%%timeit\n",
    "# Read randomly from whole array, randomly 1 point from each chunk\n",
    "\n",
    "for tup in rand_indices_whole_array:\n",
    "    load_partial_decomp[tup[0], tup[1]]"
   ]
  },
  {
   "cell_type": "code",
   "execution_count": 84,
   "id": "85978081",
   "metadata": {},
   "outputs": [
    {
     "name": "stdout",
     "output_type": "stream",
     "text": [
      "1.34 s ± 11 ms per loop (mean ± std. dev. of 7 runs, 1 loop each)\n"
     ]
    }
   ],
   "source": [
    "%%timeit\n",
    "# Read randomly from whole array, randomly 1 point from each chunk\n",
    "# TODO Don't know if my indexing is correct!!\n",
    "\n",
    "for tup in rand_indices_whole_array:\n",
    "    load_disk_normally[tup[0], tup[1]]"
   ]
  },
  {
   "cell_type": "code",
   "execution_count": 85,
   "id": "787c7b37",
   "metadata": {},
   "outputs": [
    {
     "name": "stdout",
     "output_type": "stream",
     "text": [
      "Speedup:  1.488888888888889\n"
     ]
    }
   ],
   "source": [
    "print(\"Speedup: \", 1.34 / .9)"
   ]
  },
  {
   "cell_type": "markdown",
   "id": "ea7d2efd",
   "metadata": {},
   "source": [
    "### <font color=\"orange\">Let's test advanced mask indexing</font>"
   ]
  },
  {
   "cell_type": "code",
   "execution_count": 86,
   "id": "07f8708a",
   "metadata": {},
   "outputs": [
    {
     "data": {
      "text/plain": [
       "array([[ True,  True, False, ...,  True,  True, False],\n",
       "       [ True, False,  True, ...,  True,  True,  True],\n",
       "       [ True, False, False, ...,  True,  True,  True],\n",
       "       ...,\n",
       "       [False,  True, False, ..., False, False,  True],\n",
       "       [ True,  True,  True, ...,  True, False, False],\n",
       "       [ True,  True,  True, ...,  True, False,  True]])"
      ]
     },
     "execution_count": 86,
     "metadata": {},
     "output_type": "execute_result"
    }
   ],
   "source": [
    "# Create a 0-1 boolean mask with size same as Whole array\n",
    "#    Don't know how to do just 1 chunk masking\n",
    "bool_mask = np.random.randint(low=0, high=2, size=original_shape, dtype=bool)\n",
    "bool_mask"
   ]
  },
  {
   "cell_type": "code",
   "execution_count": 87,
   "id": "b667af0e",
   "metadata": {},
   "outputs": [
    {
     "name": "stdout",
     "output_type": "stream",
     "text": [
      "53.1 s ± 329 ms per loop (mean ± std. dev. of 7 runs, 1 loop each)\n"
     ]
    }
   ],
   "source": [
    "%%timeit\n",
    "# Partial decompress\n",
    "\n",
    "# _ to prevent printing\n",
    "_ = load_partial_decomp.get_mask_selection(bool_mask)"
   ]
  },
  {
   "cell_type": "code",
   "execution_count": 88,
   "id": "42b9774d",
   "metadata": {},
   "outputs": [
    {
     "name": "stdout",
     "output_type": "stream",
     "text": [
      "56.3 s ± 402 ms per loop (mean ± std. dev. of 7 runs, 1 loop each)\n"
     ]
    }
   ],
   "source": [
    "%%timeit\n",
    "# NO Partial decompress\n",
    "\n",
    "# _ to prevent printing\n",
    "_ = load_disk_normally.get_mask_selection(bool_mask)"
   ]
  },
  {
   "cell_type": "markdown",
   "id": "3f677c2a",
   "metadata": {},
   "source": [
    "## <font color=\"red\">Trying 16MB chunks. partial_decompress Benefits should be bigger for bigger chunks</font>"
   ]
  },
  {
   "cell_type": "code",
   "execution_count": 93,
   "id": "791f1d7d",
   "metadata": {},
   "outputs": [],
   "source": [
    "fsstore_8mb = zarr.storage.FSStore(\"./fsstore16MBChunk\")"
   ]
  },
  {
   "cell_type": "code",
   "execution_count": 100,
   "id": "099ccdd0",
   "metadata": {},
   "outputs": [],
   "source": [
    "chunk_shape = (4096,1024) #16MB"
   ]
  },
  {
   "cell_type": "code",
   "execution_count": 94,
   "id": "6ee67780",
   "metadata": {},
   "outputs": [],
   "source": [
    "zarr_index_list_16MB_Chunk = zarr.array(numpy_arr, store=fsstore_8mb, chunks = chunk_size_8mb)"
   ]
  },
  {
   "cell_type": "code",
   "execution_count": 95,
   "id": "4f32b4e9",
   "metadata": {},
   "outputs": [],
   "source": [
    "zarr.save(fsstore_16mb, zarr_index_list_8MB_Chunk)"
   ]
  },
  {
   "cell_type": "code",
   "execution_count": 96,
   "id": "48257921",
   "metadata": {},
   "outputs": [],
   "source": [
    "load_partial_decomp_16mb = zarr.Array(fsstore_16mb, partial_decompress=True)"
   ]
  },
  {
   "cell_type": "code",
   "execution_count": 97,
   "id": "e8daf8b5",
   "metadata": {},
   "outputs": [],
   "source": [
    "load_disk_normally_16mb = zarr.Array(fsstore_16mb, partial_decompress=False)"
   ]
  },
  {
   "cell_type": "code",
   "execution_count": 101,
   "id": "5fb9a37a",
   "metadata": {},
   "outputs": [],
   "source": [
    "rand_indices_tuples = (np.random.randint(low=0, high=chunk_shape[0], size=50), np.random.randint(low=0, high=chunk_shape[1], size=50))"
   ]
  },
  {
   "cell_type": "code",
   "execution_count": 102,
   "id": "797fc601",
   "metadata": {},
   "outputs": [
    {
     "name": "stdout",
     "output_type": "stream",
     "text": [
      "31.8 ms ± 431 µs per loop (mean ± std. dev. of 7 runs, 10 loops each)\n"
     ]
    }
   ],
   "source": [
    "%%timeit\n",
    "# Read randomly from first chunk, Not using partial decompression\n",
    "\n",
    "for i in range(50):\n",
    "    load_partial_decomp_16mb[rand_indices_tuples[0][i], rand_indices_tuples[1][i]]"
   ]
  },
  {
   "cell_type": "code",
   "execution_count": 103,
   "id": "b6e2ef81",
   "metadata": {},
   "outputs": [
    {
     "name": "stdout",
     "output_type": "stream",
     "text": [
      "112 ms ± 1.58 ms per loop (mean ± std. dev. of 7 runs, 10 loops each)\n"
     ]
    }
   ],
   "source": [
    "%%timeit\n",
    "# Read randomly from first chunk, Not using partial decompression\n",
    "\n",
    "for i in range(50):\n",
    "    load_disk_normally_16mb[rand_indices_tuples[0][i], rand_indices_tuples[1][i]]"
   ]
  },
  {
   "cell_type": "markdown",
   "id": "0fd37f6f",
   "metadata": {},
   "source": [
    "## <font color=\"red\">64 MB chunks</font>"
   ]
  },
  {
   "cell_type": "code",
   "execution_count": 105,
   "id": "fb66546b",
   "metadata": {},
   "outputs": [],
   "source": [
    "fsstore = zarr.storage.FSStore(\"./fsstore64MBChunk\")\n",
    "chunk_shape = (8192,2048)\n",
    "zarr_index_list = zarr.array(numpy_arr, store=fsstore, chunks = chunk_shape)\n",
    "zarr.save(fsstore, zarr_index_list)\n",
    "load_partial_decomp = zarr.Array(fsstore, partial_decompress=True)\n",
    "load_disk_normally = zarr.Array(fsstore, partial_decompress=False)\n",
    "rand_indices_tuples = (np.random.randint(low=0, high=chunk_shape[0], size=50), np.random.randint(low=0, high=chunk_shape[1], size=50))"
   ]
  },
  {
   "cell_type": "code",
   "execution_count": 106,
   "id": "0d0d1e15",
   "metadata": {},
   "outputs": [
    {
     "name": "stdout",
     "output_type": "stream",
     "text": [
      "31.5 ms ± 197 µs per loop (mean ± std. dev. of 7 runs, 10 loops each)\n"
     ]
    }
   ],
   "source": [
    "%%timeit\n",
    "# Read randomly from first chunk, Not using partial decompression\n",
    "\n",
    "for i in range(50):\n",
    "    load_partial_decomp[rand_indices_tuples[0][i], rand_indices_tuples[1][i]]"
   ]
  },
  {
   "cell_type": "code",
   "execution_count": 107,
   "id": "cc5a7b46",
   "metadata": {},
   "outputs": [
    {
     "name": "stdout",
     "output_type": "stream",
     "text": [
      "425 ms ± 8.58 ms per loop (mean ± std. dev. of 7 runs, 1 loop each)\n"
     ]
    }
   ],
   "source": [
    "%%timeit\n",
    "# Read randomly from first chunk, Not using partial decompression\n",
    "\n",
    "for i in range(50):\n",
    "    load_disk_normally[rand_indices_tuples[0][i], rand_indices_tuples[1][i]]"
   ]
  },
  {
   "cell_type": "markdown",
   "id": "2feca4a0",
   "metadata": {},
   "source": [
    "## <font color=\"red\">256MB Chunk</font>"
   ]
  },
  {
   "cell_type": "code",
   "execution_count": 110,
   "id": "31b29913",
   "metadata": {},
   "outputs": [],
   "source": [
    "fsstore = zarr.storage.FSStore(\"./fsstore256MBChunk\")\n",
    "chunk_shape = (16384,4096)\n",
    "zarr_index_list = zarr.array(numpy_arr, store=fsstore, chunks = chunk_shape)\n",
    "zarr.save(fsstore, zarr_index_list)\n",
    "load_partial_decomp = zarr.Array(fsstore, partial_decompress=True)\n",
    "load_disk_normally = zarr.Array(fsstore, partial_decompress=False)\n",
    "rand_indices_tuples = (np.random.randint(low=0, high=chunk_shape[0], size=50), np.random.randint(low=0, high=chunk_shape[1], size=50))"
   ]
  },
  {
   "cell_type": "code",
   "execution_count": 2,
   "id": "4c8cc7be",
   "metadata": {},
   "outputs": [],
   "source": [
    "fsstore = zarr.storage.FSStore(\"./fsstore256MBChunk\")"
   ]
  },
  {
   "cell_type": "code",
   "execution_count": 7,
   "id": "31d7762a",
   "metadata": {},
   "outputs": [],
   "source": [
    "load_partial_decomp = zarr.Array(fsstore, partial_decompress=True)"
   ]
  },
  {
   "cell_type": "code",
   "execution_count": 9,
   "id": "31588943",
   "metadata": {},
   "outputs": [
    {
     "data": {
      "text/plain": [
       "True"
      ]
     },
     "execution_count": 9,
     "metadata": {},
     "output_type": "execute_result"
    }
   ],
   "source": [
    "load_partial_decomp._partial_decompress"
   ]
  },
  {
   "cell_type": "code",
   "execution_count": 111,
   "id": "446d0daa",
   "metadata": {},
   "outputs": [
    {
     "name": "stdout",
     "output_type": "stream",
     "text": [
      "36.7 ms ± 386 µs per loop (mean ± std. dev. of 7 runs, 10 loops each)\n"
     ]
    }
   ],
   "source": [
    "%%timeit\n",
    "# Read randomly from first chunk, Not using partial decompression\n",
    "\n",
    "for i in range(50):\n",
    "    load_partial_decomp[rand_indices_tuples[0][i], rand_indices_tuples[1][i]]"
   ]
  },
  {
   "cell_type": "code",
   "execution_count": 112,
   "id": "1f0898dc",
   "metadata": {},
   "outputs": [
    {
     "name": "stdout",
     "output_type": "stream",
     "text": [
      "1.62 s ± 2.34 ms per loop (mean ± std. dev. of 7 runs, 1 loop each)\n"
     ]
    }
   ],
   "source": [
    "%%timeit\n",
    "# Read randomly from first chunk, Not using partial decompression\n",
    "\n",
    "for i in range(50):\n",
    "    load_disk_normally[rand_indices_tuples[0][i], rand_indices_tuples[1][i]]"
   ]
  },
  {
   "cell_type": "markdown",
   "id": "62ee66fd",
   "metadata": {},
   "source": [
    "## <font color=\"red\">1GB Chunk - write then read</font>"
   ]
  },
  {
   "cell_type": "code",
   "execution_count": null,
   "id": "f2ff5923",
   "metadata": {},
   "outputs": [],
   "source": [
    "fsstore = zarr.storage.FSStore(\"./fsstore1GBChunk\")\n",
    "chunk_shape = (32768,8192)\n",
    "zarr_index_list = zarr.array(numpy_arr, store=fsstore, chunks = chunk_shape)\n",
    "zarr.save(fsstore, zarr_index_list)\n",
    "load_partial_decomp = zarr.Array(fsstore, partial_decompress=True)\n",
    "load_disk_normally = zarr.Array(fsstore, partial_decompress=False)\n",
    "rand_indices_tuples = (np.random.randint(low=0, high=chunk_shape[0], size=50), np.random.randint(low=0, high=chunk_shape[1], size=50))"
   ]
  },
  {
   "cell_type": "code",
   "execution_count": null,
   "id": "d567377f",
   "metadata": {},
   "outputs": [],
   "source": [
    "%%timeit\n",
    "# Read randomly from first chunk\n",
    "\n",
    "for i in range(50):\n",
    "    load_partial_decomp[rand_indices_tuples[0][i], rand_indices_tuples[1][i]]"
   ]
  },
  {
   "cell_type": "code",
   "execution_count": 116,
   "id": "a46a7ce8",
   "metadata": {},
   "outputs": [
    {
     "name": "stdout",
     "output_type": "stream",
     "text": [
      "6.82 s ± 164 ms per loop (mean ± std. dev. of 7 runs, 1 loop each)\n"
     ]
    }
   ],
   "source": [
    "%%timeit\n",
    "# Read randomly from first chunk, Not using partial decompression\n",
    "\n",
    "for i in range(50):\n",
    "    load_disk_normally[rand_indices_tuples[0][i], rand_indices_tuples[1][i]]"
   ]
  },
  {
   "cell_type": "code",
   "execution_count": 117,
   "id": "bf72a5a7",
   "metadata": {},
   "outputs": [
    {
     "data": {
      "text/plain": [
       "[(50, 50), (50, 8242), (32818, 50), (32818, 8242)]"
      ]
     },
     "execution_count": 117,
     "metadata": {},
     "output_type": "execute_result"
    }
   ],
   "source": [
    "xes = []\n",
    "ys = []\n",
    "\n",
    "for i in range(2): # N chunks\n",
    "    xes.append(i*chunk_shape[0]+50)\n",
    "    ys.append(i*chunk_shape[1]+50)\n",
    "    \n",
    "\n",
    "rand_indices_whole_array = list(product(xes, ys))\n",
    "rand_indices_whole_array"
   ]
  },
  {
   "cell_type": "code",
   "execution_count": 118,
   "id": "e3e9c5cd",
   "metadata": {},
   "outputs": [
    {
     "name": "stdout",
     "output_type": "stream",
     "text": [
      "2.46 ms ± 38.8 µs per loop (mean ± std. dev. of 7 runs, 100 loops each)\n"
     ]
    }
   ],
   "source": [
    "%%timeit\n",
    "# Read randomly from whole array, randomly 1 point from each chunk\n",
    "\n",
    "for tup in rand_indices_whole_array:\n",
    "    load_partial_decomp[tup[0], tup[1]]"
   ]
  },
  {
   "cell_type": "code",
   "execution_count": 119,
   "id": "534e209a",
   "metadata": {},
   "outputs": [
    {
     "name": "stdout",
     "output_type": "stream",
     "text": [
      "532 ms ± 1.66 ms per loop (mean ± std. dev. of 7 runs, 1 loop each)\n"
     ]
    }
   ],
   "source": [
    "%%timeit\n",
    "# Read randomly from whole array, randomly 1 point from each chunk\n",
    "\n",
    "for tup in rand_indices_whole_array:\n",
    "    load_disk_normally[tup[0], tup[1]]"
   ]
  },
  {
   "cell_type": "markdown",
   "id": "0032d0a9",
   "metadata": {},
   "source": [
    "### <font color=\"red\">1. Run for longer than 50, see if serializing only once the big chunk, or every time you index it\n",
    "\n",
    "\n",
    "2. Figure out decompression unit size. Experiment: Access ranges: 1K, 4K, 16K, 64K - 1M - 16M\n",
    "</font>\n",
    "\n",
    "3. Can we change compression size? & tradeoffs w/ different sizes\n",
    "\n",
    "\n",
    "3. Crossover betw. one at a time IO and loading whole chunks & indexing points. See how many points you need to index for partial_decompress to be slower\n",
    "\n",
    "\n",
    "4. Mask with sparse, p=0.05"
   ]
  },
  {
   "cell_type": "markdown",
   "id": "628a6f98",
   "metadata": {},
   "source": [
    "# New Experiments - just read existing data (don't create new FSStores)"
   ]
  },
  {
   "cell_type": "code",
   "execution_count": 10,
   "id": "c7d2dee5",
   "metadata": {},
   "outputs": [],
   "source": [
    "import numpy as np\n",
    "import zarr\n",
    "\n",
    "# Define data location\n",
    "fsstore = zarr.storage.FSStore(\"./fsstore256MBChunk\")\n",
    "# Load data - partial_decompress and full decompress\n",
    "load_partial_decomp = zarr.Array(fsstore, partial_decompress=True)\n",
    "load_disk_normally = zarr.Array(fsstore, partial_decompress=False)"
   ]
  },
  {
   "cell_type": "code",
   "execution_count": 11,
   "id": "3dc430ac",
   "metadata": {},
   "outputs": [
    {
     "data": {
      "text/plain": [
       "True"
      ]
     },
     "execution_count": 11,
     "metadata": {},
     "output_type": "execute_result"
    }
   ],
   "source": [
    "load_partial_decomp._partial_decompress"
   ]
  },
  {
   "cell_type": "code",
   "execution_count": 17,
   "id": "2785e58f",
   "metadata": {},
   "outputs": [
    {
     "data": {
      "text/html": [
       "<table class=\"zarr-info\"><tbody><tr><th style=\"text-align: left\">Type</th><td style=\"text-align: left\">zarr.core.Array</td></tr><tr><th style=\"text-align: left\">Data type</th><td style=\"text-align: left\">int32</td></tr><tr><th style=\"text-align: left\">Shape</th><td style=\"text-align: left\">(65536, 16384)</td></tr><tr><th style=\"text-align: left\">Chunk shape</th><td style=\"text-align: left\">(16384, 4096)</td></tr><tr><th style=\"text-align: left\">Order</th><td style=\"text-align: left\">C</td></tr><tr><th style=\"text-align: left\">Read-only</th><td style=\"text-align: left\">False</td></tr><tr><th style=\"text-align: left\">Compressor</th><td style=\"text-align: left\">Blosc(cname='lz4', clevel=5, shuffle=SHUFFLE, blocksize=0)</td></tr><tr><th style=\"text-align: left\">Store type</th><td style=\"text-align: left\">zarr.storage.FSStore</td></tr><tr><th style=\"text-align: left\">No. bytes</th><td style=\"text-align: left\">4294967296 (4.0G)</td></tr><tr><th style=\"text-align: left\">No. bytes stored</th><td style=\"text-align: left\">17334874 (16.5M)</td></tr><tr><th style=\"text-align: left\">Storage ratio</th><td style=\"text-align: left\">247.8</td></tr><tr><th style=\"text-align: left\">Chunks initialized</th><td style=\"text-align: left\">16/16</td></tr></tbody></table>"
      ],
      "text/plain": [
       "Type               : zarr.core.Array\n",
       "Data type          : int32\n",
       "Shape              : (65536, 16384)\n",
       "Chunk shape        : (16384, 4096)\n",
       "Order              : C\n",
       "Read-only          : False\n",
       "Compressor         : Blosc(cname='lz4', clevel=5, shuffle=SHUFFLE, blocksize=0)\n",
       "Store type         : zarr.storage.FSStore\n",
       "No. bytes          : 4294967296 (4.0G)\n",
       "No. bytes stored   : 17334874 (16.5M)\n",
       "Storage ratio      : 247.8\n",
       "Chunks initialized : 16/16"
      ]
     },
     "execution_count": 17,
     "metadata": {},
     "output_type": "execute_result"
    }
   ],
   "source": [
    "load_partial_decomp.info"
   ]
  },
  {
   "cell_type": "markdown",
   "id": "885f6484",
   "metadata": {},
   "source": [
    "<font color=\"orange\">Need the above to determine chunk shape. Don't know how to get that programmatically yet</font>"
   ]
  },
  {
   "cell_type": "code",
   "execution_count": 18,
   "id": "2649c688",
   "metadata": {},
   "outputs": [],
   "source": [
    "chunk_shape = (16384,4096)"
   ]
  },
  {
   "cell_type": "markdown",
   "id": "674a1430",
   "metadata": {},
   "source": [
    "### Experiment 1: run for longer access (>50)"
   ]
  },
  {
   "cell_type": "code",
   "execution_count": 53,
   "id": "e2613f1c",
   "metadata": {},
   "outputs": [],
   "source": [
    "# Create Random indices to test access speed\n",
    "\n",
    "index_lengths = range(50,2000,50) # [50, 100, 150 ... 2000]\n",
    "\n",
    "indices_various_len = []\n",
    "for ind_len in index_lengths:\n",
    "    indices_various_len.append(np.array((np.random.randint(low=0, high=chunk_shape[0], size=ind_len), np.random.randint(low=0, high=chunk_shape[1], size=ind_len))).T)"
   ]
  },
  {
   "cell_type": "code",
   "execution_count": 54,
   "id": "3cb85220",
   "metadata": {},
   "outputs": [
    {
     "name": "stdout",
     "output_type": "stream",
     "text": [
      "class:  ndarray\n",
      "shape:  (50, 2)\n",
      "strides:  (8, 400)\n",
      "itemsize:  8\n",
      "aligned:  True\n",
      "contiguous:  False\n",
      "fortran:  True\n",
      "data pointer: 0x109d25210\n",
      "byteorder:  little\n",
      "byteswap:  False\n",
      "type: int64\n"
     ]
    }
   ],
   "source": [
    "np.info(indices_various_len[0])"
   ]
  },
  {
   "cell_type": "code",
   "execution_count": 55,
   "id": "1ddba39d",
   "metadata": {
    "scrolled": true
   },
   "outputs": [
    {
     "data": {
      "text/plain": [
       "array([[ 4350,   707],\n",
       "       [ 6420,  2231],\n",
       "       [ 6202,   867],\n",
       "       [  805,   645],\n",
       "       [ 9328,  1212],\n",
       "       [ 9313,  3034],\n",
       "       [ 9402,  1465],\n",
       "       [ 1461,  1608],\n",
       "       [ 8984,  4092],\n",
       "       [ 6441,  2719],\n",
       "       [13419,   315],\n",
       "       [ 8848,  2826],\n",
       "       [  591,  2885],\n",
       "       [15268,  3607],\n",
       "       [ 6434,    31],\n",
       "       [15708,   686],\n",
       "       [ 7005,  1725],\n",
       "       [13976,   342],\n",
       "       [ 2763,   509],\n",
       "       [15908,  1683],\n",
       "       [15972,  3623],\n",
       "       [13608,  2889],\n",
       "       [13205,  1430],\n",
       "       [ 9280,  1110],\n",
       "       [14487,  2777],\n",
       "       [  922,   361],\n",
       "       [ 5829,  3413],\n",
       "       [ 5950,  3552],\n",
       "       [ 4063,  4065],\n",
       "       [ 4180,   324],\n",
       "       [15017,  2497],\n",
       "       [ 7035,  1320],\n",
       "       [14372,  1172],\n",
       "       [ 2430,   470],\n",
       "       [13214,  3788],\n",
       "       [13340,  2467],\n",
       "       [12511,  1584],\n",
       "       [16350,  3010],\n",
       "       [ 7587,  1893],\n",
       "       [ 6178,  3837],\n",
       "       [ 2902,    26],\n",
       "       [15478,  3451],\n",
       "       [ 4336,  3892],\n",
       "       [14560,  1433],\n",
       "       [ 8460,   194],\n",
       "       [  420,  1718],\n",
       "       [ 6332,   931],\n",
       "       [ 2705,  3937],\n",
       "       [ 3403,   698],\n",
       "       [ 8473,  3809]])"
      ]
     },
     "execution_count": 55,
     "metadata": {},
     "output_type": "execute_result"
    }
   ],
   "source": [
    "indices_various_len[0]"
   ]
  },
  {
   "cell_type": "code",
   "execution_count": 56,
   "id": "0f9ee04f",
   "metadata": {
    "scrolled": true
   },
   "outputs": [
    {
     "name": "stdout",
     "output_type": "stream",
     "text": [
      "212 ms ± 7.4 ms per loop (mean ± std. dev. of 7 runs, 1 loop each)\n"
     ]
    }
   ],
   "source": [
    "%%timeit\n",
    "# Read randomly from first chunk, Using partial decompression\n",
    "\n",
    "for i in range(len(indices_various_len[1])):\n",
    "    load_partial_decomp[indices_various_len[1][i][0], indices_various_len[1][i][1]]"
   ]
  },
  {
   "cell_type": "code",
   "execution_count": 57,
   "id": "e49bc3d5",
   "metadata": {},
   "outputs": [
    {
     "name": "stdout",
     "output_type": "stream",
     "text": [
      "3.31 s ± 48.2 ms per loop (mean ± std. dev. of 7 runs, 1 loop each)\n"
     ]
    }
   ],
   "source": [
    "%%timeit\n",
    "# Read randomly from first chunk, Not using partial decompression\n",
    "\n",
    "for ind_len in range(len(indices_various_len[1])):\n",
    "    load_disk_normally[indices_various_len[1][ind_len][0], indices_various_len[1][ind_len][1]]"
   ]
  },
  {
   "cell_type": "code",
   "execution_count": 60,
   "id": "fd016a57",
   "metadata": {},
   "outputs": [],
   "source": [
    "def access_random_indices_chunk(i, loaded_array):\n",
    "    # Random access of various points in 1 Zarr array chunk\n",
    "    # This shows the cutoff of how many points-per-chunk makes using\n",
    "    # partial_decompress=True advantagous\n",
    "    # Moved to separate function to make %timeit easy\n",
    "    #\n",
    "    # Args:\n",
    "    #    i - how many random accesses to do per chunk (chosen from indices_various_len)\n",
    "    #    loaded_array - zarr array to access elements from\n",
    "    test_indices = indices_various_len[i] # For readability\n",
    "    index_length = indices_various_len[i].shape[0]\n",
    "    \n",
    "    for j in range(index_length):\n",
    "        loaded_array[test_indices[j][0], test_indices[j][1]]"
   ]
  },
  {
   "cell_type": "markdown",
   "id": "85d2a99d",
   "metadata": {},
   "source": [
    "### Below - access times for indices of size 50, 100, 150 ... 2000"
   ]
  },
  {
   "cell_type": "markdown",
   "id": "7c2d05b3",
   "metadata": {},
   "source": [
    "#### partial_decompress"
   ]
  },
  {
   "cell_type": "code",
   "execution_count": 71,
   "id": "a46f6733",
   "metadata": {
    "scrolled": true
   },
   "outputs": [
    {
     "name": "stdout",
     "output_type": "stream",
     "text": [
      "157 ms ± 4.6 ms per loop (mean ± std. dev. of 7 runs, 10 loops each)\n",
      "315 ms ± 9.08 ms per loop (mean ± std. dev. of 7 runs, 1 loop each)\n",
      "495 ms ± 49 ms per loop (mean ± std. dev. of 7 runs, 1 loop each)\n",
      "721 ms ± 52.3 ms per loop (mean ± std. dev. of 7 runs, 1 loop each)\n",
      "903 ms ± 124 ms per loop (mean ± std. dev. of 7 runs, 1 loop each)\n",
      "945 ms ± 21.8 ms per loop (mean ± std. dev. of 7 runs, 1 loop each)\n",
      "1.09 s ± 9.44 ms per loop (mean ± std. dev. of 7 runs, 1 loop each)\n",
      "1.33 s ± 103 ms per loop (mean ± std. dev. of 7 runs, 1 loop each)\n",
      "1.39 s ± 6.07 ms per loop (mean ± std. dev. of 7 runs, 1 loop each)\n",
      "1.63 s ± 94.1 ms per loop (mean ± std. dev. of 7 runs, 1 loop each)\n",
      "1.83 s ± 128 ms per loop (mean ± std. dev. of 7 runs, 1 loop each)\n",
      "1.93 s ± 109 ms per loop (mean ± std. dev. of 7 runs, 1 loop each)\n",
      "2.16 s ± 93.1 ms per loop (mean ± std. dev. of 7 runs, 1 loop each)\n",
      "2.17 s ± 3.73 ms per loop (mean ± std. dev. of 7 runs, 1 loop each)\n",
      "2.33 s ± 22.8 ms per loop (mean ± std. dev. of 7 runs, 1 loop each)\n",
      "2.53 s ± 68.4 ms per loop (mean ± std. dev. of 7 runs, 1 loop each)\n",
      "2.78 s ± 84.3 ms per loop (mean ± std. dev. of 7 runs, 1 loop each)\n",
      "2.87 s ± 30.4 ms per loop (mean ± std. dev. of 7 runs, 1 loop each)\n",
      "3.04 s ± 82 ms per loop (mean ± std. dev. of 7 runs, 1 loop each)\n",
      "3.13 s ± 18.6 ms per loop (mean ± std. dev. of 7 runs, 1 loop each)\n",
      "3.34 s ± 61.7 ms per loop (mean ± std. dev. of 7 runs, 1 loop each)\n",
      "3.63 s ± 159 ms per loop (mean ± std. dev. of 7 runs, 1 loop each)\n",
      "3.75 s ± 155 ms per loop (mean ± std. dev. of 7 runs, 1 loop each)\n",
      "3.9 s ± 94.3 ms per loop (mean ± std. dev. of 7 runs, 1 loop each)\n",
      "4.04 s ± 110 ms per loop (mean ± std. dev. of 7 runs, 1 loop each)\n",
      "4.26 s ± 170 ms per loop (mean ± std. dev. of 7 runs, 1 loop each)\n",
      "4.61 s ± 304 ms per loop (mean ± std. dev. of 7 runs, 1 loop each)\n",
      "4.52 s ± 131 ms per loop (mean ± std. dev. of 7 runs, 1 loop each)\n",
      "4.55 s ± 15.9 ms per loop (mean ± std. dev. of 7 runs, 1 loop each)\n",
      "4.7 s ± 16 ms per loop (mean ± std. dev. of 7 runs, 1 loop each)\n",
      "4.85 s ± 17.8 ms per loop (mean ± std. dev. of 7 runs, 1 loop each)\n",
      "5 s ± 12.5 ms per loop (mean ± std. dev. of 7 runs, 1 loop each)\n",
      "5.3 s ± 121 ms per loop (mean ± std. dev. of 7 runs, 1 loop each)\n",
      "5.47 s ± 182 ms per loop (mean ± std. dev. of 7 runs, 1 loop each)\n",
      "5.44 s ± 3.31 ms per loop (mean ± std. dev. of 7 runs, 1 loop each)\n",
      "5.66 s ± 129 ms per loop (mean ± std. dev. of 7 runs, 1 loop each)\n",
      "5.94 s ± 280 ms per loop (mean ± std. dev. of 7 runs, 1 loop each)\n",
      "5.95 s ± 55 ms per loop (mean ± std. dev. of 7 runs, 1 loop each)\n",
      "6.66 s ± 162 ms per loop (mean ± std. dev. of 7 runs, 1 loop each)\n"
     ]
    }
   ],
   "source": [
    "partial_decomp_chunk_access = []\n",
    "\n",
    "for i in range(len(index_lengths)):\n",
    "    _ = %timeit -o access_random_indices_chunk(i, load_partial_decomp)\n",
    "    partial_decomp_chunk_access.append(_)"
   ]
  },
  {
   "cell_type": "markdown",
   "id": "db33bfee",
   "metadata": {},
   "source": [
    "#### no partial_decompress"
   ]
  },
  {
   "cell_type": "code",
   "execution_count": null,
   "id": "6ca5e8b1",
   "metadata": {},
   "outputs": [
    {
     "name": "stdout",
     "output_type": "stream",
     "text": [
      "1.81 s ± 46.2 ms per loop (mean ± std. dev. of 7 runs, 1 loop each)\n",
      "3.48 s ± 34.6 ms per loop (mean ± std. dev. of 7 runs, 1 loop each)\n",
      "5.31 s ± 110 ms per loop (mean ± std. dev. of 7 runs, 1 loop each)\n",
      "7.3 s ± 50.9 ms per loop (mean ± std. dev. of 7 runs, 1 loop each)\n",
      "9.08 s ± 141 ms per loop (mean ± std. dev. of 7 runs, 1 loop each)\n",
      "11 s ± 157 ms per loop (mean ± std. dev. of 7 runs, 1 loop each)\n",
      "13.2 s ± 170 ms per loop (mean ± std. dev. of 7 runs, 1 loop each)\n",
      "14.9 s ± 169 ms per loop (mean ± std. dev. of 7 runs, 1 loop each)\n",
      "15.8 s ± 87.6 ms per loop (mean ± std. dev. of 7 runs, 1 loop each)\n",
      "18.1 s ± 587 ms per loop (mean ± std. dev. of 7 runs, 1 loop each)\n"
     ]
    }
   ],
   "source": [
    "no_decomp_chunk_access = []\n",
    "\n",
    "for i in range(len(index_lengths[:15])): # Stopped at 15/40 since it's so slow\n",
    "    _ = %timeit -o access_random_indices_chunk(i, load_disk_normally)\n",
    "    no_decomp_chunk_access.append(_)"
   ]
  },
  {
   "cell_type": "markdown",
   "id": "1d52b576",
   "metadata": {},
   "source": [
    "##### Pickle above results to file - let's not lose experiments"
   ]
  },
  {
   "cell_type": "code",
   "execution_count": null,
   "id": "2e3ab7ab",
   "metadata": {},
   "outputs": [],
   "source": [
    "import pickle\n",
    "\n",
    "partial_random_chunk_acc_file = open(\"partial_random_chunk_acc.pickle\", 'wb')\n",
    "normal_random_chunk_acc_file = open(\"normal_random_chunk_acc.pickle\", \"wb\")\n",
    "\n",
    "pickle.dump(partial_decomp_chunk_access)\n",
    "pickle.dump(no_decomp_chunk_access)"
   ]
  },
  {
   "cell_type": "markdown",
   "id": "bfd54a25",
   "metadata": {},
   "source": [
    "### Experiment 1 Plotting"
   ]
  },
  {
   "cell_type": "code",
   "execution_count": 76,
   "id": "61b46f17",
   "metadata": {},
   "outputs": [],
   "source": [
    "means = [x.average for x in partial_decomp_chunk_access]\n",
    "stds = [x.stdev for x in partial_decomp_chunk_access]"
   ]
  },
  {
   "cell_type": "code",
   "execution_count": 77,
   "id": "e4b3ef63",
   "metadata": {
    "scrolled": true
   },
   "outputs": [
    {
     "data": {
      "text/plain": [
       "[0.004598442072913883,\n",
       " 0.009081079244709946,\n",
       " 0.04900065314176101,\n",
       " 0.05229840318444294,\n",
       " 0.12421336065014245,\n",
       " 0.021755984297086153,\n",
       " 0.0094442928403238,\n",
       " 0.1025880578874397,\n",
       " 0.006068480490605099,\n",
       " 0.09407557341539492,\n",
       " 0.12753523570409298,\n",
       " 0.10931725902482747,\n",
       " 0.09305288844306654,\n",
       " 0.0037340868973195114,\n",
       " 0.022760713017623904,\n",
       " 0.06842173643440884,\n",
       " 0.08429396828361521,\n",
       " 0.030376865680653113,\n",
       " 0.08196310305262813,\n",
       " 0.01863328268705259,\n",
       " 0.06172907405050216,\n",
       " 0.15907518010697402,\n",
       " 0.1550881229666915,\n",
       " 0.09425172934937888,\n",
       " 0.11030702312275065,\n",
       " 0.17042800628047736,\n",
       " 0.30414712856626713,\n",
       " 0.13092133431603725,\n",
       " 0.01587122892079038,\n",
       " 0.01596054154167808,\n",
       " 0.017754056586481888,\n",
       " 0.012454242976674303,\n",
       " 0.12098796405862741,\n",
       " 0.18228777546139163,\n",
       " 0.003310903646632827,\n",
       " 0.12890598446098026,\n",
       " 0.2799352919151161,\n",
       " 0.055008405447071064,\n",
       " 0.16218673143409068]"
      ]
     },
     "execution_count": 77,
     "metadata": {},
     "output_type": "execute_result"
    }
   ],
   "source": [
    "stds"
   ]
  },
  {
   "cell_type": "code",
   "execution_count": 78,
   "id": "d758e5b4",
   "metadata": {
    "scrolled": true
   },
   "outputs": [
    {
     "data": {
      "image/png": "[encoded data removed]",
      "text/plain": [
       "<Figure size 640x480 with 1 Axes>"
      ]
     },
     "metadata": {},
     "output_type": "display_data"
    }
   ],
   "source": [
    "import matplotlib.pyplot as plt\n",
    "# x = [1, 2, 3, 4]\n",
    "# y = [1, 4, 9, 16]\n",
    "# e = [0.5, 1., 1.5, 2.]\n",
    "plt.errorbar(index_lengths, means, yerr=stds, fmt='o')\n",
    "plt.show()"
   ]
  },
  {
   "cell_type": "markdown",
   "id": "32c28fed",
   "metadata": {},
   "source": [
    "### Experiment 2 - Stabbing queries"
   ]
  },
  {
   "cell_type": "code",
   "execution_count": null,
   "id": "9fdbaf97",
   "metadata": {},
   "outputs": [],
   "source": []
  }
 ],
 "metadata": {
  "kernelspec": {
   "display_name": "Python 3 (ipykernel)",
   "language": "python",
   "name": "python3"
  },
  "language_info": {
   "codemirror_mode": {
    "name": "ipython",
    "version": 3
   },
   "file_extension": ".py",
   "mimetype": "text/x-python",
   "name": "python",
   "nbconvert_exporter": "python",
   "pygments_lexer": "ipython3",
   "version": "3.10.7"
  }
 },
 "nbformat": 4,
 "nbformat_minor": 5
}
