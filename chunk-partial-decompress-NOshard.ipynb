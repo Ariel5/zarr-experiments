{
 "cells": [
  {
   "cell_type": "code",
   "execution_count": 15,
   "id": "b3b19475",
   "metadata": {},
   "outputs": [
    {
     "data": {
      "text/plain": [
       "'2.13.2'"
      ]
     },
     "execution_count": 15,
     "metadata": {},
     "output_type": "execute_result"
    }
   ],
   "source": [
    "import zarr # Check version\n",
    "zarr.__version__"
   ]
  },
  {
   "cell_type": "markdown",
   "id": "09861b38",
   "metadata": {},
   "source": [
    "Zarr Sharding pull request should show '0.0.0'\n",
    "\n",
    "If it says e.g. 2.13.2, then you're running on the \"proper\" published version (without Sharding support as of 28-Sept-2022)"
   ]
  },
  {
   "cell_type": "markdown",
   "id": "b4ba2968",
   "metadata": {},
   "source": [
    "### 1. I wanna test partial_decompression by accessing a random index"
   ]
  },
  {
   "cell_type": "code",
   "execution_count": 16,
   "id": "86a6291b",
   "metadata": {},
   "outputs": [],
   "source": [
    "import numpy as np\n",
    "\n",
    "\n",
    "numpy_arr = np.empty((66600, 15000), dtype=np.uint32) # ~3GB\n",
    "original_shape = numpy_arr.shape\n",
    "\n",
    "# 50k x 150k int32 is limit of M1 Pro 32GB\n",
    "#\n",
    "for i in range(numpy_arr.shape[0]):\n",
    "    numpy_arr[i][:] = list(range(original_shape[1]*i, original_shape[1]*(i+1)))"
   ]
  },
  {
   "cell_type": "code",
   "execution_count": 17,
   "id": "1dc8aa16",
   "metadata": {},
   "outputs": [
    {
     "name": "stdout",
     "output_type": "stream",
     "text": [
      "Memory used:  3.721565008163452  GB\n"
     ]
    }
   ],
   "source": [
    "print(\"Memory used: \", numpy_arr.nbytes / 1024 / 1024 / 1024, \" GB\")"
   ]
  },
  {
   "cell_type": "code",
   "execution_count": 18,
   "id": "0ea2285c",
   "metadata": {},
   "outputs": [
    {
     "data": {
      "text/plain": [
       "array([0, 1, 2, 3, 4, 5, 6, 7, 8, 9], dtype=uint32)"
      ]
     },
     "execution_count": 18,
     "metadata": {},
     "output_type": "execute_result"
    }
   ],
   "source": [
    "numpy_arr[0][0:10]"
   ]
  },
  {
   "cell_type": "code",
   "execution_count": 23,
   "id": "a26dc7b5",
   "metadata": {},
   "outputs": [
    {
     "data": {
      "text/html": [
       "<table class=\"zarr-info\"><tbody><tr><th style=\"text-align: left\">Type</th><td style=\"text-align: left\">zarr.core.Array</td></tr><tr><th style=\"text-align: left\">Data type</th><td style=\"text-align: left\">float64</td></tr><tr><th style=\"text-align: left\">Shape</th><td style=\"text-align: left\">(66600, 15000)</td></tr><tr><th style=\"text-align: left\">Chunk shape</th><td style=\"text-align: left\">(15000, 15000)</td></tr><tr><th style=\"text-align: left\">Order</th><td style=\"text-align: left\">C</td></tr><tr><th style=\"text-align: left\">Read-only</th><td style=\"text-align: left\">False</td></tr><tr><th style=\"text-align: left\">Compressor</th><td style=\"text-align: left\">Blosc(cname='lz4', clevel=1, shuffle=NOSHUFFLE, blocksize=0)</td></tr><tr><th style=\"text-align: left\">Store type</th><td style=\"text-align: left\">zarr.storage.KVStore</td></tr><tr><th style=\"text-align: left\">No. bytes</th><td style=\"text-align: left\">7992000000 (7.4G)</td></tr><tr><th style=\"text-align: left\">No. bytes stored</th><td style=\"text-align: left\">4035852693 (3.8G)</td></tr><tr><th style=\"text-align: left\">Storage ratio</th><td style=\"text-align: left\">2.0</td></tr><tr><th style=\"text-align: left\">Chunks initialized</th><td style=\"text-align: left\">5/5</td></tr></tbody></table>"
      ],
      "text/plain": [
       "Type               : zarr.core.Array\n",
       "Data type          : float64\n",
       "Shape              : (66600, 15000)\n",
       "Chunk shape        : (15000, 15000)\n",
       "Order              : C\n",
       "Read-only          : False\n",
       "Compressor         : Blosc(cname='lz4', clevel=1, shuffle=NOSHUFFLE,\n",
       "                   : blocksize=0)\n",
       "Store type         : zarr.storage.KVStore\n",
       "No. bytes          : 7992000000 (7.4G)\n",
       "No. bytes stored   : 4035852693 (3.8G)\n",
       "Storage ratio      : 2.0\n",
       "Chunks initialized : 5/5"
      ]
     },
     "execution_count": 23,
     "metadata": {},
     "output_type": "execute_result"
    }
   ],
   "source": [
    "# Let's make chunks really large to test partial decompression\n",
    "\n",
    "# So Let's use a weak compressor\n",
    "from numcodecs import Blosc\n",
    "weak_compressor = Blosc(cname='lz4', clevel=1, shuffle=Blosc.NOSHUFFLE)\n",
    "\n",
    "chunk_size=(15000,15000)\n",
    "\n",
    "# Reached max chunk size\n",
    "zarr_index_list = zarr.array(numpy_arr, compressor=weak_compressor, chunks=chunk_size, partial_decompress=True, dtype='f8')\n",
    "# z = zarr.zeros((10000,10000), chunks=(1000,1000), dtype='i4')\n",
    "\n",
    "zarr_index_list.info"
   ]
  },
  {
   "cell_type": "markdown",
   "id": "5aa10623",
   "metadata": {},
   "source": [
    "<font color=\"red\">Not sure why it's ignoring partial_decompress. Maybe it just works on open()/read()</font>"
   ]
  },
  {
   "cell_type": "code",
   "execution_count": 20,
   "id": "6066ae98",
   "metadata": {},
   "outputs": [],
   "source": [
    "# example-zarr is actually a folder\n",
    "# z1 = zarr.open('./example-zarr', mode='w', shape=original_shape, chunks=(15000,15000), dtype='f8', partial_decompress=True)\n",
    "zarr.save('./example-zarr', zarr_index_list)\n",
    "# Needs both open and save() I Think\n",
    "# open() clears previous, save() writes new"
   ]
  },
  {
   "cell_type": "code",
   "execution_count": 21,
   "id": "fe575523",
   "metadata": {},
   "outputs": [
    {
     "data": {
      "text/html": [
       "<table class=\"zarr-info\"><tbody><tr><th style=\"text-align: left\">Type</th><td style=\"text-align: left\">zarr.core.Array</td></tr><tr><th style=\"text-align: left\">Data type</th><td style=\"text-align: left\">float64</td></tr><tr><th style=\"text-align: left\">Shape</th><td style=\"text-align: left\">(66600, 15000)</td></tr><tr><th style=\"text-align: left\">Chunk shape</th><td style=\"text-align: left\">(15000, 15000)</td></tr><tr><th style=\"text-align: left\">Order</th><td style=\"text-align: left\">C</td></tr><tr><th style=\"text-align: left\">Read-only</th><td style=\"text-align: left\">True</td></tr><tr><th style=\"text-align: left\">Compressor</th><td style=\"text-align: left\">Blosc(cname='lz4', clevel=5, shuffle=SHUFFLE, blocksize=0)</td></tr><tr><th style=\"text-align: left\">Store type</th><td style=\"text-align: left\">zarr.storage.DirectoryStore</td></tr><tr><th style=\"text-align: left\">No. bytes</th><td style=\"text-align: left\">7992000000 (7.4G)</td></tr><tr><th style=\"text-align: left\">No. bytes stored</th><td style=\"text-align: left\">51661593 (49.3M)</td></tr><tr><th style=\"text-align: left\">Storage ratio</th><td style=\"text-align: left\">154.7</td></tr><tr><th style=\"text-align: left\">Chunks initialized</th><td style=\"text-align: left\">5/5</td></tr></tbody></table>"
      ],
      "text/plain": [
       "Type               : zarr.core.Array\n",
       "Data type          : float64\n",
       "Shape              : (66600, 15000)\n",
       "Chunk shape        : (15000, 15000)\n",
       "Order              : C\n",
       "Read-only          : True\n",
       "Compressor         : Blosc(cname='lz4', clevel=5, shuffle=SHUFFLE, blocksize=0)\n",
       "Store type         : zarr.storage.DirectoryStore\n",
       "No. bytes          : 7992000000 (7.4G)\n",
       "No. bytes stored   : 51661593 (49.3M)\n",
       "Storage ratio      : 154.7\n",
       "Chunks initialized : 5/5"
      ]
     },
     "execution_count": 21,
     "metadata": {},
     "output_type": "execute_result"
    }
   ],
   "source": [
    "# # Read from array\n",
    "zarr_read_disk = zarr.open(\"./example-zarr\", mode=\"r\")\n",
    "zarr_read_disk.info"
   ]
  },
  {
   "cell_type": "markdown",
   "id": "7c21b40f",
   "metadata": {},
   "source": [
    "<font color=\"orange\"> Notice how compression changes, much higher Ratio. Chunks <10MB in size now</font>\n",
    "\n",
    "Sometimes chunks not even initialized?"
   ]
  },
  {
   "cell_type": "code",
   "execution_count": 22,
   "id": "af7e606f",
   "metadata": {},
   "outputs": [
    {
     "data": {
      "text/plain": [
       "100.0"
      ]
     },
     "execution_count": 22,
     "metadata": {},
     "output_type": "execute_result"
    }
   ],
   "source": [
    "zarr_read_disk[0, 100]"
   ]
  },
  {
   "cell_type": "markdown",
   "id": "6d5bfc21",
   "metadata": {},
   "source": [
    "### Let's test random access of chunks"
   ]
  },
  {
   "cell_type": "code",
   "execution_count": null,
   "id": "e8910bb9",
   "metadata": {},
   "outputs": [],
   "source": [
    "rand_indices = np.random.randint(low=0, high=15000, size=)"
   ]
  },
  {
   "cell_type": "code",
   "execution_count": 17,
   "id": "0ec72e9c",
   "metadata": {},
   "outputs": [
    {
     "name": "stdout",
     "output_type": "stream",
     "text": [
      "\u001b[34mexample-zarr\u001b[m\u001b[m         \u001b[34mtutorials\u001b[m\u001b[m            \u001b[34mzarr_python\u001b[m\u001b[m\r\n",
      "\u001b[34mexample.zarr\u001b[m\u001b[m         zarr-explore-1.ipynb\r\n"
     ]
    }
   ],
   "source": [
    "!ls"
   ]
  },
  {
   "cell_type": "code",
   "execution_count": null,
   "id": "ac5fed1f",
   "metadata": {},
   "outputs": [],
   "source": [
    "# # Check if reading from file == original array\n",
    "# import numpy as np\n",
    "\n",
    "# np.all(z[:] == z2[:])"
   ]
  },
  {
   "cell_type": "markdown",
   "id": "3f677c2a",
   "metadata": {},
   "source": [
    "#### <font color=\"orange\">Trying Compressors. Irrelevant</font>"
   ]
  },
  {
   "cell_type": "code",
   "execution_count": 18,
   "id": "c01532c3",
   "metadata": {},
   "outputs": [],
   "source": [
    "# Blosc is one of the preconditions of partial_decompress\n",
    "# https://zarr.readthedocs.io/en/stable/api/core.html\n",
    "from numcodecs import Blosc\n",
    "\n",
    "bloccc = Blosc(clevel=9)"
   ]
  },
  {
   "cell_type": "code",
   "execution_count": 19,
   "id": "65b78982",
   "metadata": {},
   "outputs": [],
   "source": [
    "z_compressed = zarr.array(zarr_index_list, compressor = bloccc)"
   ]
  },
  {
   "cell_type": "code",
   "execution_count": 20,
   "id": "361a415e",
   "metadata": {},
   "outputs": [
    {
     "data": {
      "text/plain": [
       "Blosc(cname='lz4', clevel=9, shuffle=SHUFFLE, blocksize=0)"
      ]
     },
     "execution_count": 20,
     "metadata": {},
     "output_type": "execute_result"
    }
   ],
   "source": [
    "z_compressed.compressor"
   ]
  },
  {
   "cell_type": "code",
   "execution_count": 21,
   "id": "7df34790",
   "metadata": {},
   "outputs": [
    {
     "data": {
      "text/plain": [
       "<zarr.core.Array (10000, 10000) int64>"
      ]
     },
     "execution_count": 21,
     "metadata": {},
     "output_type": "execute_result"
    }
   ],
   "source": [
    "z_compressed"
   ]
  },
  {
   "cell_type": "code",
   "execution_count": 22,
   "id": "9c1f8f66",
   "metadata": {},
   "outputs": [],
   "source": [
    "zarr.save('./example.zarr', z_compressed)"
   ]
  },
  {
   "cell_type": "code",
   "execution_count": 15,
   "id": "d9686342",
   "metadata": {},
   "outputs": [
    {
     "name": "stderr",
     "output_type": "stream",
     "text": [
      "\n",
      "KeyboardInterrupt\n",
      "\n"
     ]
    }
   ],
   "source": [
    "z2\n"
   ]
  }
 ],
 "metadata": {
  "kernelspec": {
   "display_name": "Python 3 (ipykernel)",
   "language": "python",
   "name": "python3"
  },
  "language_info": {
   "codemirror_mode": {
    "name": "ipython",
    "version": 3
   },
   "file_extension": ".py",
   "mimetype": "text/x-python",
   "name": "python",
   "nbconvert_exporter": "python",
   "pygments_lexer": "ipython3",
   "version": "3.10.6"
  }
 },
 "nbformat": 4,
 "nbformat_minor": 5
}
